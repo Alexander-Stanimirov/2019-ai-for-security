{
 "cells": [
  {
   "cell_type": "markdown",
   "metadata": {},
   "source": [
    "# 2 - Why using Machine Learning in Security?"
   ]
  },
  {
   "cell_type": "markdown",
   "metadata": {},
   "source": [
    "This notebook presents some examples explaining some of the reasons that led to the usage of Artificial Intelligence (in particular, Machine Learning techniques, in this case) in cyber security.\n",
    "\n",
    "---\n",
    "\n",
    "## SPAM DETECTION\n",
    "\n",
    "### Preparation\n",
    "\n",
    "- Download the 2007 TREC Public Spam Corpus from https://plg.uwaterloo.ca/~gvcormac/treccorpus07/ (255MB)\n",
    "- Read the \"Agreement for use\"\n",
    "- Set up the `datasets` directory\n",
    "- Untar the corpus in the `datasets` directory\n",
    "\n",
    "### Starting with the code...\n",
    "- create constants with the path of the folders containing the data"
   ]
  },
  {
   "cell_type": "code",
   "execution_count": 1,
   "metadata": {},
   "outputs": [],
   "source": [
    "DATA_DIR = 'datasets/trec07p/data/'\n",
    "LABELS_FILE = 'datasets/trec07p/full/index'"
   ]
  },
  {
   "cell_type": "markdown",
   "metadata": {},
   "source": [
    "- import nltk (\"Natural Language ToolKit\") and download the required packages.\n",
    "    - the `import` statement lets you gain access to code in another module\n",
    "    - `nltk` is a suite of libraries and programs for natural language processing (NLP)"
   ]
  },
  {
   "cell_type": "code",
   "execution_count": 2,
   "metadata": {},
   "outputs": [],
   "source": [
    "import nltk"
   ]
  },
  {
   "cell_type": "code",
   "execution_count": 3,
   "metadata": {},
   "outputs": [
    {
     "name": "stderr",
     "output_type": "stream",
     "text": [
      "[nltk_data] Error loading words: <urlopen error [Errno -2] Name or\n",
      "[nltk_data]     service not known>\n",
      "[nltk_data] Error loading stopwords: <urlopen error [Errno -2] Name or\n",
      "[nltk_data]     service not known>\n",
      "[nltk_data] Error loading punkt: <urlopen error [Errno -2] Name or\n",
      "[nltk_data]     service not known>\n"
     ]
    },
    {
     "data": {
      "text/plain": [
       "False"
      ]
     },
     "execution_count": 3,
     "metadata": {},
     "output_type": "execute_result"
    }
   ],
   "source": [
    "nltk.download('words')\n",
    "nltk.download('stopwords')\n",
    "nltk.download('punkt')"
   ]
  },
  {
   "cell_type": "markdown",
   "metadata": {},
   "source": [
    "- define functions to manage the email data (as of now, you don't really have to look at this code, you can run it as black-box)"
   ]
  },
  {
   "cell_type": "code",
   "execution_count": 4,
   "metadata": {},
   "outputs": [],
   "source": [
    "def flatten_to_string(parts):\n",
    "    \"\"\"\n",
    "    Combine the different parts of the email into a flat list of strings.\n",
    "    \"\"\"\n",
    "    ret = []\n",
    "    if type(parts) == str:\n",
    "        ret.append(parts)\n",
    "    elif type(parts) == list:\n",
    "        for part in parts:\n",
    "            ret += flatten_to_string(part)  # Recursion\n",
    "    elif parts.get_content_type == 'text/plain':\n",
    "        ret += parts.get_payload()\n",
    "    return ret"
   ]
  },
  {
   "cell_type": "code",
   "execution_count": 5,
   "metadata": {},
   "outputs": [],
   "source": [
    "def extract_email_text(path):\n",
    "    \"\"\"\n",
    "    Extract subject and body text from a single email file.\n",
    "    \"\"\"\n",
    "    # Load a single email from an input file\n",
    "    with open(path, errors='ignore') as f:\n",
    "        msg = email.message_from_file(f)\n",
    "    if not msg:\n",
    "        return \"\"\n",
    "\n",
    "    # Read the email subject\n",
    "    subject = msg['Subject']\n",
    "    if not subject:\n",
    "        subject = \"\"\n",
    "\n",
    "    # Read the email body\n",
    "    body = ' '.join(m for m in flatten_to_string(msg.get_payload()) if type(m) == str)\n",
    "    if not body:\n",
    "        body = \"\"\n",
    "\n",
    "    return subject + ' ' + body"
   ]
  },
  {
   "cell_type": "code",
   "execution_count": 6,
   "metadata": {},
   "outputs": [],
   "source": [
    "def load(path):\n",
    "    \"\"\"\n",
    "    Process a single email file into stemmed tokens.\n",
    "    \"\"\"\n",
    "    email_text = extract_email_text(path)\n",
    "    if not email_text:\n",
    "        return []\n",
    "\n",
    "    # Tokenize the message\n",
    "    tokens = nltk.word_tokenize(email_text)\n",
    "\n",
    "    # Remove punctuation from tokens\n",
    "    tokens = [i.strip(\"\".join(punctuations)) for i in tokens if i not in punctuations]\n",
    "\n",
    "    # Remove stopwords and stem tokens\n",
    "    if len(tokens) > 2:\n",
    "        return [stemmer.stem(w) for w in tokens if w not in stopwords]\n",
    "    return []\n"
   ]
  },
  {
   "cell_type": "markdown",
   "metadata": {},
   "source": [
    "- import other required modules\n",
    "    - `string`: module containing common string operations\n",
    "    - `email`: module for managing email messages\n",
    "    - `os`: module providing functions to navigate, create, delete and modify files and folders.\n",
    "    - `pickle`: implements binary protocols for serializing and de-serializing a Python object structure (basically, can be used to store variables)"
   ]
  },
  {
   "cell_type": "code",
   "execution_count": 7,
   "metadata": {},
   "outputs": [],
   "source": [
    "import string\n",
    "import email\n",
    "import os\n",
    "import pickle"
   ]
  },
  {
   "cell_type": "markdown",
   "metadata": {},
   "source": [
    "- define a list containing punctuation symbols (cast to `list` is required because `string.punctuation` returns a `str`)"
   ]
  },
  {
   "cell_type": "code",
   "execution_count": 8,
   "metadata": {},
   "outputs": [],
   "source": [
    "punctuations = list(string.punctuation)"
   ]
  },
  {
   "cell_type": "markdown",
   "metadata": {},
   "source": [
    "- define the set of stopwords (e.g. \"and\", \"or\", etc.)"
   ]
  },
  {
   "cell_type": "code",
   "execution_count": 9,
   "metadata": {},
   "outputs": [],
   "source": [
    "stopwords = set(nltk.corpus.stopwords.words('english'))"
   ]
  },
  {
   "cell_type": "code",
   "execution_count": 10,
   "metadata": {},
   "outputs": [
    {
     "data": {
      "text/plain": [
       "{'a',\n",
       " 'about',\n",
       " 'above',\n",
       " 'after',\n",
       " 'again',\n",
       " 'against',\n",
       " 'ain',\n",
       " 'all',\n",
       " 'am',\n",
       " 'an',\n",
       " 'and',\n",
       " 'any',\n",
       " 'are',\n",
       " 'aren',\n",
       " \"aren't\",\n",
       " 'as',\n",
       " 'at',\n",
       " 'be',\n",
       " 'because',\n",
       " 'been',\n",
       " 'before',\n",
       " 'being',\n",
       " 'below',\n",
       " 'between',\n",
       " 'both',\n",
       " 'but',\n",
       " 'by',\n",
       " 'can',\n",
       " 'couldn',\n",
       " \"couldn't\",\n",
       " 'd',\n",
       " 'did',\n",
       " 'didn',\n",
       " \"didn't\",\n",
       " 'do',\n",
       " 'does',\n",
       " 'doesn',\n",
       " \"doesn't\",\n",
       " 'doing',\n",
       " 'don',\n",
       " \"don't\",\n",
       " 'down',\n",
       " 'during',\n",
       " 'each',\n",
       " 'few',\n",
       " 'for',\n",
       " 'from',\n",
       " 'further',\n",
       " 'had',\n",
       " 'hadn',\n",
       " \"hadn't\",\n",
       " 'has',\n",
       " 'hasn',\n",
       " \"hasn't\",\n",
       " 'have',\n",
       " 'haven',\n",
       " \"haven't\",\n",
       " 'having',\n",
       " 'he',\n",
       " 'her',\n",
       " 'here',\n",
       " 'hers',\n",
       " 'herself',\n",
       " 'him',\n",
       " 'himself',\n",
       " 'his',\n",
       " 'how',\n",
       " 'i',\n",
       " 'if',\n",
       " 'in',\n",
       " 'into',\n",
       " 'is',\n",
       " 'isn',\n",
       " \"isn't\",\n",
       " 'it',\n",
       " \"it's\",\n",
       " 'its',\n",
       " 'itself',\n",
       " 'just',\n",
       " 'll',\n",
       " 'm',\n",
       " 'ma',\n",
       " 'me',\n",
       " 'mightn',\n",
       " \"mightn't\",\n",
       " 'more',\n",
       " 'most',\n",
       " 'mustn',\n",
       " \"mustn't\",\n",
       " 'my',\n",
       " 'myself',\n",
       " 'needn',\n",
       " \"needn't\",\n",
       " 'no',\n",
       " 'nor',\n",
       " 'not',\n",
       " 'now',\n",
       " 'o',\n",
       " 'of',\n",
       " 'off',\n",
       " 'on',\n",
       " 'once',\n",
       " 'only',\n",
       " 'or',\n",
       " 'other',\n",
       " 'our',\n",
       " 'ours',\n",
       " 'ourselves',\n",
       " 'out',\n",
       " 'over',\n",
       " 'own',\n",
       " 're',\n",
       " 's',\n",
       " 'same',\n",
       " 'shan',\n",
       " \"shan't\",\n",
       " 'she',\n",
       " \"she's\",\n",
       " 'should',\n",
       " \"should've\",\n",
       " 'shouldn',\n",
       " \"shouldn't\",\n",
       " 'so',\n",
       " 'some',\n",
       " 'such',\n",
       " 't',\n",
       " 'than',\n",
       " 'that',\n",
       " \"that'll\",\n",
       " 'the',\n",
       " 'their',\n",
       " 'theirs',\n",
       " 'them',\n",
       " 'themselves',\n",
       " 'then',\n",
       " 'there',\n",
       " 'these',\n",
       " 'they',\n",
       " 'this',\n",
       " 'those',\n",
       " 'through',\n",
       " 'to',\n",
       " 'too',\n",
       " 'under',\n",
       " 'until',\n",
       " 'up',\n",
       " 've',\n",
       " 'very',\n",
       " 'was',\n",
       " 'wasn',\n",
       " \"wasn't\",\n",
       " 'we',\n",
       " 'were',\n",
       " 'weren',\n",
       " \"weren't\",\n",
       " 'what',\n",
       " 'when',\n",
       " 'where',\n",
       " 'which',\n",
       " 'while',\n",
       " 'who',\n",
       " 'whom',\n",
       " 'why',\n",
       " 'will',\n",
       " 'with',\n",
       " 'won',\n",
       " \"won't\",\n",
       " 'wouldn',\n",
       " \"wouldn't\",\n",
       " 'y',\n",
       " 'you',\n",
       " \"you'd\",\n",
       " \"you'll\",\n",
       " \"you're\",\n",
       " \"you've\",\n",
       " 'your',\n",
       " 'yours',\n",
       " 'yourself',\n",
       " 'yourselves'}"
      ]
     },
     "execution_count": 10,
     "metadata": {},
     "output_type": "execute_result"
    }
   ],
   "source": [
    "stopwords"
   ]
  },
  {
   "cell_type": "markdown",
   "metadata": {},
   "source": [
    "- define a stemmer to be used for preprocessing text"
   ]
  },
  {
   "cell_type": "code",
   "execution_count": 11,
   "metadata": {},
   "outputs": [],
   "source": [
    "stemmer = nltk.PorterStemmer()"
   ]
  },
  {
   "cell_type": "code",
   "execution_count": 12,
   "metadata": {},
   "outputs": [
    {
     "data": {
      "text/plain": [
       "'speak'"
      ]
     },
     "execution_count": 12,
     "metadata": {},
     "output_type": "execute_result"
    }
   ],
   "source": [
    "stemmer.stem(\"speaking\")"
   ]
  },
  {
   "cell_type": "code",
   "execution_count": 13,
   "metadata": {},
   "outputs": [
    {
     "data": {
      "text/plain": [
       "'speak'"
      ]
     },
     "execution_count": 13,
     "metadata": {},
     "output_type": "execute_result"
    }
   ],
   "source": [
    "stemmer.stem('speaks')"
   ]
  },
  {
   "cell_type": "markdown",
   "metadata": {},
   "source": [
    "- collect the labels (i.e. the **real** categories) of the emails from the datasets. \n",
    "    - *ham* is mapped to 0 \n",
    "    - *spam* is mapped to 1"
   ]
  },
  {
   "cell_type": "code",
   "execution_count": 14,
   "metadata": {},
   "outputs": [],
   "source": [
    "labels = {}\n",
    "with open(LABELS_FILE) as f:\n",
    "    for line in f:\n",
    "        line = line.strip()\n",
    "        label, key = line.split()\n",
    "        labels[key.split('/')[-1]] = 1 if label.lower() == 'ham' else 0"
   ]
  },
  {
   "cell_type": "code",
   "execution_count": 15,
   "metadata": {},
   "outputs": [
    {
     "data": {
      "text/plain": [
       "dict"
      ]
     },
     "execution_count": 15,
     "metadata": {},
     "output_type": "execute_result"
    }
   ],
   "source": [
    "type(labels)"
   ]
  },
  {
   "cell_type": "markdown",
   "metadata": {},
   "source": [
    "#### Q: How many key-value pairs are in the dictionary?"
   ]
  },
  {
   "cell_type": "code",
   "execution_count": 16,
   "metadata": {},
   "outputs": [
    {
     "data": {
      "text/plain": [
       "75419"
      ]
     },
     "execution_count": 16,
     "metadata": {},
     "output_type": "execute_result"
    }
   ],
   "source": [
    "len(labels.keys())"
   ]
  },
  {
   "cell_type": "markdown",
   "metadata": {},
   "source": [
    "<div class=\"alert alert-block alert-success\">\n",
    "The keys have to be unique in python dictionaries (i.e. there cannot be equal keys).\n",
    "Thus, it is enought to print the number of keys to answer the question.\n",
    "The number of keys is obtained as the length of the object returned by the \"keys\" method.\n",
    "    \n",
    "Below, another possible solution.\n",
    "</div>"
   ]
  },
  {
   "cell_type": "code",
   "execution_count": 17,
   "metadata": {},
   "outputs": [
    {
     "data": {
      "text/plain": [
       "75419"
      ]
     },
     "execution_count": 17,
     "metadata": {},
     "output_type": "execute_result"
    }
   ],
   "source": [
    "len(labels.items())"
   ]
  },
  {
   "cell_type": "markdown",
   "metadata": {},
   "source": [
    "#### Q: How many distinct values are in the dictionary?"
   ]
  },
  {
   "cell_type": "code",
   "execution_count": 18,
   "metadata": {},
   "outputs": [
    {
     "data": {
      "text/plain": [
       "2"
      ]
     },
     "execution_count": 18,
     "metadata": {},
     "output_type": "execute_result"
    }
   ],
   "source": [
    "len(set(list(labels.values())))"
   ]
  },
  {
   "cell_type": "markdown",
   "metadata": {},
   "source": [
    "<div class=\"alert alert-block alert-success\">\n",
    "labels.values() returns all the values in the dictionary.\n",
    "We want the distinct values, so we cannot simply look at the length of that (as we did instead for the keys).\n",
    "    \n",
    "That's why we create a set (to remove duplicate values) and then look at the length of the set.\n",
    "\n",
    "The values are only 1 and 0 representing \"not spam\" and \"spam\" respectively.\n",
    "</div>"
   ]
  },
  {
   "cell_type": "markdown",
   "metadata": {},
   "source": [
    "#### Q: How many distinct keys are in the dictionary?"
   ]
  },
  {
   "cell_type": "code",
   "execution_count": 19,
   "metadata": {},
   "outputs": [
    {
     "data": {
      "text/plain": [
       "75419"
      ]
     },
     "execution_count": 19,
     "metadata": {},
     "output_type": "execute_result"
    }
   ],
   "source": [
    "len(list(labels.keys()))"
   ]
  },
  {
   "cell_type": "markdown",
   "metadata": {},
   "source": [
    "<div class=\"alert alert-block alert-success\">\n",
    "Same motivation as above, while printing the number of items.\n",
    "</div>"
   ]
  },
  {
   "cell_type": "markdown",
   "metadata": {},
   "source": [
    "- split the corpus in train set and test set"
   ]
  },
  {
   "cell_type": "code",
   "execution_count": 20,
   "metadata": {},
   "outputs": [],
   "source": [
    "filelist = os.listdir(DATA_DIR)\n",
    "\n",
    "TRAINING_SET_RATIO = 0.7\n",
    "X_train = filelist[:int(len(filelist)*TRAINING_SET_RATIO)]\n",
    "X_test = filelist[int(len(filelist)*TRAINING_SET_RATIO):]"
   ]
  },
  {
   "cell_type": "markdown",
   "metadata": {},
   "source": [
    "#### Q: Why do we split the data?"
   ]
  },
  {
   "cell_type": "markdown",
   "metadata": {},
   "source": [
    "<div class=\"alert alert-block alert-success\">\n",
    "When we train a model, we use the training test but then, in order to measure its actual performance, we use the test set to check whether the model is capable to generalize to previously unseen entries (e.g. in this case, whether it can detect spam emails it was not trained on).\n",
    "</div>"
   ]
  },
  {
   "cell_type": "markdown",
   "metadata": {},
   "source": [
    "#### Q: How many elements are in `X_train`?"
   ]
  },
  {
   "cell_type": "code",
   "execution_count": 21,
   "metadata": {},
   "outputs": [
    {
     "data": {
      "text/plain": [
       "52793"
      ]
     },
     "execution_count": 21,
     "metadata": {},
     "output_type": "execute_result"
    }
   ],
   "source": [
    "len(X_train)"
   ]
  },
  {
   "cell_type": "markdown",
   "metadata": {},
   "source": [
    "<div class=\"alert alert-block alert-success\">\n",
    "It's a list, we can just print its length\n",
    "</div>"
   ]
  },
  {
   "cell_type": "markdown",
   "metadata": {},
   "source": [
    "#### Q: which is the type of the elements?"
   ]
  },
  {
   "cell_type": "code",
   "execution_count": 22,
   "metadata": {},
   "outputs": [
    {
     "data": {
      "text/plain": [
       "str"
      ]
     },
     "execution_count": 22,
     "metadata": {},
     "output_type": "execute_result"
    }
   ],
   "source": [
    "type(X_train[0])"
   ]
  },
  {
   "cell_type": "markdown",
   "metadata": {},
   "source": [
    "<div class=\"alert alert-block alert-success\">\n",
    "This isn't really a solution, since you cannot be sure that all the elements are of the same type (remember, in python you can have lists containing elements of different types).\n",
    "With the cell above you simply know that the first element is a string.\n",
    "</div>"
   ]
  },
  {
   "cell_type": "code",
   "execution_count": 23,
   "metadata": {},
   "outputs": [
    {
     "data": {
      "text/plain": [
       "{str}"
      ]
     },
     "execution_count": 23,
     "metadata": {},
     "output_type": "execute_result"
    }
   ],
   "source": [
    "set([type(x) for x in X_train])"
   ]
  },
  {
   "cell_type": "markdown",
   "metadata": {},
   "source": [
    "<div class=\"alert alert-block alert-success\">\n",
    "This is one actual solution.\n",
    "\n",
    "It consits in creating a list which is as long as the original one (X_train) and in which each element represents the type of the corresponding element in X_train.\n",
    "Then, converting this new list into a set we can keep all the distinct types appearing in X_train.\n",
    "</div>"
   ]
  },
  {
   "cell_type": "markdown",
   "metadata": {},
   "source": [
    "---"
   ]
  },
  {
   "cell_type": "markdown",
   "metadata": {},
   "source": [
    "## SPAM DETECTION WITH BLACKLISTED WORDS"
   ]
  },
  {
   "cell_type": "markdown",
   "metadata": {},
   "source": [
    "- We have to tell the system which words are *spam* and which are *ham*"
   ]
  },
  {
   "cell_type": "code",
   "execution_count": 24,
   "metadata": {},
   "outputs": [],
   "source": [
    "spam_words = set()\n",
    "ham_words = set()"
   ]
  },
  {
   "cell_type": "code",
   "execution_count": 25,
   "metadata": {},
   "outputs": [
    {
     "name": "stdout",
     "output_type": "stream",
     "text": [
      "Blacklist successfully built/loaded\n"
     ]
    }
   ],
   "source": [
    "if not os.path.exists('blacklist.pkl'):\n",
    "    for filename in X_train:\n",
    "        path = os.path.join(DATA_DIR, filename)\n",
    "        if filename in labels:\n",
    "            label = labels[filename]\n",
    "            stems = load(path)\n",
    "            if not stems:\n",
    "                continue\n",
    "            if label == 1:\n",
    "                ham_words.update(stems)\n",
    "            elif label == 0:\n",
    "                spam_words.update(stems)\n",
    "            else:\n",
    "                continue\n",
    "    blacklist = spam_words - ham_words\n",
    "    pickle.dump(blacklist, open('blacklist.pkl', 'wb'))\n",
    "else:\n",
    "    blacklist = pickle.load(open('blacklist.pkl', 'rb') )\n",
    "\n",
    "print('Blacklist successfully built/loaded')"
   ]
  },
  {
   "cell_type": "markdown",
   "metadata": {},
   "source": [
    "- Let's see some of them..."
   ]
  },
  {
   "cell_type": "code",
   "execution_count": 26,
   "metadata": {},
   "outputs": [
    {
     "data": {
      "text/plain": [
       "{\"style='margin-left:42.0pt\",\n",
       " 'www.massiveservicesmedia.com/i/yz67zf/ewovpe36/wuror_4131/tecob_1.gif',\n",
       " 'p=8bm109-1',\n",
       " 'has/been/steadily/extending/its/range./sightings/now/commonly/occur/in/california',\n",
       " 'logitech',\n",
       " 'ϼƻִ취',\n",
       " 'steam-pip',\n",
       " 'sqnawlvhic8gq2hpbmegq2hlbmdoywkgsw50zxjuyxrpb25hbcbub3lzicygr2lmdhmgrmfpcian',\n",
       " 'hilario',\n",
       " 'ι̬',\n",
       " '7998',\n",
       " 'www.2000laneswatch.com/i/8ztvno/mctnfceq/dokix_4935/mufey_10.bmp',\n",
       " 'id=lw_1182947048_2',\n",
       " 'mebut',\n",
       " 'stobhd.guideleper.info',\n",
       " 'dutch//mot//and/german//motte//all/meaning//moth',\n",
       " 'unalloy',\n",
       " '1875',\n",
       " 'incubando',\n",
       " 'mso-list-id:1881163078',\n",
       " 'viagra50mg',\n",
       " 'www.picrangeinternet.com/i/oi6d2t/wpvx8ah7/somum_6396/nocuz_11.jpg',\n",
       " 'fashuntri.com/t/kg5gw0skt/13158',\n",
       " 'alabama///br//sweet//home/alabama//unoffici',\n",
       " 'comprehensivecoaching.com',\n",
       " '1993/ref',\n",
       " '104.1',\n",
       " 'rubrip',\n",
       " 'cypselid',\n",
       " 'bersichtschwarz',\n",
       " 'gatepost',\n",
       " 'rope/mak',\n",
       " 'forpenisenlarg',\n",
       " 'that=20',\n",
       " 'jethro',\n",
       " 'elekonich',\n",
       " 'latchkey',\n",
       " 't0nluvvpveu+dqogicagicagidxuqujmrsbjzwxsu3bhy2luzz0wignlbgxqywrkaw5nptagym9i',\n",
       " 'ottozelez.com/i/23_kja2bq5ej_bnv8ghksus3.gif',\n",
       " 'strenuou',\n",
       " 'servers71.bedroomwonders.net',\n",
       " 'fryinggav',\n",
       " 'charset=3dbig5',\n",
       " 'www.4ulanesdealer.com/i/1aeprf/uggeuany/unsub/1151_2.gif',\n",
       " 'atheruru',\n",
       " 'sibli',\n",
       " 'www.tagster.hk/index1.htm',\n",
       " 'www.aimpages.com/peytonrifuli',\n",
       " 'telealternate.com/nfosp',\n",
       " 'zhuang',\n",
       " 'researcher.i',\n",
       " 'teapot',\n",
       " 'oozydrats',\n",
       " 'abolitionists/from/new/england/and/pro/slavery/settlers/from/neighboring/missouri/rushed/to/the/territory/to/determine/if/kansas/would/become/a/free/state/or/a/slave/state./thu',\n",
       " 'lanespioneerarts.com/x/mjuxodm5ndk5|mzm2mjg4|chjvzhvjdhrlc3rwyw5lbebzcgvlzhkudxdhdgvybg9vlmnh|mjm0odi=|ng==|||.html',\n",
       " 'j.fersuson',\n",
       " 'fybn4x78',\n",
       " 'article/1',\n",
       " 'archaic',\n",
       " 'vornwissenschaft',\n",
       " 'spacer_2',\n",
       " 'www.yelectronnetwork4u.com/i/y3d3bu/ruw4mpcb/vebon_5544/wohov_1.jpg',\n",
       " 'rsespezial-themen',\n",
       " 'started.drunk',\n",
       " 'height=3d625',\n",
       " 'educati',\n",
       " 'www.fallsection.hk',\n",
       " 'geocon',\n",
       " 'chiswick',\n",
       " 'ȃłihttp',\n",
       " '480211091',\n",
       " 'stickbring.com/u/2305/producttestpanel',\n",
       " 'parentspar',\n",
       " 'yubam.kou.edu.tr',\n",
       " 'georgia.for',\n",
       " \"l'équip\",\n",
       " 'ballforsch',\n",
       " 'tocowardli',\n",
       " 'wer91',\n",
       " 'www.4ulanesdealer.com/i/prhels/gfcwhjup/haxod_5854/zetat_4.jpg',\n",
       " 'www.lookagifthorse.com/images//1.gif',\n",
       " '1,903.95',\n",
       " 'imgnation.net/images/krwa.jpg',\n",
       " 'tet.unternehm',\n",
       " 'the00*soni',\n",
       " '447988601135',\n",
       " 'www.massiveservicesmedia.com/i/l4ubtl/dv5kbdmf/kovut_5814/bacot_11.jpg',\n",
       " 'pics.ebaystatic.com/aw/pics/servicesoverhaul/hub/smhdrservoverhaul_110x30.gif',\n",
       " 'aq-qj9-2-knc-8j9ul',\n",
       " 'leonel',\n",
       " 'sinuatu',\n",
       " 'goali',\n",
       " 'www.accesssender2000.com/f/nflvk02u/jmvxpj/1082_1.jpg',\n",
       " 'massiveservices.com/x/mjuxodm5ndk5|mjkwndmw|chjvzhvjdhrlc3rwyw5lbebzcgvlzhkudxdhdgvybg9vlmnh|mti5mtm3|ng==|mtywmg==|mjewma==|njuwoq==.html',\n",
       " 'cial',\n",
       " '5.з7ҫ',\n",
       " 'elov',\n",
       " 'g4-sev-5-m0c-8jdp',\n",
       " '10.1642',\n",
       " 'way.numb',\n",
       " 'it/is/brood/parasit',\n",
       " 'full-throat',\n",
       " 'id=lw_1180024976_6',\n",
       " 'visualanchor.com/images/kecod_5821/yuwig_6.jpg',\n",
       " 'agudeza',\n",
       " 'c1al1',\n",
       " 'mydishnow',\n",
       " 'hope_h_13',\n",
       " 'r.montague.29-93f74f3-63a7.speedy.uwaterloo.ca.-producttestpanel',\n",
       " 'sungspezial-themen',\n",
       " 'cleelum',\n",
       " 'ifetim',\n",
       " 'ricettacolo',\n",
       " 'ѧա༼ߣ',\n",
       " '܂oŗvԃƃa肾',\n",
       " 'neomatched.net/oajxhjdnfl.gif',\n",
       " 'm=116393',\n",
       " 'rightfat',\n",
       " 'seder',\n",
       " 'networkrange.com/cgi-bin/open_email1.cgi',\n",
       " 'boreal',\n",
       " '655400',\n",
       " 'viburnum/ichangens',\n",
       " 'toneupd',\n",
       " 'demoni',\n",
       " 'ntg67.com/track/rd.php/4253346/4405/0702-h2-iautsp/2720',\n",
       " 'code-sign',\n",
       " 'evennot',\n",
       " 'cquote/ladybird',\n",
       " 'www.uab.edu',\n",
       " 'oviorum',\n",
       " 'intelligencereport.com',\n",
       " 'ayiti',\n",
       " 'rthur',\n",
       " 'ժתʒʽʵ۵绰ڽ',\n",
       " 'towatch',\n",
       " 'mediogri',\n",
       " '4mmx2',\n",
       " 'g4-kd0-3-grl-8jdp',\n",
       " 'asso',\n",
       " '10:17:49',\n",
       " '1067',\n",
       " 'staley',\n",
       " 'mso-yfti-lastrow',\n",
       " 'atkinson',\n",
       " 'flashfxp',\n",
       " 'width=3d=2264=22',\n",
       " 'lonestar',\n",
       " 'drive-thrusunshine.com/c/890914/opyt1zzy2',\n",
       " 'nm/bc921245/ky14',\n",
       " 'box-coach',\n",
       " 'ϵ3˷',\n",
       " 'dcoyl',\n",
       " '4ⷢҿͻн',\n",
       " 'hgtv',\n",
       " 'virenvergleich',\n",
       " 'g4-pit-1-k2u-8jdp',\n",
       " 'ia36akrbh4a0q32++joyahhj+poapeefgdhfsdejd0aa9afigz5whv6ugh+ecbwgnlioprmo',\n",
       " 'entlarvt',\n",
       " 'indler',\n",
       " 'g10986745',\n",
       " 'ensis.jpg',\n",
       " 'ignac',\n",
       " 'thinki',\n",
       " 'װƱ',\n",
       " 'brocton',\n",
       " 'u.s.s.r',\n",
       " 'derusawirtschaftverr',\n",
       " 'sunnyturtle.com/t/q',\n",
       " 'nietzsche/sac/eize1/brookhaven',\n",
       " 'misin',\n",
       " 'id=3d=22table_01',\n",
       " 'pirum',\n",
       " 'quinones1quinon',\n",
       " 'ǝv܂',\n",
       " 'dauber',\n",
       " '1+7a97qmpgjypgq1xnpkvp7iureiyo28/rb4tuc0ztkqx/pgxr3io6hp1spit9hpwttyo6zo3s/',\n",
       " 'keavi',\n",
       " 'udget',\n",
       " 'www.massiveservicesmedia.com/i/h2gyg6/dj1lsle0/goxux_7932/pewer_3.gif',\n",
       " '1769',\n",
       " '9bcc3d',\n",
       " 'osbeak',\n",
       " 'clukoemo.com',\n",
       " 'ܼࡢ˾ܡְܾ',\n",
       " 'millefolium',\n",
       " 'journalismu',\n",
       " '17:11:37',\n",
       " '505,469',\n",
       " 'bastidor',\n",
       " 'inumb',\n",
       " 'slant',\n",
       " 'aktienhndl',\n",
       " 'ˣ',\n",
       " 'haftvassa.com/t/qdrf2xpmu/89021',\n",
       " 'graphiccommon.com/mesapsd',\n",
       " 'www.adaindo.com/shop/index.htm',\n",
       " 'usur',\n",
       " 'noctiluca',\n",
       " \"they'dbear\",\n",
       " 'target=/vwdguest/default.asp',\n",
       " 'cudgelsolutions28.com/gkhd5/1kk5q/yojyc1',\n",
       " 'bhkl',\n",
       " 'r=3d=22=23808080=22',\n",
       " '0-4-qjt-8jdp',\n",
       " 'mpimg-berlin-dahlem.mpg.d',\n",
       " 'www.lopooko.com/remov',\n",
       " 'planless',\n",
       " 'image=f9jqzvvi3.png',\n",
       " 'michilimackinac',\n",
       " 'upbeargrain.com/t/ko38a22jn/12645',\n",
       " 'кʵҵչ\\u07b9˾˾϶ɸݿͻڡݻ',\n",
       " 'handout',\n",
       " 'poelgeest',\n",
       " 'bas-page-clear',\n",
       " 'usr/libexec/getti',\n",
       " 'b8e',\n",
       " 'cheaha',\n",
       " 'obsequiamo',\n",
       " 'ya2no8',\n",
       " 'morgen',\n",
       " 'themab',\n",
       " 'concentrarsi',\n",
       " 'g4-miv-3-6mp-8jdp',\n",
       " 'drivethrusunshine.com',\n",
       " 'wheelstep.com/t/r0',\n",
       " '6je',\n",
       " 'dildo',\n",
       " 'www.dailylanebox.com/i/sg_1ta/hqirfa1s/sadag_6516/nuduj_5.bmp',\n",
       " 'sq_mi',\n",
       " 'width=327',\n",
       " 'poesi',\n",
       " 'butig84999qkrtj',\n",
       " 'hasth',\n",
       " 'netto-ratgeb',\n",
       " 'verification103unit',\n",
       " 'i=11217',\n",
       " 'www.fastascend.com/i/si1ugq/lfu1w7fc/cehuj_6646/fubes_22.gif',\n",
       " 'carbid',\n",
       " 'knvk.fiscalyearlifted.com',\n",
       " 'established_da',\n",
       " 'schluckt',\n",
       " 'human/modifi',\n",
       " 'the/head/of/the/church/is/known/as/the/president./together/with/his/two/counselor',\n",
       " 'heavywer',\n",
       " 'omikron',\n",
       " 'www.accesssender2000.com/i/sklfgt/izqbuzxb/favis_6120/jujaf_10.bmp',\n",
       " 'r.montague.25-93e1c23-124c.speedy.uwaterloo.ca.-producttestpanel',\n",
       " 'unexp',\n",
       " 'disperazion',\n",
       " 'harstal',\n",
       " 'bankerfinance-info.com/080e13111f424232021e155c0705130617001e1d1d5c11130e40404147440e4344424a47460e400e444345414a4b0e08.aspx',\n",
       " 'ҵĵд봦',\n",
       " 'nkosfspg1284755bhtlawqizxkkzdcwa246794585jmflpjfhdctzzxgfvwhufdvtsdwjkbwez',\n",
       " 'lanes2u.com/images/ziput_4934/modoj_9.08',\n",
       " 'riego',\n",
       " 'moneey',\n",
       " 'lauschangriffdebattenpanorama',\n",
       " 'fulvigula',\n",
       " 'sequen',\n",
       " 'width=3d=2276=22',\n",
       " 'forcefu',\n",
       " '1.ٷ',\n",
       " '22arial',\n",
       " 'leek',\n",
       " 'bottlewaltz',\n",
       " 'ibanesto.hk/particulares/loginparticulares_files/lobanestoa.gif',\n",
       " 'batang',\n",
       " 'www.fileplanet.com/promotions/pirate_generic/generic_email.htm',\n",
       " 'low-qual',\n",
       " 'species////p.///atricapilla//binomial///poecile/atricapilla/binomial_authority////linnaeu',\n",
       " 'looseyarn.com/u/757/producttestpanel',\n",
       " 'persiana',\n",
       " 'bulat',\n",
       " 'jmh',\n",
       " 'northumbrian',\n",
       " 'shitcan',\n",
       " 'www.countriesquest.com',\n",
       " '93lunar',\n",
       " 'www.americantitlenld.com',\n",
       " 'according/to/the/hervarar/saga',\n",
       " 'armin_curb_unhosted/images/garmin_curb_122806_06.jpg',\n",
       " 'snakinggo',\n",
       " 'ְ',\n",
       " '2.89',\n",
       " 'lonvig',\n",
       " 'slȓv',\n",
       " 'netscape.net',\n",
       " 'cybldcbkj2v1ecbtjmvjaxjjo21lcy48yni+icagicagpgjypiagicagidxzdhjvbmc+txvz',\n",
       " 'arcachon',\n",
       " 'unitĺ',\n",
       " 'www.accesssender2000.com/i/ilhftx/6c673nki/vajib_6564/rosem_3.jpg',\n",
       " 'samenumb',\n",
       " 'integrit',\n",
       " 'www.www.fastascend.com/f/g9omivot/e8ggom/bu_64_990_unsub.jpg',\n",
       " 'justizimm',\n",
       " 'amplif',\n",
       " 'padding:12px',\n",
       " 'janel',\n",
       " 'ibbean',\n",
       " 'postingpros-info.net/080e16111d001f1311193201021717160b5c0705130617001e1d1d5c11130e46474a43440e4344414143470e400e4a47414242430e08.aspx',\n",
       " 'accesssender.com/x/mjuxodm5ndk5|mzezmzyy|chjvzhvjdhrlc3rwyw5lbebzcgvlzhkudxdhdgvybg9vlmnh|ndi=|ng==|||.html',\n",
       " 'heavythi',\n",
       " 'logansport',\n",
       " '909,135',\n",
       " 'viddymor',\n",
       " 'mainstreamoper',\n",
       " 'ook.com/t/k0q3xqld/6725=22',\n",
       " 'habenforsch',\n",
       " 'mso-bidi-theme-font',\n",
       " 'www.fileplanet.com/promotions/worldofwarcraft/email/images/patch_r3_c2.jpg',\n",
       " '1970.00',\n",
       " 'ѰĹ',\n",
       " 'mapungubw',\n",
       " 'napanoch',\n",
       " 'cjki6cixm5fnfrskm9wdg3zd4gquaaw3epum+7j9ahzcz6rbhdvdxvbe863bz7cozjnhkvwg',\n",
       " 'olin',\n",
       " 'megalith',\n",
       " 'radian/9',\n",
       " 'dcolumbus99',\n",
       " 'viddyfat',\n",
       " 'phaneropleurida',\n",
       " 'id=3dtable187',\n",
       " 'kfz-mitmachen',\n",
       " 'rochefoucault',\n",
       " 'vksiabggj4695sunhutprocquwvrcefsiqmfbkl47265444961zmoytiicthxtkhcvnyjyvtzh',\n",
       " 'nosopsyllu',\n",
       " 'manicha',\n",
       " 'molensk',\n",
       " \"style='font-styl\",\n",
       " 'cynoxylon',\n",
       " 'www.direct2drive.com/email/_img/headers/memorial2007_640x200.jpg',\n",
       " 'lanesdealerbiz.com/x/mjuxodm5ndk5|ma==|chjvzhvjdhrlc3rwyw5lbebzcgvlzhkudxdhdgvybg9vlmnh|mziyndc=|ng==|ntixoq==|nzkwna==|ntg0nq==.html',\n",
       " '170.5/km',\n",
       " 'l5ϳ뻻\\u0379߳ʹ',\n",
       " 'subformulario',\n",
       " 'chstkoalitionspolitik',\n",
       " 'www.jetmix.cd/index1.htm',\n",
       " 'ccleaner',\n",
       " 'www.2000laneswatch.com/f/91_uzxnd/vkma1p/844_2.jpg',\n",
       " 'Oc',\n",
       " 'www.4ulanesdealer.com/i/knanlz/yyc8kgyf/nuwuv_5845/lalev_7.jpg',\n",
       " 'maitr',\n",
       " 'delinea',\n",
       " '470,9,566,25',\n",
       " '˰ʋ\\u07fbʵѵʺҵ',\n",
       " 'drogenkurierebl',\n",
       " 'melittida',\n",
       " 'gllvv8nuupqumkwews-ar0mqsetq2m9eticadn-a4m-buxkeigzbqbhecp0ebbdand-aia3f',\n",
       " 'allpczon',\n",
       " 'ass=3dstyle46',\n",
       " 'ica8vfigdkfsawdupwjvdhrvbt4nciagicagicagicagicagicagicagpfreig5vv3jhcd5vpc9u',\n",
       " 'id=lw_1180005709_0',\n",
       " 'invertebr',\n",
       " 'mensen',\n",
       " '57378',\n",
       " 'torchlight',\n",
       " 'sdenn',\n",
       " '2006-03-16t12:45:00z',\n",
       " 'metalin',\n",
       " 'the/cradle/of/liberti',\n",
       " 'zootickle.com/t/qfjdw9y7j/226844=22',\n",
       " 'biotrov',\n",
       " 'almena',\n",
       " 'messaging.realage.com/external/images/pic1_emailcreative-v2.jpg',\n",
       " 'zomuadnndawlrer5h1qhsmfsu0jnqphgbn9ct/f70fthijjst1ethpcirflilf3kummpxr4dfwmb',\n",
       " '129,129,129',\n",
       " 'yfgilf.polleree.com',\n",
       " 'squad_lay_3.7.07_v2',\n",
       " 'bogfshxg.seriesperfor.com',\n",
       " '˹ѡ',\n",
       " 'brimley',\n",
       " 'schub',\n",
       " 'moonsto',\n",
       " '256,000',\n",
       " 'keyq3o9d8q9z9bqxq4lim6lwq3ll.cyberhome.hk',\n",
       " 'fdration',\n",
       " 'baneboom.com/t/qpnee_2lp/741890=22',\n",
       " 'images.approachlive.com/509756gti_02_7.jpg',\n",
       " 'amador',\n",
       " 'snakingw',\n",
       " '7hukd2ggiwaslalzwgmtbzdrk4wqvfuimmkflacry719bfi2rftqsoazqk33c35oozgnle2z184',\n",
       " 'speciat',\n",
       " 'www.4ulanesdealer.com/i/knanlz/yyc8kgyf/nuwuv_5845/wakes_3.jpg',\n",
       " 'l0160572757l',\n",
       " 'kasnak',\n",
       " 'pad10',\n",
       " '251839499///color///pink/name///tennessee/warbler/status///lc/status_ref////ref///name//iucn///database/entry/includes/justification/for/why/this/species/is/of///least/concern///ref//image///aug_5_2006_tennesseewarb.jpg/regnum///animalia///phylum///chordata/classis///aves/ordo///passeriformes/familia///parulidae///genus///vermivora/species////v./peregrina//binomial///vermivora/peregrina///binomial_authority////wilson',\n",
       " 'mhhunvouasgqlljagcqbge9qenernpnflqbbbrmrmicbfqaazgnuolsad8kvyqjbudhbpq.b',\n",
       " 'factor/of/espa//ola',\n",
       " 'cafegiftcard4free.net',\n",
       " 'landless',\n",
       " '2007n',\n",
       " 'Զ·',\n",
       " 'embay',\n",
       " 'Ŵǹ',\n",
       " 'ia36akrz9fn3z8wc4cxh6woqbn0a0qapqbr0aujt6povnjufwevc1wcgdfoapeefgjyfnd8v',\n",
       " '3293/flag/quell/0743/class',\n",
       " '155,919/ref///ref',\n",
       " 'еҵ200711ʼִ¡2007˰ʵʩ˰ίᣨ200633šģ',\n",
       " 'asclepia',\n",
       " 'stu',\n",
       " 'windu',\n",
       " '˾еļч\\u05fc',\n",
       " 'myrangeinternet.com/x/mjuxodm5ndk5|mjk2odqw|chjvzhvjdhrlc3rwyw5lbebzcgvlzhkudxdhdgvybg9vlmnh|mti5mjyx|ng==|njmyoq==|otg3oa==|ntkznw==.html',\n",
       " 'koniglich',\n",
       " 'contaron',\n",
       " 'setkeys.hk/1.jpg',\n",
       " 'nebraska///buffalo/counti',\n",
       " 'matchedmail.com/mfsdmab',\n",
       " 'needlelik',\n",
       " 'fusarium',\n",
       " 'www.4ulanesdealer.com/i/wletur/kigtolzl/cehuj_6646/xixuk_15.jpg',\n",
       " 'www.unrivaledtoys.net',\n",
       " 'sky_right',\n",
       " 'or/available/sustainable/plan',\n",
       " 'neopren',\n",
       " 'www.massiveservicesmedia.com/i/l4ubtl/dv5kbdmf/kovut_5814/hilap_6.jpg',\n",
       " 'tutora',\n",
       " '10.0pt',\n",
       " 'well-l-l—',\n",
       " 'odomet',\n",
       " 'musiccommon.net/smfjhg',\n",
       " '˻ȫ\\U0003bd63ܻӳԭܻûʶǿ',\n",
       " 'poet//climate/the/climate/consists/of/hot/summers/and/mild/winters/in/the/eastern/part',\n",
       " 'toout.sometim',\n",
       " '199,000',\n",
       " 'ica8dgqgy29sc3bhbj0imiigy2xhc3m9iln0ewxlnyi+idxhighyzwy9imh0dha6ly93d3cu',\n",
       " '80,288',\n",
       " 'ction',\n",
       " 't.qsnews.net/a/8369/b/18797/c/45698/d/28/e/36/u/445808515',\n",
       " 'girli',\n",
       " 'onlingo',\n",
       " 'malayan',\n",
       " 'sasso',\n",
       " 'proof-read',\n",
       " 'whatthat',\n",
       " 'dauereinsatz',\n",
       " 'aufbauarbeiten',\n",
       " 'lym',\n",
       " 'ig8gcxvlcmvzihzlcibhbgd1bm8gzw4gzxnwzwnpywwsigfob3jhigvzig11esanciagicagicag',\n",
       " 'server88-208-200-203.live-servers.net/w',\n",
       " 'quotacheck',\n",
       " 'ju=fe9412737466017973',\n",
       " 'width=3d=221',\n",
       " 'athleteservic',\n",
       " 'init==tru',\n",
       " 'yogi',\n",
       " 'berwick/',\n",
       " 'musiccommon.net/mesapsd',\n",
       " 'wingat',\n",
       " 'mainhost',\n",
       " 'daimyo/oak/quercus/dentata',\n",
       " 'maggiori',\n",
       " 'ez34349739',\n",
       " 'small/linnaeu',\n",
       " 'rgao.accordingtosome.com',\n",
       " 'www.massiveservicesmedia.com/i/toilrc/ejodfftw/unsub/1151_2.gif',\n",
       " 'www.laptoptestpanel.com/unsub.php',\n",
       " '09738310',\n",
       " 'sudan_coa.gif',\n",
       " '266114704786',\n",
       " 'cartillas\\\\nd',\n",
       " 'dcsbb',\n",
       " '5,079',\n",
       " 'bottleand',\n",
       " 'precook',\n",
       " 'sp811',\n",
       " 'boat-train',\n",
       " '˰취ҵӧú\\U000e3b3eȡчч档',\n",
       " 'julienning/julienn',\n",
       " 'weltallverr',\n",
       " 'caines/jr///bishop/ma.//1988/./influence/of/blood/parasites/on/the///body/mass/of/passeriform/birds./journal/of/wildlife/diseases./vol//24',\n",
       " 'official.curtin.edu.au/history.html',\n",
       " 'inlineblu',\n",
       " 'chrismcompro.com/t/qp_f2xpmu/95324=22',\n",
       " 'comox',\n",
       " 'bank=20',\n",
       " 'definitiv',\n",
       " 'febrez',\n",
       " 'liketo',\n",
       " 'acalb6jlllhquzsprl1332qfujjwja',\n",
       " 'families.ov',\n",
       " 'beeleash.com/x/qcyc',\n",
       " '1840/subdivision_ranks///genera/subdivis',\n",
       " 'themaspiegel',\n",
       " 'dfw',\n",
       " 'e2718722h',\n",
       " 'milesourc',\n",
       " 'www.um.war',\n",
       " 'espe.basedrunjahsin.com',\n",
       " 'massiveservices.com/x/mjuxodm5ndk5|mzmxmzq5|chjvzhvjdhrlc3rwyw5lbebzcgvlzhkudxdhdgvybg9vlmnh|mjm0odi=|ng==|||.html',\n",
       " 'hardons..no',\n",
       " 'width=3d=22587=22',\n",
       " 'meshchera',\n",
       " 'bringenpolitik',\n",
       " 'atica',\n",
       " 'lanes4u.com/o/mjuxodm5ndk5|mze5ntc4|ote2mg==|mti0otm=|nzc1oa==.gif',\n",
       " '3ѧϰͻͨļլδѳͻļɣѧͻա',\n",
       " 'issues.=22',\n",
       " 'www.massiveservicesmedia.com/i/nn4jez/f3jgknuy/unsub/1631_unsub.jpg',\n",
       " 'haliaeetu',\n",
       " 'molen',\n",
       " 'carthag',\n",
       " 'bensenvil',\n",
       " '405/chenille/sue/fatigue/physic/cowlick',\n",
       " 'name=3d=22blu_fam_r4_c2=22',\n",
       " 'steuern',\n",
       " 'neou',\n",
       " '3d=22124=22',\n",
       " '8fp165-8fp165-iplacereport',\n",
       " 'cerebra',\n",
       " 'palmtreeset.com/ent/images/42plasma_modern_7.21.06_03.jpg',\n",
       " 'mm_swapimag',\n",
       " 'boardgreen.cd/2.jpg',\n",
       " '4.fax',\n",
       " 'viburnum/tinu',\n",
       " 'www.vevebbee.com',\n",
       " '1-mnm-8jdp',\n",
       " 'miraculo',\n",
       " 'eunuch',\n",
       " 'meixin',\n",
       " 'viiagrra',\n",
       " 'height=29',\n",
       " 'cmid=c441201455l67985u4854494',\n",
       " 'ulu',\n",
       " 'email3.gif',\n",
       " 'www.electrondomain.com/i/7xm_am/bvkj3ggo/vajib_6564/nejug_2.jpg',\n",
       " 'bfb073',\n",
       " 'ff0080',\n",
       " 'color=3dblack',\n",
       " 'comfybear',\n",
       " 'langhorn',\n",
       " 'jurisoft',\n",
       " 'nglish',\n",
       " 'eria',\n",
       " 'f06401170w',\n",
       " 'essayist',\n",
       " 'differstead.com/t/qnmc6-j-h/179697',\n",
       " 'عϵ',\n",
       " 'atentament',\n",
       " 'sharif',\n",
       " '01974351',\n",
       " 'r.devine.10-927b182-1854.speedy.uwaterloo.ca.-producttestpanel',\n",
       " 'berber',\n",
       " 'tarzana',\n",
       " 'crosswalkers316',\n",
       " 'geme',\n",
       " 'frankie.jpg/common',\n",
       " 'enviarlo',\n",
       " '1_e10',\n",
       " 'www.dailylanebox.com/i/ohi1dy/epwugcjb/gigac_6645/weror_10.gif',\n",
       " 'ultimateplasmatv',\n",
       " 'aussehen',\n",
       " 'campproblem.hk',\n",
       " 'yknet.yk.ca',\n",
       " 'binnen',\n",
       " 'margin-left:84.0pt',\n",
       " 'www.geocities.com/jarvisksk82191',\n",
       " 'wihtout',\n",
       " 'ey1z',\n",
       " 'leashhockey.com/u/20ee/producttestpanel',\n",
       " 'fryingbear',\n",
       " 'althwealthandhappiness.com/goldenkey/wunjotext.gif',\n",
       " 'bril',\n",
       " 'e/ind',\n",
       " 'depr',\n",
       " 'h4-won-1-ovm-678d',\n",
       " 'bc5',\n",
       " 'www.xelectronnetworkc8.com/i/vnwuip/zdfsy3sj/diyof_7556/xafec_11.jpg',\n",
       " 'christendom',\n",
       " 'yyiikh+h1ptu+isekiigoynvly8gfz4dr5/yyzqslc3m0tctcvwylzk5rn/5folzcxd2z3x3ivhr',\n",
       " 'ļְҵ',\n",
       " 'oozm0uyxnh3fmgj1mbxnw+gz/yk/q5/appct6f6ra/vkne0jmmzgnyp2/bg3rzrhimml3jqt',\n",
       " 'sunnyturtle.com/t/qe4de_2lp/654716',\n",
       " 'lanesdealerbiz.com/x/mjuxodm5ndk5|ma==|chjvzhvjdhrlc3rwyw5lbebzcgvlzhkudxdhdgvybg9vlmnh|mtc1ndgy|ng==|otkwna==|mtm2mzm=|odyxmg==.html',\n",
       " '36,992,490',\n",
       " 'gelknabed',\n",
       " 'ڱٰ챾ѵࡣλر롶',\n",
       " 'adieu',\n",
       " 'ɹ˾ʤļᡣ',\n",
       " 'border=3d0=22',\n",
       " 'weltallbl',\n",
       " '˾ִϣƽ̨\\u0530ȫݵʷϊӫ\\ue8ecṩȫλի',\n",
       " 'width=3d643',\n",
       " 'sto.uloempa.com',\n",
       " 'geobox/river//////////name/section///////////name///dnieper/native_name///other_name///other_name1///other_name2////////////map/section///////////map///dnipro/basin/river/town/international.png/map_size///map_caption///the///dnieper/s/drainage/basin//////////country/etc.///////////country///russia/country1///belarus/country2///ukraine/region///region1///city/////dorogobuzh/city1///smolensk/city2///mahilyow/city3///kiev/city4///cherkasy///city5///dnipropetrovsk//////////geography///////////length///2290/length_imperial///watershed///516300/watershed_imperial/////discharge_location///kherson/discharge_average///1670///discharge_average_imperial////////////source///////////source_name///glaciers/source_location///valdai/hills/source_country///russia///source_lat_d///55/source_lat_m///52/source_lat_s///00/source_lat_ns///n///source_long_d///33/source_long_m///41/source_long_s///00/source_long_ew///e///source_elevation///220/source_elevation_imperial////////////mouth///////////mouth_name///dnieper/delta/mouth_location///mouth_country///ukraine///mouth_region///mouth_country1///russia/mouth_lat_d///46/mouth_lat_m///30///mouth_lat_s///00/mouth_lat_ns///n/mouth_long_d///32/mouth_long_m///20///mouth_long_s///00/mouth_long_ew///e//////////tributaries///////////tributary_left///sozh/tributary_left1///desna/tributary_left2///trubizh///tributary_left3///supiy/tributary_left4///sula/tributary_left5///psel///tributary_left6///vorskla/tributary_left7///samara/tributary_left8///konka///tributary_left9///bilozerka/tributary_right///drut/tributary_right1///berezina///tributary_right2///prypiat/tributary_right3///teteriv/tributary_right4///irpin///tributary_right5///stuhna/tributary_right6///ros/tributary_right7///tiasmyn///tributary_right8///bazavluk/tributary_right9///inhulets//////////image////////////image///photo/cathedral/01063/vid/kievo/pecherskoj/lavry/so/storony/r.///dnepr.jpg/image_size///image_caption///the/dnieper/river/near/the/kiev///pechersk/lavra/in/kiev',\n",
       " 'rxnwyffhia0kicagicagicagicagicagicaglsbdb3bhigrlbcbszxk8yni+rxnwyffhic0guhjp',\n",
       " 'чʵרҵ˰աһֱԡϻƽȼͬչľ磬',\n",
       " 'wheeldaisy.com/t/ry5davxywb/77765',\n",
       " 'kcv.doubledforthe.com',\n",
       " 'hoagland',\n",
       " 'www.qualitystocks.net/newsletter/images/nav_blog.gif',\n",
       " 'Sm',\n",
       " 'massiveservicesdepot.com/x/mjuxodm5ndk5|mze5njqx|chjvzhvjdhrlc3rwyw5lbebzcgvlzhkudxdhdgvybg9vlmnh|mtywodew|ng==|oti4mg==|mti3njy=|nzk5ng==.html',\n",
       " 'mcbjzwxsugfkzgluzz0wigjvcmrlcj0wpg0kicagicagicagicagicagicagicagicagicagicag',\n",
       " 'i-fly-vip',\n",
       " 'www.visualanchor.com/images/unsub/495_unsub.jpg',\n",
       " 'moz-bord',\n",
       " 'io^psăo~j',\n",
       " 'onestopcareerc',\n",
       " '21.5',\n",
       " 'www.picrangeinternet.com/i/bbclsw/okd3uchh/vikab_3076/wekur_1.jpg',\n",
       " 'toolboxcommon.com/mesapsd',\n",
       " 'ungrantrecord.com/t/q3oc0vlqo/56212',\n",
       " 'salutation/hamster/destiny/dandy/120/yrf/bandage/carrageen/uruguay/meltwater/crackpot/festive/2545/farm/chiang/resist/1418/hjl/wvb/brim/analogue/sooth',\n",
       " 'cgi-script',\n",
       " 'رʩи߲աгڼʩ',\n",
       " 'anspo',\n",
       " 'id=3d7',\n",
       " 'ckrfs48235dqmyrsuvni38405amnojiajst98065oouknbifyv79725gtwohoffic',\n",
       " 'informieren',\n",
       " 'thedocsourc',\n",
       " 'prodotti',\n",
       " 'kimberly-clark',\n",
       " '9,968',\n",
       " 'suddenlyvr',\n",
       " 'u.p.',\n",
       " 'zeitgeschichtesex',\n",
       " 'sesqsԃzlebvx',\n",
       " 'beofr',\n",
       " '˾ϊ˰شʊȩ˾',\n",
       " 'fgqupxpqrrtavcgeh0wrwomed1xb2apvb.zedobqoiweh3fakndrdadqj9yupdkbchtu',\n",
       " 'ban_km2',\n",
       " 'successful=20',\n",
       " '26-9338b10-34b4.speedy.uwaterloo.ca.-producttestpanel',\n",
       " 'lccĳɱ',\n",
       " 'www.annabellephotography.com/join.htm',\n",
       " 'zunvb30686',\n",
       " '3γэͻ',\n",
       " 'esourc',\n",
       " '1651',\n",
       " 'ǃaoɍڂ܂b',\n",
       " '03:50:00',\n",
       " '2566274529',\n",
       " 'television-gam',\n",
       " 'sterling9sterl',\n",
       " 'www.birds.cornell.edu/allaboutbird',\n",
       " 'oftenin',\n",
       " 'width=28',\n",
       " 'matchedamused.net/nfosp',\n",
       " 'width=3d123',\n",
       " 'medicinal',\n",
       " 'theyfilthi',\n",
       " 'width=40',\n",
       " 'ѵɫի龰ʽѵעѵաĸ\\U000bcc32룬ͨʵʰ',\n",
       " 'sungversicherungrechnerpanopti.com',\n",
       " 'darkfloor.hk',\n",
       " '40speedy.uwaterloo.ca/2=22',\n",
       " 'rustypromdress.com/c/890126/opytzwx27',\n",
       " 'ark.com/t/kok3xqld/4227=22',\n",
       " 'bnrulyg.andgiveaminute.com',\n",
       " 'c=3d=22http',\n",
       " 'seamonkey',\n",
       " '2007.//ref///area_rank///31st//area_magnitude///1_e11//area///923,768//areami/////356,667/////do/not/remove/per//////percent_water///1.4//population_estimate///133,530,000/sup/1//sup///population_estimate_rank///9th//population_estimate_year///2005//population_census///140,003,542//not/approved///preliminary//ref',\n",
       " 'weltrechn',\n",
       " 'kjfatupb.thegirlscoutis.com',\n",
       " 'azur',\n",
       " 'www.2000laneswatch.com/f/db0z3fnn/jrtdnv/844_2.jpg',\n",
       " 'sandsackbl',\n",
       " 'but/there/are/crepuscular/and/diurnal/species./they/can/be/distinguished/from/butterflies/in/several/ways.//people/who/study/butterflies/and/or/moths/are/called/lepidopterists//the/study/of/butterflies/is/known/as/butterfli',\n",
       " 'womaan',\n",
       " '1649',\n",
       " 'florence/kenrick./the/marriage/was/as/successful/and/joyous/for/chamberlain/as/the/first',\n",
       " 'www.accesssender2000.com/i/phc9uo/bodyihxt/zuvot_7703/kobuc_1.jpg',\n",
       " 'mmune',\n",
       " 'umassonline.net',\n",
       " 'familycomputer.com',\n",
       " 'families.ha',\n",
       " 'zalupa',\n",
       " 'krt123',\n",
       " 'g4-nn4-2-iqy-8jdp',\n",
       " 'rogress',\n",
       " 'entsendensport',\n",
       " '251839499////color///pink/name///wombats/image///vombatus/ursinus//wombat/in/snow/.jpg///image_width///250px/image_caption///common/wombat/in/the/snow/regnum/////animalia/phylum///chordata/classis///mammalia/infraclassis///marsupialia/ordo/////diprotodontia/subordo///vombatiformes/familia////vombatidae////familia_authority///burnett',\n",
       " 'ysical',\n",
       " 'www.accesssender2000.com/f/0fhnkdhb/r0pdem/1082_1.jpg',\n",
       " '̵ǥҳ𤷤ƥޤ',\n",
       " 'crimsonghost6',\n",
       " 'endocranium',\n",
       " 'endbell.com/t/k5f3xqld/2710=22',\n",
       " 'k.foto.radikal.ru/0706/20/8af6316f7d17.gif',\n",
       " 'odd-look',\n",
       " 'ζԺ',\n",
       " 'canaan',\n",
       " 'ydavxywb/75169=22',\n",
       " 'phomealternate.net/oajxhjdnfl.gif',\n",
       " 'sdt-5000',\n",
       " 'www.limpiu.net/images//1.gif',\n",
       " 'llanvach',\n",
       " 'name=3d=22checkbox2=22',\n",
       " 'iyarbl',\n",
       " 'veritas//strength',\n",
       " 'mylanesdealer.com/o/mjuxodm5ndk5|mza0mzyw|njm1mq==|otk0nw==|ntk5ng==.gif',\n",
       " 'www.alikkee.com/remov',\n",
       " '2006.//ref//bradstreet/s/work/was/deeply/influenced/by/poet/guillaume/du/barta',\n",
       " 'innamonifolium',\n",
       " 'the/united/states/continues/to/import/up/to/8,620/tonnes//19/million/lb//of/orange/roughy/per/year./the/flesh/is/firm/with/a/mild/flavour//it/is/sold/skinned/and/fillet',\n",
       " 'japu',\n",
       " 'offerconfirm',\n",
       " 'auidpgbp0acgdfoapeefgdtoa5agfqdsoa9agvqbsim+agnqb/4vx+nsbj4u9afigz4aadah',\n",
       " 'www.zelectronnetwork3g.com/i/vqfxm0/ai7yf7je/vebon_5544/topih_5.jpg',\n",
       " 'abbey',\n",
       " 'sorrento',\n",
       " 'interazion',\n",
       " 'home/of/the/cantiaci/in/51/bc./ref/name//name////ref///the/extreme/west/of/the/modern/county/was/occupied/by/other/iron/age/tribes//the/regnenses/and/possibly/another/ethnic/group/occupying/the/weald./east/kent/became/one/of/the/kingdoms/of/the/jutes/during/the/fifth/century/ad//see/kingdom/of/kent//ref/name//kingdom////ref//and/the/area/was/later/known/as/cantia/from/about/730/and/cent/in/835./the/early/mediaeval/inhabitants/of/the/county/were/known/as/the/cantwara/or/kent/peopl',\n",
       " 'portalternate.com/jgy71tu/awer7gfv.gif',\n",
       " 'infopostcodelot',\n",
       " 'رͼաнеֺ',\n",
       " 'gereadi',\n",
       " 'border=3d=220',\n",
       " '41,733',\n",
       " 'donf.net',\n",
       " 'potlatch',\n",
       " 'poterti',\n",
       " 'clovelight.com/x/q9',\n",
       " '02757',\n",
       " 'e.nlarg',\n",
       " 'www.mioppoa.com',\n",
       " 'gettingfilthi',\n",
       " 'ymugdqogicagicagicagicbudwvzdhjvcybuzxdzbgv0dgvycybwb3igzxjyb3igbybxdwllcmug',\n",
       " 'which=20',\n",
       " 'cherard60',\n",
       " '1˾ı˰',\n",
       " 'soiution',\n",
       " 'wasout.and',\n",
       " 'denticl',\n",
       " 'sniffpass',\n",
       " 'dgfjdcwgbgllbi48l2zvbnq+pc9kaxy+pc9sat48bgk+pgrpdibhbglnbj0ianvzdglmesi',\n",
       " 'www.4ulanesdealer.com/i/revjmq/sbcbvdrw/wirul_5926/pilid_10.jpg',\n",
       " 'torbo',\n",
       " 'frankpepple_info',\n",
       " 'melilit',\n",
       " 'contrastada',\n",
       " 'ַɰض20ób302ң510405',\n",
       " 'uistr',\n",
       " 'anacoco',\n",
       " 'ȫֻ100ԫ',\n",
       " 'myhearthwithlove.com/lik',\n",
       " '36043',\n",
       " 'iron-lik',\n",
       " 'screwbean/fiucr/policeman/clove/sung/embezzle/zebra/dysplasia/neckline/highroad/fuwzndxi/christie/uftyhla/guarantor/monoid',\n",
       " 'tridimensional',\n",
       " 'calories/day',\n",
       " 'soucieus',\n",
       " 'matchedopen.com/smfjhg',\n",
       " 'thynned.com',\n",
       " 'bedrijf',\n",
       " 'cazzat',\n",
       " 'out.to',\n",
       " 'vulp',\n",
       " 'breathabl',\n",
       " 'weekcentury.hk',\n",
       " 'www.massiveservicesmedia.com/i/8iqyrj/outsxeih/unsub/998_unsub.jpg',\n",
       " 'fffecd',\n",
       " 'without/instrumental/accompaniment./horn',\n",
       " 'guava',\n",
       " 'ay.redoubt500.com/img/canonpowershot/ecs/lines/powershot10_lines_unhosted/i',\n",
       " 'psud',\n",
       " 'rhondasoft',\n",
       " 'fragan',\n",
       " 'nagpur',\n",
       " 'ains.=20h',\n",
       " 'ithic',\n",
       " 'portalternate.com/nmdsnmqq',\n",
       " '81,153',\n",
       " 'r.montague.25-9279f47-18cb.speedy.uwaterloo.ca.-producttestpanel',\n",
       " 'post-confer',\n",
       " 'iidae/br',\n",
       " 'text=000000',\n",
       " 'nearb',\n",
       " 'lighting-ga',\n",
       " 'established_',\n",
       " 'www.4ulanesdealer.com/i/fbdsox/of0psaww/miwok_5857/linur_9.jpg',\n",
       " 'agentenpanorama',\n",
       " 'says.often',\n",
       " 'peedy.uwaterloo.ca/2=22',\n",
       " 'cryobank',\n",
       " '7.²ʒŀƶ4',\n",
       " 'septuagenarian',\n",
       " 'pendriv',\n",
       " 'date/windchill/barley/eagleton/surigao/roloff/15/carma/departures/text/invasion/db/cellpadding/magnifique/these/avivtianjintokyotole/care/spoil/icon/testifi',\n",
       " \"partner'\",\n",
       " 'dontvertaligncellwithsp',\n",
       " 'pub/infob',\n",
       " 'bdcvd4xaxbpat6dbxngqks9qpu6qxhjagfeuhisehusvohyblihbl3-acmraqufqfhdqqg1b',\n",
       " 'adobek+mor',\n",
       " 'height=118',\n",
       " 'erlxsung',\n",
       " 'www.2000laneswatch.com/i/ugw3uh/az0p3_kc/nubub_7124/hixuj_40.gif',\n",
       " 'href=3d=22',\n",
       " 'taha',\n",
       " 'eb4714',\n",
       " 'wonderdrug',\n",
       " '1.0.0.7',\n",
       " 'orgasmzz',\n",
       " 'desko',\n",
       " 'eze',\n",
       " 'pyrifolia',\n",
       " 'cfu.net',\n",
       " '۳ƶ',\n",
       " 'billyboygo',\n",
       " 'day.redoubt500.com/img/kitchtableunhost',\n",
       " 'ŷӣҫнϸߵĺ빵ͨձҵĸٷչҫڶֳ',\n",
       " '40έȏ̒j',\n",
       " '1press.pdf',\n",
       " 'ȷȵнi̇ٷֱ',\n",
       " 'kaugummi-gesetzgro',\n",
       " 'babyfac',\n",
       " 'zzmkbne.kavri.net/b.php',\n",
       " '12-32-17-14-24-10',\n",
       " 'wettbewerb',\n",
       " 'discharge_average_imperi',\n",
       " 'name/usg',\n",
       " 'jorda',\n",
       " 'ĸֿʒ',\n",
       " 'attendez',\n",
       " 'via-rail',\n",
       " 'hobi',\n",
       " 'with/the/gwt/and/common/teal/s/male/nuptial/plumage/being/unique/and/very/complex',\n",
       " 'www.dailylanebox.com/i/r4kfpq/q5od6pub/miwok_5857/nafaz_11.jpg',\n",
       " 'viburnum/foetidum',\n",
       " 'states/tdd/stan/homegrown/xforward/00pm/senatorsalabamaalask/okay/gate/tls/elevations/hood/cversion/may/juanita/appeals/wyshak/definition/wash/insur',\n",
       " 'delaware.sv',\n",
       " '6.2007',\n",
       " 'trammaddol',\n",
       " 'text=3d=22=23000000=22',\n",
       " '2006/.//ref',\n",
       " 'milenio',\n",
       " 'comptrol',\n",
       " 'kostenlosesservice-angebot',\n",
       " 'www.thicklead.hk',\n",
       " 'anysometh',\n",
       " 'lanes4u.com/o/mjuxodm5ndk5|mza0mzc5|nda0mw==|nji2nw==|nzcwmw==.gif',\n",
       " 'starb',\n",
       " 'luttrel',\n",
       " 'lawtech',\n",
       " 'ju=fe8811787c600d7f77',\n",
       " '997',\n",
       " 'iy',\n",
       " 'flixversicherungsilberscheiben',\n",
       " '3-oz8-8jdp',\n",
       " 'yvepoggked.greatbigsports.com/del',\n",
       " 'www.pantalla.info/imgs/pel/300/4/4857.jpg',\n",
       " 'controlplex.com/mfsdmab',\n",
       " 'www.massiveservicesmedia.com/i/xr9hg0/fqbipgf2/ranep_5856/donir_1.jpg',\n",
       " 'cid:9cdfedbd=2e90ba73b5',\n",
       " 'serap',\n",
       " 'to/honour/his/maternal/grandfather./in/order/to/claim/his/wife/s/estate/in/scotland',\n",
       " 'dateien',\n",
       " 'lanesdealactive.com/x/mjuxodm5ndk5|mzq0nzu0|chjvzhvjdhrlc3rwyw5lbebzcgvlzhkudxdhdgvybg9vlmnh|ndi=|ng==|||.html',\n",
       " 'pensada',\n",
       " 'www.fool.com/n',\n",
       " 'efesio',\n",
       " 'www.www.fastascend.com/f/0h7qwn5b/ym3utt/bp_64_990_privacy.jpg',\n",
       " 'www.accesssender2000.com/i/0zcqmq/oisx0xj3/mepid_7758/vivuw_11.jpg',\n",
       " 'www.massiveservicesmedia.com/f/lvgvp17k/yzlr_t/1066_2.jpg',\n",
       " 'cellpadding=3d2',\n",
       " 'delightsom',\n",
       " '78/commensurate/whitaker/perfecter/428923/cavendish/anchoritism/06',\n",
       " 'a12113d0',\n",
       " '891/tusk/closet/dilapidate/7819/ablution/cunard/chess/coercive/umber/ukx/quinn/pony/sled/derby/furthermost/nettlesom',\n",
       " 'bwindi',\n",
       " 'evi.flpaty.com',\n",
       " 'politan',\n",
       " 'www.accesssender2000.com/i/0zcqmq/oisx0xj3/mepid_7758/cozab_2.jpg',\n",
       " 'callery/pear/pyrus/calleryana',\n",
       " 'e/lincolns_sparrow.html',\n",
       " '321984',\n",
       " 'superbb',\n",
       " 'fattygang',\n",
       " 'population_metro',\n",
       " 'mapuch',\n",
       " '42110',\n",
       " 'daemon20.nightstoys.net',\n",
       " 'theyat',\n",
       " '083306337562',\n",
       " 'www.lanespioneer2u.com/i/innsox/mqyuot8v/nagef_4187/pazob_1.gif',\n",
       " 'صդÿŷբ',\n",
       " 'brokenbow',\n",
       " 'keesoft',\n",
       " 'www.shajsud.com',\n",
       " 'lv/2fkpeifguid1tlbjcjifylk2xkyvqh1hxcdrddw0pe3fvbbyswpu5gaswkpwvn0n86gwarsw6',\n",
       " 'rutina',\n",
       " 'geocities.com/leightonwthg87',\n",
       " 'bildendengro',\n",
       " 'name//histori',\n",
       " 'dgap',\n",
       " 'henni',\n",
       " 'hoehen',\n",
       " 'tulsa/was/ranked/tenth/in//quality/of/life//by/th',\n",
       " 'addrass',\n",
       " 'thethat',\n",
       " 'uk/',\n",
       " 'ṩʵõľ֮\\u07fc.ǫ˴νרҵγѵʵܳ',\n",
       " '\\u0378ͣϲʱ״ͼؽȱº',\n",
       " '758678',\n",
       " 'utc_offset',\n",
       " 'rincipl',\n",
       " 'lesss',\n",
       " 'www.dailylanebox.com/i/8fryky/rlpocd21/mohuh_6723/fizad_4.gif',\n",
       " '04:49:25',\n",
       " '69,709',\n",
       " 'www.girlsgonewild.com/footer/t',\n",
       " 'mirael',\n",
       " 'dniprovska',\n",
       " 'was1,250',\n",
       " '2241494098',\n",
       " 'violence-pronedr',\n",
       " 'homophob',\n",
       " 'when/trout/cod/were/widely/recognised/as/a/separate/speci',\n",
       " 'wumt.westernunion.com/en/images/banners/wu_header_tagline.en.jpg',\n",
       " 'www.direct2drive.com/sites/base/_img/products/featured/playboy_med.jpg',\n",
       " 'hurikan_txt',\n",
       " 'γ̿ĳ',\n",
       " '2fc',\n",
       " '9ɷ֧\\u05fcصѵ㼰ƴ',\n",
       " '88293575',\n",
       " 'k.foto.radikal.ru/0706/d4/00a8b8c7726c.gif',\n",
       " 'xr7966807556',\n",
       " 'illiana',\n",
       " 'ibrat',\n",
       " 'unix85a.comeandvibe.com/image/iuprvtf.gif',\n",
       " 'blast4success',\n",
       " '7K',\n",
       " 'unitarian',\n",
       " '89.5.62.358',\n",
       " 'haifhyd.vityund.com',\n",
       " 'name=3d=22privacy=22',\n",
       " 'downcoward',\n",
       " 'drummondii',\n",
       " 'img215.imageshack.us/img215/4513/47926916ow7.gif',\n",
       " 'tqmсоաg/pсоա̨幤ҵܻὲʦat',\n",
       " 'laposte.net',\n",
       " 'giftproudli',\n",
       " 'and/followed/by/three/additional/sequels./unlike/its/predecessor',\n",
       " 'cellpadding=8',\n",
       " 'liberation/occurs/when/the/individual/soul//human/mind/spirit//or/j//vatman/recognizes/its/identity/with/the/ground/of/all/being///the/source/of/all/phenomenal/existence/known/as/brahman./it/is/technically/incorrect',\n",
       " '2.76',\n",
       " 'despoil',\n",
       " 'april/2/1805.//andersen/s/father/apparently/believed/that/he/might/be/related/to/nobl',\n",
       " 'hklow',\n",
       " '0da0721dacc2fad0344756eb9933483b538f2f0ea8',\n",
       " 'butout',\n",
       " 'bsa',\n",
       " 'normals.htm',\n",
       " '1026',\n",
       " 'oppbortun',\n",
       " 'setophaga',\n",
       " 'arachn',\n",
       " 'elizabet',\n",
       " 'leador',\n",
       " '1xx',\n",
       " 'lanes4u.com/x/mjuxodm5ndk5|ma==|chjvzhvjdhrlc3rwyw5lbebzcgvlzhkudxdhdgvybg9vlmnh|mzi5nje=|ng==|nda0mw==|nji2nw==|nzcwmw==.html',\n",
       " 'width=3d=22537=22',\n",
       " 'piii',\n",
       " 'autocontactor.com/app/r.asp',\n",
       " 'olemnli',\n",
       " 'allearth',\n",
       " 'cragsmoor',\n",
       " 'www.dailylanebox.com/f/bsmtjmly/yia9az/1243_2.jpg',\n",
       " 'www.pimsleurapproach.com/images/emails/nov06/footer.gif',\n",
       " 'cienc',\n",
       " 'edit.jpg',\n",
       " \"they'dearth\",\n",
       " 'sanitarium',\n",
       " 'rdo',\n",
       " 'mcaun0luk2yaeb-rzhfauftavgcfqr-bnnneft.q8emf-lxuofofbn0b.hfe4c-bps.',\n",
       " 'crownbrokerag',\n",
       " 'www.cgide.com',\n",
       " '20070523151336.8814.qmail',\n",
       " 'width=0',\n",
       " 'r3z',\n",
       " 'igiou',\n",
       " 'camu',\n",
       " 'arsaw',\n",
       " 'coininter.com/t/k9k3xqld/4672',\n",
       " 'vorabend',\n",
       " 'accesssenderworld.com/x/mjuxodm5ndk5|mjkwndq2|chjvzhvjdhrlc3rwyw5lbebzcgvlzhkudxdhdgvybg9vlmnh|mjm0odi=|ng==|||.html',\n",
       " 'g.=22',\n",
       " 'onlineinternet-tvshowcas',\n",
       " 'eigh',\n",
       " 'state=nv',\n",
       " 'tryonlinevip.info',\n",
       " 'comingl',\n",
       " 'kbb',\n",
       " 'www.4ulanesdealer.com/i/z8pviw/adtcqmtc/unsub/1600_unsub.gif',\n",
       " 'subjetivismo',\n",
       " 'soupi',\n",
       " 'llenb',\n",
       " 'celebrexa',\n",
       " '4003/hollingsworth/cornwall/petticoat/drugging/cannery/autocollimate/rax/preparatory/atropos/bertie/52',\n",
       " '6dfgx6v5t3',\n",
       " 'inshut',\n",
       " '1,184,212',\n",
       " 'www.paypalobjects.com/en_us/i/email/email_napsterlogo_110x34.gif',\n",
       " 'wo_matching2_5_7_07_04.gif',\n",
       " 'rla.wosilvermedal.com',\n",
       " 'nervio',\n",
       " 'cmd=_merchant-outsid',\n",
       " ...}"
      ]
     },
     "execution_count": 26,
     "metadata": {},
     "output_type": "execute_result"
    }
   ],
   "source": [
    "blacklist"
   ]
  },
  {
   "cell_type": "markdown",
   "metadata": {},
   "source": [
    "#### Q: How many elements in the set?"
   ]
  },
  {
   "cell_type": "code",
   "execution_count": 27,
   "metadata": {},
   "outputs": [
    {
     "data": {
      "text/plain": [
       "97939"
      ]
     },
     "execution_count": 27,
     "metadata": {},
     "output_type": "execute_result"
    }
   ],
   "source": [
    "len(blacklist)"
   ]
  },
  {
   "cell_type": "markdown",
   "metadata": {},
   "source": [
    "#### Q: Is \"spam\" in the set?"
   ]
  },
  {
   "cell_type": "code",
   "execution_count": 28,
   "metadata": {},
   "outputs": [
    {
     "data": {
      "text/plain": [
       "False"
      ]
     },
     "execution_count": 28,
     "metadata": {},
     "output_type": "execute_result"
    }
   ],
   "source": [
    "'spam' in blacklist"
   ]
  },
  {
   "cell_type": "markdown",
   "metadata": {},
   "source": [
    "<div class=\"alert alert-block alert-success\">\n",
    "Many ways to do this (e.g. see cell below), but this is the fastest.\n",
    "</div>"
   ]
  },
  {
   "cell_type": "code",
   "execution_count": 29,
   "metadata": {},
   "outputs": [
    {
     "name": "stdout",
     "output_type": "stream",
     "text": [
      "False\n"
     ]
    }
   ],
   "source": [
    "found = False\n",
    "for x in blacklist:\n",
    "    if x == 'spam':\n",
    "        found = True\n",
    "if found:\n",
    "    print(True)\n",
    "else:\n",
    "    print(False)"
   ]
  },
  {
   "cell_type": "markdown",
   "metadata": {},
   "source": [
    "#### Q: is \"fibonacci\" in the set?"
   ]
  },
  {
   "cell_type": "code",
   "execution_count": 30,
   "metadata": {},
   "outputs": [
    {
     "data": {
      "text/plain": [
       "True"
      ]
     },
     "execution_count": 30,
     "metadata": {},
     "output_type": "execute_result"
    }
   ],
   "source": [
    "'fibonacci' in blacklist"
   ]
  },
  {
   "cell_type": "markdown",
   "metadata": {},
   "source": [
    "#### Q: How long is the longest word in the set?"
   ]
  },
  {
   "cell_type": "code",
   "execution_count": 31,
   "metadata": {},
   "outputs": [
    {
     "data": {
      "text/plain": [
       "1984"
      ]
     },
     "execution_count": 31,
     "metadata": {},
     "output_type": "execute_result"
    }
   ],
   "source": [
    "max([len(x) for x in blacklist])"
   ]
  },
  {
   "cell_type": "markdown",
   "metadata": {},
   "source": [
    "<div class=\"alert alert-block alert-success\">\n",
    "This is similar to the example in which we had to find the type of all the elements in X_train: we create a list in which each element represents the lenght of one of the elements in blacklist, then we get the max from this new list.\n",
    "</div>"
   ]
  },
  {
   "cell_type": "markdown",
   "metadata": {},
   "source": [
    "#### Q: Which word is it?"
   ]
  },
  {
   "cell_type": "code",
   "execution_count": 32,
   "metadata": {},
   "outputs": [
    {
     "name": "stdout",
     "output_type": "stream",
     "text": [
      "geobox/river//////////name/section///////////name///dnieper/native_name///other_name///other_name1///other_name2////////////map/section///////////map///dnipro/basin/river/town/international.png/map_size///map_caption///the///dnieper/s/drainage/basin//////////country/etc.///////////country///russia/country1///belarus/country2///ukraine/region///region1///city/////dorogobuzh/city1///smolensk/city2///mahilyow/city3///kiev/city4///cherkasy///city5///dnipropetrovsk//////////geography///////////length///2290/length_imperial///watershed///516300/watershed_imperial/////discharge_location///kherson/discharge_average///1670///discharge_average_imperial////////////source///////////source_name///glaciers/source_location///valdai/hills/source_country///russia///source_lat_d///55/source_lat_m///52/source_lat_s///00/source_lat_ns///n///source_long_d///33/source_long_m///41/source_long_s///00/source_long_ew///e///source_elevation///220/source_elevation_imperial////////////mouth///////////mouth_name///dnieper/delta/mouth_location///mouth_country///ukraine///mouth_region///mouth_country1///russia/mouth_lat_d///46/mouth_lat_m///30///mouth_lat_s///00/mouth_lat_ns///n/mouth_long_d///32/mouth_long_m///20///mouth_long_s///00/mouth_long_ew///e//////////tributaries///////////tributary_left///sozh/tributary_left1///desna/tributary_left2///trubizh///tributary_left3///supiy/tributary_left4///sula/tributary_left5///psel///tributary_left6///vorskla/tributary_left7///samara/tributary_left8///konka///tributary_left9///bilozerka/tributary_right///drut/tributary_right1///berezina///tributary_right2///prypiat/tributary_right3///teteriv/tributary_right4///irpin///tributary_right5///stuhna/tributary_right6///ros/tributary_right7///tiasmyn///tributary_right8///bazavluk/tributary_right9///inhulets//////////image////////////image///photo/cathedral/01063/vid/kievo/pecherskoj/lavry/so/storony/r.///dnepr.jpg/image_size///image_caption///the/dnieper/river/near/the/kiev///pechersk/lavra/in/kiev\n"
     ]
    }
   ],
   "source": [
    "max_len = max([len(x) for x in blacklist])\n",
    "for word in blacklist:\n",
    "    if len(word) == max_len:\n",
    "        print(word)"
   ]
  },
  {
   "cell_type": "markdown",
   "metadata": {},
   "source": [
    "<div class=\"alert alert-block alert-success\">\n",
    "I scan all the blacklisted words and print the ones whose length is equal to the max length.\n",
    "</div>"
   ]
  },
  {
   "cell_type": "markdown",
   "metadata": {},
   "source": [
    "- But these are not really \"words\"... Lt's look only at the actual words"
   ]
  },
  {
   "cell_type": "code",
   "execution_count": 33,
   "metadata": {},
   "outputs": [],
   "source": [
    "from nltk.corpus import words\n",
    "word_set = set(words.words())\n",
    "word_blacklist = word_set.intersection(blacklist)"
   ]
  },
  {
   "cell_type": "code",
   "execution_count": 34,
   "metadata": {},
   "outputs": [
    {
     "data": {
      "text/plain": [
       "{'herbalist',\n",
       " 'bemask',\n",
       " 'occultist',\n",
       " 'sandalwood',\n",
       " 'manipular',\n",
       " 'pantaloon',\n",
       " 'krypton',\n",
       " 'munj',\n",
       " 'downbear',\n",
       " 'mainsail',\n",
       " 'circumpolar',\n",
       " 'transept',\n",
       " 'dhai',\n",
       " 'flung',\n",
       " 'tapia',\n",
       " 'despond',\n",
       " 'vodka',\n",
       " 'varanid',\n",
       " 'quorum',\n",
       " 'whitebark',\n",
       " 'inearth',\n",
       " 'bullhead',\n",
       " 'dern',\n",
       " 'hellish',\n",
       " 'smew',\n",
       " 'dactyl',\n",
       " 'dha',\n",
       " 'edict',\n",
       " 'accrual',\n",
       " 'strangler',\n",
       " 'rampart',\n",
       " 'rattail',\n",
       " 'ironclad',\n",
       " 'auk',\n",
       " 'pecker',\n",
       " 'shrew',\n",
       " 'ka',\n",
       " 'gatepost',\n",
       " 'atlas',\n",
       " 'shoo',\n",
       " 'wallboard',\n",
       " 'flavo',\n",
       " 'duller',\n",
       " 'latchkey',\n",
       " 'alarum',\n",
       " 'refound',\n",
       " 'jamb',\n",
       " 'starboard',\n",
       " 'shedder',\n",
       " 'duet',\n",
       " 'appet',\n",
       " 'outspread',\n",
       " 'breadroot',\n",
       " 'productid',\n",
       " 'chaplain',\n",
       " 'teapot',\n",
       " 'yip',\n",
       " 'reservoir',\n",
       " 'druggist',\n",
       " 'chambermaid',\n",
       " 'humanist',\n",
       " 'gambit',\n",
       " 'catchup',\n",
       " 'gynoecium',\n",
       " 'tinct',\n",
       " 'mincemeat',\n",
       " 'caudal',\n",
       " 'archaic',\n",
       " 'carob',\n",
       " 'prion',\n",
       " 'yin',\n",
       " 'sneer',\n",
       " 'regia',\n",
       " 'headstrong',\n",
       " 'stam',\n",
       " 'unaccustom',\n",
       " 'assi',\n",
       " 'sitch',\n",
       " 'smeek',\n",
       " 'verdant',\n",
       " 'cebid',\n",
       " 'dockyard',\n",
       " 'silverback',\n",
       " 'lintel',\n",
       " 'chaff',\n",
       " 'eyelash',\n",
       " 'burro',\n",
       " 'garlic',\n",
       " 'dentata',\n",
       " 'fossa',\n",
       " 'redevelop',\n",
       " 'voguish',\n",
       " 'yoursel',\n",
       " 'monotheist',\n",
       " 'gentlewoman',\n",
       " 'octoploid',\n",
       " 'statant',\n",
       " 'burdock',\n",
       " 'rusk',\n",
       " 'adulter',\n",
       " 'propagandist',\n",
       " 'behaviorist',\n",
       " 'shrank',\n",
       " 'felid',\n",
       " 'florid',\n",
       " 'buckwheat',\n",
       " 'softwood',\n",
       " 'creeper',\n",
       " 'zink',\n",
       " 'acrid',\n",
       " 'yeso',\n",
       " 'horizontal',\n",
       " 'pelt',\n",
       " 'kurgan',\n",
       " 'longspur',\n",
       " 'prospector',\n",
       " 'viertel',\n",
       " 'transvaal',\n",
       " 'saloon',\n",
       " 'drupe',\n",
       " 'crosscut',\n",
       " 'slit',\n",
       " 'reobtain',\n",
       " 'clitter',\n",
       " 'beeswax',\n",
       " 'tamarind',\n",
       " 'sonnet',\n",
       " 'skee',\n",
       " 'teal',\n",
       " 'yokel',\n",
       " 'leftward',\n",
       " 'philologist',\n",
       " 'Ay',\n",
       " 'pouch',\n",
       " 'moksha',\n",
       " 'sika',\n",
       " 'absolutist',\n",
       " 'nightlong',\n",
       " 'afterglow',\n",
       " 'browner',\n",
       " 'boreal',\n",
       " 'decorum',\n",
       " 'monograph',\n",
       " 'ormer',\n",
       " 'abolitionist',\n",
       " 'hardwood',\n",
       " 'smidgen',\n",
       " 'slipshod',\n",
       " 'tarot',\n",
       " 'beech',\n",
       " 'drupelet',\n",
       " 'dotal',\n",
       " 'kvass',\n",
       " 'forbear',\n",
       " 'grossen',\n",
       " 'erth',\n",
       " 'egress',\n",
       " 'carnal',\n",
       " 'buttercup',\n",
       " 'linoleum',\n",
       " 'excitant',\n",
       " 'rococo',\n",
       " 'hilum',\n",
       " 'katydid',\n",
       " 'sain',\n",
       " 'differentia',\n",
       " 'educationalist',\n",
       " 'teamwork',\n",
       " 'byword',\n",
       " 'communion',\n",
       " 'bailiwick',\n",
       " 'underfoot',\n",
       " 'viceroy',\n",
       " 'cod',\n",
       " 'tambour',\n",
       " 'linwood',\n",
       " 'tramp',\n",
       " 'zorro',\n",
       " 'swa',\n",
       " 'onym',\n",
       " 'dhu',\n",
       " 'sauna',\n",
       " 'cush',\n",
       " 'saddler',\n",
       " 'cation',\n",
       " 'charger',\n",
       " 'torah',\n",
       " 'muttonbird',\n",
       " 'calico',\n",
       " 'marimba',\n",
       " 'birdbath',\n",
       " 'handkerchief',\n",
       " 'hussar',\n",
       " 'dauber',\n",
       " 'terron',\n",
       " 'explosion',\n",
       " 'uncontrol',\n",
       " 'sacrum',\n",
       " 'arcadian',\n",
       " 'tumult',\n",
       " 'sundown',\n",
       " 'leghorn',\n",
       " 'protean',\n",
       " 'copperhead',\n",
       " 'lush',\n",
       " 'runic',\n",
       " 'heterotopia',\n",
       " 'comedown',\n",
       " 'titi',\n",
       " 'lepidopterist',\n",
       " 'tania',\n",
       " 'slant',\n",
       " 'noctiluca',\n",
       " 'clung',\n",
       " 'unction',\n",
       " 'memento',\n",
       " 'valerian',\n",
       " 'planless',\n",
       " 'skullcap',\n",
       " 'alderman',\n",
       " 'damned',\n",
       " 'baa',\n",
       " 'perciform',\n",
       " 'persimmon',\n",
       " 'handout',\n",
       " 'ura',\n",
       " 'ichthyologist',\n",
       " 'bunt',\n",
       " 'huso',\n",
       " 'morgen',\n",
       " 'drumhead',\n",
       " 'twat',\n",
       " 'kapok',\n",
       " 'scalp',\n",
       " 'lochan',\n",
       " 'dildo',\n",
       " 'runway',\n",
       " 'birder',\n",
       " 'soothsay',\n",
       " 'pepo',\n",
       " 'savanna',\n",
       " 'coachman',\n",
       " 'carrick',\n",
       " 'osteosarcoma',\n",
       " 'brickwork',\n",
       " 'nothing',\n",
       " 'cattail',\n",
       " 'lemur',\n",
       " 'boor',\n",
       " 'tempora',\n",
       " 'bertram',\n",
       " 'kismet',\n",
       " 'goner',\n",
       " 'domesday',\n",
       " 'neon',\n",
       " 'yamamai',\n",
       " 'rated',\n",
       " 'sloop',\n",
       " 'cleve',\n",
       " 'leapt',\n",
       " 'grue',\n",
       " 'forthwith',\n",
       " 'calor',\n",
       " 'dysplasia',\n",
       " 'commercial',\n",
       " 'leek',\n",
       " 'gether',\n",
       " 'yeoman',\n",
       " 'tatler',\n",
       " 'punctilio',\n",
       " 'majo',\n",
       " 'murk',\n",
       " 'wildfowl',\n",
       " 'coumarin',\n",
       " 'disarray',\n",
       " 'reallow',\n",
       " 'humph',\n",
       " 'anarch',\n",
       " 'jarl',\n",
       " 'waistband',\n",
       " 'lowder',\n",
       " 'veta',\n",
       " 'ural',\n",
       " 'affray',\n",
       " 'secund',\n",
       " 'premolar',\n",
       " 'vestal',\n",
       " 'compatriot',\n",
       " 'citric',\n",
       " 'vesper',\n",
       " 'liquor',\n",
       " 'californium',\n",
       " 'pob',\n",
       " 'lifeguard',\n",
       " 'kou',\n",
       " 'fillet',\n",
       " 'bulkhead',\n",
       " 'clive',\n",
       " 'branchlet',\n",
       " 'maim',\n",
       " 'genitor',\n",
       " 'rotunda',\n",
       " 'caesura',\n",
       " 'swordfish',\n",
       " 'soho',\n",
       " 'stingless',\n",
       " 'mysid',\n",
       " 'horseless',\n",
       " 'bedstead',\n",
       " 'regula',\n",
       " 'striction',\n",
       " 'checkup',\n",
       " 'outcross',\n",
       " 'passeriform',\n",
       " 'cerium',\n",
       " 'motionless',\n",
       " 'larid',\n",
       " 'regrow',\n",
       " 'milfoil',\n",
       " 'seventeenth',\n",
       " 'liman',\n",
       " 'tali',\n",
       " 'waif',\n",
       " 'shanna',\n",
       " 'dey',\n",
       " 'niota',\n",
       " 'megalith',\n",
       " 'fizz',\n",
       " 'brome',\n",
       " 'chug',\n",
       " 'copa',\n",
       " 'directrix',\n",
       " 'turbid',\n",
       " 'ciconiiform',\n",
       " 'viticulturist',\n",
       " 'martel',\n",
       " 'conner',\n",
       " 'theat',\n",
       " 'dreg',\n",
       " 'cavern',\n",
       " 'tum',\n",
       " 'autogiro',\n",
       " 'boarhound',\n",
       " 'salix',\n",
       " 'slacker',\n",
       " 'mildew',\n",
       " 'blimp',\n",
       " 'rasp',\n",
       " 'melon',\n",
       " 'lousewort',\n",
       " 'cowl',\n",
       " 'strychnin',\n",
       " 'oord',\n",
       " 'parr',\n",
       " 'nonsectarian',\n",
       " 'microlepidoptera',\n",
       " 'utilitarian',\n",
       " 'brocket',\n",
       " 'huff',\n",
       " 'nominal',\n",
       " 'kersey',\n",
       " 'newsstand',\n",
       " 'inflow',\n",
       " 'torchlight',\n",
       " 'holster',\n",
       " 'wack',\n",
       " 'manhood',\n",
       " 'windbreak',\n",
       " 'stamin',\n",
       " 'hereabout',\n",
       " 'stamen',\n",
       " 'gonal',\n",
       " 'novella',\n",
       " 'scriber',\n",
       " 'castellano',\n",
       " 'multicolor',\n",
       " 'guitarist',\n",
       " 'vaccinium',\n",
       " 'depositor',\n",
       " 'dramatist',\n",
       " 'pronic',\n",
       " 'skinner',\n",
       " 'baobab',\n",
       " 'millenarian',\n",
       " 'wingbeat',\n",
       " 'hemp',\n",
       " 'tonga',\n",
       " 'bluer',\n",
       " 'rectilinear',\n",
       " 'aphid',\n",
       " 'coelacanth',\n",
       " 'decoct',\n",
       " 'retook',\n",
       " 'aroon',\n",
       " 'tigress',\n",
       " 'boob',\n",
       " 'kell',\n",
       " 'apaid',\n",
       " 'pistil',\n",
       " 'lith',\n",
       " 'landless',\n",
       " 'embay',\n",
       " 'fiord',\n",
       " 'affection',\n",
       " 'napkin',\n",
       " 'individualist',\n",
       " 'coauthor',\n",
       " 'redstart',\n",
       " 'principiant',\n",
       " 'turret',\n",
       " 'fatherless',\n",
       " 'cupola',\n",
       " 'acknow',\n",
       " 'carbo',\n",
       " 'hiation',\n",
       " 'dee',\n",
       " 'jellyfish',\n",
       " 'cupric',\n",
       " 'fourfold',\n",
       " 'strom',\n",
       " 'matsu',\n",
       " 'marmoset',\n",
       " 'Ao',\n",
       " 'parsnip',\n",
       " 'croquet',\n",
       " 'auxiliar',\n",
       " 'tabla',\n",
       " 'cattleman',\n",
       " 'bannock',\n",
       " 'tetraploid',\n",
       " 'brickel',\n",
       " 'codex',\n",
       " 'stude',\n",
       " 'rix',\n",
       " 'telford',\n",
       " 'thyroid',\n",
       " 'makeshift',\n",
       " 'cordillera',\n",
       " 'bedpost',\n",
       " 'clergyman',\n",
       " 'greenback',\n",
       " 'leu',\n",
       " 'eyer',\n",
       " 'pock',\n",
       " 'statehood',\n",
       " 'wheelbarrow',\n",
       " 'lagoon',\n",
       " 'impart',\n",
       " 'floral',\n",
       " 'steradian',\n",
       " 'declaim',\n",
       " 'twite',\n",
       " 'tint',\n",
       " 'cadenza',\n",
       " 'asthenia',\n",
       " 'twerp',\n",
       " 'yogi',\n",
       " 'casson',\n",
       " 'keech',\n",
       " 'dogwood',\n",
       " 'pert',\n",
       " 'colorless',\n",
       " 'pho',\n",
       " 'bayonet',\n",
       " 'musical',\n",
       " 'scram',\n",
       " 'nectar',\n",
       " 'smoot',\n",
       " 'rauk',\n",
       " 'generalist',\n",
       " 'swale',\n",
       " 'trivet',\n",
       " 'dasi',\n",
       " 'gyrfalcon',\n",
       " 'vage',\n",
       " 'bolling',\n",
       " 'taproot',\n",
       " 'airstrip',\n",
       " 'asteria',\n",
       " 'precook',\n",
       " 'tracer',\n",
       " 'cutlass',\n",
       " 'trichi',\n",
       " 'billyboy',\n",
       " 'chais',\n",
       " 'wae',\n",
       " 'rebook',\n",
       " 'flit',\n",
       " 'extravascular',\n",
       " 'bun',\n",
       " 'workbook',\n",
       " 'bough',\n",
       " 'transaction',\n",
       " 'ament',\n",
       " 'sewn',\n",
       " 'drunkard',\n",
       " 'unsuccessful',\n",
       " 'unthicken',\n",
       " 'caprifolium',\n",
       " 'margarita',\n",
       " 'woundwort',\n",
       " 'tomahawk',\n",
       " 'sticktight',\n",
       " 'posseman',\n",
       " 'transcendent',\n",
       " 'eyelid',\n",
       " 'toat',\n",
       " 'henceforth',\n",
       " 'gruss',\n",
       " 'tean',\n",
       " 'showman',\n",
       " 'hangman',\n",
       " 'recoal',\n",
       " 'thinnish',\n",
       " 'angiosperm',\n",
       " 'bridesmaid',\n",
       " 'melodrama',\n",
       " 'cartograph',\n",
       " 'moko',\n",
       " 'dimmer',\n",
       " 'requit',\n",
       " 'firth',\n",
       " 'rhymer',\n",
       " 'maggot',\n",
       " 'sympodial',\n",
       " 'courtier',\n",
       " 'teer',\n",
       " 'husbandman',\n",
       " 'bellman',\n",
       " 'pinnatifid',\n",
       " 'cerebra',\n",
       " 'octan',\n",
       " 'kennel',\n",
       " 'ers',\n",
       " 'bott',\n",
       " 'unal',\n",
       " 'stoat',\n",
       " 'expansion',\n",
       " 'welder',\n",
       " 'rosal',\n",
       " 'midshipman',\n",
       " 'egoist',\n",
       " 'eunuch',\n",
       " 'atma',\n",
       " 'toothpick',\n",
       " 'basswood',\n",
       " 'ulu',\n",
       " 'salta',\n",
       " 'leaner',\n",
       " 'trapper',\n",
       " 'knelt',\n",
       " 'afghani',\n",
       " 'prow',\n",
       " 'zag',\n",
       " 'enliven',\n",
       " 'amentia',\n",
       " 'ambo',\n",
       " 'roust',\n",
       " 'sora',\n",
       " 'whimsey',\n",
       " 'ferial',\n",
       " 'eria',\n",
       " 'crosier',\n",
       " 'thong',\n",
       " 'ammono',\n",
       " 'essayist',\n",
       " 'empower',\n",
       " 'draper',\n",
       " 'airman',\n",
       " 'stade',\n",
       " 'iambic',\n",
       " 'palmyra',\n",
       " 'leftmost',\n",
       " 'bhakti',\n",
       " 'agonist',\n",
       " 'succursal',\n",
       " 'vowel',\n",
       " 'corrigenda',\n",
       " 'coram',\n",
       " 'figment',\n",
       " 'quern',\n",
       " 'encamp',\n",
       " 'sola',\n",
       " 'hele',\n",
       " 'goldfinch',\n",
       " 'cheerful',\n",
       " 'spieler',\n",
       " 'axon',\n",
       " 'characin',\n",
       " 'hernia',\n",
       " 'broccoli',\n",
       " 'cyme',\n",
       " 'confluent',\n",
       " 'untrain',\n",
       " 'rugosa',\n",
       " 'sherbet',\n",
       " 'airfoil',\n",
       " 'moveless',\n",
       " 'Od',\n",
       " 'remodel',\n",
       " 'affront',\n",
       " 'pian',\n",
       " 'vicar',\n",
       " 'palp',\n",
       " 'scend',\n",
       " 'tired',\n",
       " 'hypanthium',\n",
       " 'hedonist',\n",
       " 'downwith',\n",
       " 'adieu',\n",
       " 'estrogen',\n",
       " 'cowlick',\n",
       " 'grosbeak',\n",
       " 'vita',\n",
       " 'thrower',\n",
       " 'kelt',\n",
       " 'craven',\n",
       " 'beechwood',\n",
       " 'bluish',\n",
       " 'kola',\n",
       " 'insula',\n",
       " 'islet',\n",
       " 'brownish',\n",
       " 'quinto',\n",
       " 'glisten',\n",
       " 'ctenoid',\n",
       " 'pidan',\n",
       " 'sher',\n",
       " 'cider',\n",
       " 'leyland',\n",
       " 'dreamt',\n",
       " 'jute',\n",
       " 'budworm',\n",
       " 'awatch',\n",
       " 'waterfowl',\n",
       " 'lop',\n",
       " 'upwind',\n",
       " 'crock',\n",
       " 'chard',\n",
       " 'horticulturist',\n",
       " 'sweatshop',\n",
       " 'overspread',\n",
       " 'afforest',\n",
       " 'shiel',\n",
       " 'pacifist',\n",
       " 'dauntless',\n",
       " 'anteroom',\n",
       " 'pagina',\n",
       " 'lum',\n",
       " 'morello',\n",
       " 'whaler',\n",
       " 'macco',\n",
       " 'cantar',\n",
       " 'fairground',\n",
       " 'basilisk',\n",
       " 'saskatoon',\n",
       " 'rubric',\n",
       " 'daffodil',\n",
       " 'proximo',\n",
       " 'geranium',\n",
       " 'stalker',\n",
       " 'folio',\n",
       " 'filo',\n",
       " 'ssu',\n",
       " 'protea',\n",
       " 'wingless',\n",
       " 'strix',\n",
       " 'medicinal',\n",
       " 'egalitarian',\n",
       " 'gewgaw',\n",
       " 'ferret',\n",
       " 'simular',\n",
       " 'chafe',\n",
       " 'brougham',\n",
       " 'portico',\n",
       " 'wud',\n",
       " 'tinter',\n",
       " 'recta',\n",
       " 'saltbush',\n",
       " 'sloan',\n",
       " 'tute',\n",
       " 'blanch',\n",
       " 'extensor',\n",
       " 'coto',\n",
       " 'fundamental',\n",
       " 'buzzard',\n",
       " 'tempera',\n",
       " 'fremd',\n",
       " 'bicolor',\n",
       " 'owlet',\n",
       " 'pedipalp',\n",
       " 'uttermost',\n",
       " 'amma',\n",
       " 'cobra',\n",
       " 'oriel',\n",
       " 'starlit',\n",
       " 'shim',\n",
       " 'peninsular',\n",
       " 'zooplankton',\n",
       " 'lifehold',\n",
       " 'engross',\n",
       " 'houseboat',\n",
       " 'broomcorn',\n",
       " 'bianco',\n",
       " 'hud',\n",
       " 'terzo',\n",
       " 'nebular',\n",
       " 'stet',\n",
       " 'dawnlight',\n",
       " 'conclusion',\n",
       " 'precess',\n",
       " 'paler',\n",
       " 'syrinx',\n",
       " 'mischief',\n",
       " 'mastiff',\n",
       " 'burp',\n",
       " 'endocranium',\n",
       " 'ordinar',\n",
       " 'imago',\n",
       " 'chider',\n",
       " 'tock',\n",
       " 'multiplex',\n",
       " 'undergrowth',\n",
       " 'tolan',\n",
       " 'crestfallen',\n",
       " 'citril',\n",
       " 'archway',\n",
       " 'supraocular',\n",
       " 'orgasm',\n",
       " 'dualist',\n",
       " 'pergola',\n",
       " 'righteous',\n",
       " 'shipyard',\n",
       " 'turnkey',\n",
       " 'yeat',\n",
       " 'joiner',\n",
       " 'gim',\n",
       " 'zoologist',\n",
       " 'abbey',\n",
       " 'aviatrix',\n",
       " 'rubicund',\n",
       " 'muskeg',\n",
       " 'bewitch',\n",
       " 'sorrento',\n",
       " 'grout',\n",
       " 'dodo',\n",
       " 'bairn',\n",
       " 'plagiarist',\n",
       " 'peal',\n",
       " 'bego',\n",
       " 'roundhead',\n",
       " 'abreact',\n",
       " 'hoi',\n",
       " 'dult',\n",
       " 'throb',\n",
       " 'causeway',\n",
       " 'pussycat',\n",
       " 'earshot',\n",
       " 'preferent',\n",
       " 'potlatch',\n",
       " 'restaurant',\n",
       " 'loup',\n",
       " 'relevant',\n",
       " 'dimorph',\n",
       " 'crepuscular',\n",
       " 'bewail',\n",
       " 'terminal',\n",
       " 'becket',\n",
       " 'demigod',\n",
       " 'riparian',\n",
       " 'prater',\n",
       " 'flyway',\n",
       " 'thrush',\n",
       " 'apocryph',\n",
       " 'urea',\n",
       " 'tope',\n",
       " 'muzz',\n",
       " 'forkbeard',\n",
       " 'cordel',\n",
       " 'sacred',\n",
       " 'harr',\n",
       " 'higdon',\n",
       " 'wolfen',\n",
       " 'cay',\n",
       " 'tridimensional',\n",
       " 'dwelt',\n",
       " 'bloop',\n",
       " 'vernacular',\n",
       " 'sprue',\n",
       " 'recti',\n",
       " 'ghazi',\n",
       " 'choirboy',\n",
       " 'gush',\n",
       " 'gelada',\n",
       " 'guava',\n",
       " 'castanet',\n",
       " 'lipstick',\n",
       " 'repin',\n",
       " 'positron',\n",
       " 'wawa',\n",
       " 'isthmian',\n",
       " 'hereof',\n",
       " 'collywest',\n",
       " 'creedal',\n",
       " 'flamenco',\n",
       " 'talker',\n",
       " 'amygdaloid',\n",
       " 'cero',\n",
       " 'mohr',\n",
       " 'whirlwind',\n",
       " 'eumenid',\n",
       " 'scaup',\n",
       " 'weald',\n",
       " 'pul',\n",
       " 'yn',\n",
       " 'lank',\n",
       " 'decibel',\n",
       " 'bacteriostat',\n",
       " 'korin',\n",
       " 'odor',\n",
       " 'zebra',\n",
       " 'septuagenarian',\n",
       " 'redd',\n",
       " 'shriver',\n",
       " 'parakeet',\n",
       " 'concerto',\n",
       " 'laurin',\n",
       " 'mim',\n",
       " 'sterol',\n",
       " 'exult',\n",
       " 'cashier',\n",
       " 'taha',\n",
       " 'loris',\n",
       " 'prosoma',\n",
       " 'bridgework',\n",
       " 'viper',\n",
       " 'keeshond',\n",
       " 'stopa',\n",
       " 'bipod',\n",
       " 'kino',\n",
       " 'seraphina',\n",
       " 'apartheid',\n",
       " 'kinnikinnick',\n",
       " 'skua',\n",
       " 'satin',\n",
       " 'soam',\n",
       " 'misprint',\n",
       " 'whig',\n",
       " 'dendron',\n",
       " 'churr',\n",
       " 'greyhound',\n",
       " 'glycerin',\n",
       " 'cuttyhunk',\n",
       " 'blinker',\n",
       " 'bagworm',\n",
       " 'aghast',\n",
       " 'genealogist',\n",
       " 'gin',\n",
       " 'puffin',\n",
       " 'kali',\n",
       " 'sinter',\n",
       " 'shrill',\n",
       " 'sepal',\n",
       " 'lodgment',\n",
       " 'melodia',\n",
       " 'mesilla',\n",
       " 'wastrel',\n",
       " 'gula',\n",
       " 'mambo',\n",
       " 'anima',\n",
       " 'meson',\n",
       " 'crowder',\n",
       " 'kingfish',\n",
       " 'cuckoo',\n",
       " 'hemolymph',\n",
       " 'sirocco',\n",
       " 'abrupt',\n",
       " 'biltong',\n",
       " 'imperish',\n",
       " 'kat',\n",
       " 'pentathlon',\n",
       " 'formless',\n",
       " 'subfossil',\n",
       " 'skitter',\n",
       " 'hater',\n",
       " 'whap',\n",
       " 'wetter',\n",
       " 'tampon',\n",
       " 'mandala',\n",
       " 'official',\n",
       " 'miasmal',\n",
       " 'metaphysician',\n",
       " 'feme',\n",
       " 'muntjac',\n",
       " 'assistor',\n",
       " 'unsought',\n",
       " 'washbowl',\n",
       " 'rowan',\n",
       " 'cacti',\n",
       " 'barefoot',\n",
       " 'conga',\n",
       " 'quahog',\n",
       " 'prefab',\n",
       " 'breccia',\n",
       " 'sov',\n",
       " 'headsman',\n",
       " 'tacker',\n",
       " 'blain',\n",
       " 'rook',\n",
       " 'rana',\n",
       " 'freedman',\n",
       " 'mimeograph',\n",
       " 'siskin',\n",
       " 'tonsil',\n",
       " 'barnard',\n",
       " 'warsaw',\n",
       " 'peevish',\n",
       " 'fluster',\n",
       " 'beseech',\n",
       " 'lora',\n",
       " 'tentacular',\n",
       " 'arna',\n",
       " 'bookman',\n",
       " 'wove',\n",
       " 'deign',\n",
       " 'macrolepidoptera',\n",
       " 'sextet',\n",
       " 'treeless',\n",
       " 'shou',\n",
       " 'maraschino',\n",
       " 'discolor',\n",
       " 'tourniquet',\n",
       " 'dor',\n",
       " 'yellowish',\n",
       " 'chaw',\n",
       " 'mycoplasm',\n",
       " 'astrakhan',\n",
       " 'echidna',\n",
       " 'testudo',\n",
       " 'pronto',\n",
       " 'passkey',\n",
       " 'cand',\n",
       " 'vanguard',\n",
       " 'chut',\n",
       " 'tetra',\n",
       " 'murmur',\n",
       " 'pluma',\n",
       " 'eczema',\n",
       " 'sura',\n",
       " 'acryl',\n",
       " 'thorax',\n",
       " 'hoofmark',\n",
       " 'souther',\n",
       " 'wingman',\n",
       " 'toeboard',\n",
       " 'corbeau',\n",
       " 'marcella',\n",
       " 'retrench',\n",
       " 'unitarian',\n",
       " 'stree',\n",
       " 'sensational',\n",
       " 'bree',\n",
       " 'hayfield',\n",
       " 'Og',\n",
       " 'durra',\n",
       " 'cleft',\n",
       " 'sprout',\n",
       " 'skimmer',\n",
       " 'nychthemeron',\n",
       " 'rood',\n",
       " 'brat',\n",
       " 'ogress',\n",
       " 'areola',\n",
       " 'outen',\n",
       " 'teli',\n",
       " 'badland',\n",
       " 'operculum',\n",
       " 'bigmouth',\n",
       " 'despoil',\n",
       " 'phosphor',\n",
       " 'denim',\n",
       " 'pizzeria',\n",
       " 'entropion',\n",
       " 'playa',\n",
       " 'neolith',\n",
       " 'individual',\n",
       " 'alkali',\n",
       " 'stardom',\n",
       " 'argentum',\n",
       " 'theropod',\n",
       " 'molecula',\n",
       " 'ingredient',\n",
       " 'stinger',\n",
       " 'neurotoxin',\n",
       " 'autobahn',\n",
       " 'consonant',\n",
       " 'malm',\n",
       " 'feru',\n",
       " 'theoretician',\n",
       " 'molder',\n",
       " ...}"
      ]
     },
     "execution_count": 34,
     "metadata": {},
     "output_type": "execute_result"
    }
   ],
   "source": [
    "word_blacklist"
   ]
  },
  {
   "cell_type": "markdown",
   "metadata": {},
   "source": [
    "#### Q: How many elements in the set?"
   ]
  },
  {
   "cell_type": "code",
   "execution_count": 35,
   "metadata": {},
   "outputs": [
    {
     "data": {
      "text/plain": [
       "3160"
      ]
     },
     "execution_count": 35,
     "metadata": {},
     "output_type": "execute_result"
    }
   ],
   "source": [
    "len(word_blacklist)"
   ]
  },
  {
   "cell_type": "markdown",
   "metadata": {},
   "source": [
    "#### Q: How long is the longest word in the set?"
   ]
  },
  {
   "cell_type": "code",
   "execution_count": 36,
   "metadata": {
    "scrolled": true
   },
   "outputs": [
    {
     "data": {
      "text/plain": [
       "16"
      ]
     },
     "execution_count": 36,
     "metadata": {},
     "output_type": "execute_result"
    }
   ],
   "source": [
    "max([len(x) for x in word_blacklist])"
   ]
  },
  {
   "cell_type": "markdown",
   "metadata": {},
   "source": [
    "#### Q: Which word is it?"
   ]
  },
  {
   "cell_type": "code",
   "execution_count": 37,
   "metadata": {},
   "outputs": [
    {
     "name": "stdout",
     "output_type": "stream",
     "text": [
      "microlepidoptera\n",
      "macrolepidoptera\n"
     ]
    }
   ],
   "source": [
    "max_len = max([len(x) for x in word_blacklist])\n",
    "for word in word_blacklist:\n",
    "    if len(word) == max_len:\n",
    "        print(word)"
   ]
  },
  {
   "cell_type": "markdown",
   "metadata": {},
   "source": [
    "## Let's use this model!\n",
    "\n",
    "#### Metrics for classification\n",
    "\n",
    "- Building blocks for the metrics\n",
    "    - TP = True Positive\n",
    "    - TN = True Negative\n",
    "    - FP = False Positive\n",
    "    - FN = False Negative\n",
    "\n",
    "\n",
    "- The actual metrics:\n",
    "    - $\\text{accuracy} = \\frac{TP + TN}{TP + TN + FP + FN}$\n",
    "    - $\\text{precision} = \\frac{TP}{TP + FP}$; (a.k.a. positive predictive value)\n",
    "    - $\\text{recall} = \\frac{TP}{TP + FN}$; (a.k.a. sensitivity, hit rate, true positive rate)"
   ]
  },
  {
   "cell_type": "code",
   "execution_count": 38,
   "metadata": {},
   "outputs": [],
   "source": [
    "# this cell might take quite some time\n",
    "fp = 0\n",
    "tp = 0\n",
    "fn = 0\n",
    "tn = 0\n",
    "\n",
    "for filename in X_test:\n",
    "    path = os.path.join(DATA_DIR, filename)\n",
    "    if filename in labels:\n",
    "        label = labels[filename]\n",
    "        stems = load(path)\n",
    "        if not stems:\n",
    "            continue\n",
    "        stems_set = set(stems)\n",
    "        if stems_set & blacklist:  # INTERSECTION BETWEEN SETS\n",
    "            if label == 1:\n",
    "                fp = fp + 1\n",
    "            else:\n",
    "                tp = tp + 1\n",
    "        else:\n",
    "            if label == 1:\n",
    "                tn = tn + 1\n",
    "            else:\n",
    "                fn = fn + 1"
   ]
  },
  {
   "cell_type": "code",
   "execution_count": 39,
   "metadata": {},
   "outputs": [
    {
     "name": "stdout",
     "output_type": "stream",
     "text": [
      "TN 7352\n",
      "FP 211\n",
      "FN 5284\n",
      "TP 7996\n"
     ]
    }
   ],
   "source": [
    "print(\"TN %d\" % tn)\n",
    "print(\"FP %d\" % fp)\n",
    "print(\"FN %d\" % fn)\n",
    "print(\"TP %d\" % tp)"
   ]
  },
  {
   "cell_type": "markdown",
   "metadata": {},
   "source": [
    "#### Q: Print the TP, FP, TN, FN as percentage (or fraction)."
   ]
  },
  {
   "cell_type": "code",
   "execution_count": 40,
   "metadata": {},
   "outputs": [
    {
     "name": "stdout",
     "output_type": "stream",
     "text": [
      "TN 0.35\n",
      "FP 0.01\n",
      "FN 0.25\n",
      "TP 0.38\n"
     ]
    }
   ],
   "source": [
    "count = tn + tp + fn + fp\n",
    "print(\"TN %.2f\" % (tn/count))\n",
    "print(\"FP %.2f\" % (fp/count))\n",
    "print(\"FN %.2f\" % (fn/count))\n",
    "print(\"TP %.2f\" % (tp/count))"
   ]
  },
  {
   "cell_type": "code",
   "execution_count": 41,
   "metadata": {},
   "outputs": [
    {
     "name": "stdout",
     "output_type": "stream",
     "text": [
      "Confusion matrix:\n",
      "\n",
      "| TN 0.35 | FP 0.01 |\n",
      "| FN 0.25 | TP 0.38 |\n"
     ]
    }
   ],
   "source": [
    "print(\"Confusion matrix:\\n\")\n",
    "print(\"| TN %.2f | FP %.2f |\" % (tn/count, fp/count))\n",
    "print(\"| FN %.2f | TP %.2f |\" % (fn/count, tp/count))"
   ]
  },
  {
   "cell_type": "code",
   "execution_count": 42,
   "metadata": {},
   "outputs": [
    {
     "name": "stdout",
     "output_type": "stream",
     "text": [
      "Accuracy: 0.73636\n",
      "Precision: 0.97429\n",
      "Recall: 0.60211\n"
     ]
    }
   ],
   "source": [
    "print(\"Accuracy: %.5f\" % ((tp+tn)/count))\n",
    "print(\"Precision: %.5f\" % (tp/(tp+fp)))\n",
    "print(\"Recall: %.5f\" % (tp/(tp+fn)))"
   ]
  },
  {
   "cell_type": "markdown",
   "metadata": {},
   "source": [
    "---"
   ]
  },
  {
   "cell_type": "markdown",
   "metadata": {},
   "source": [
    "## Logistic Regression\n",
    "\n",
    "Let's try now with a different model."
   ]
  },
  {
   "cell_type": "code",
   "execution_count": 43,
   "metadata": {},
   "outputs": [],
   "source": [
    "def read_email_files():\n",
    "    X = []\n",
    "    y = [] \n",
    "    for i in range(len(labels)):\n",
    "        filename = 'inmail.' + str(i+1)\n",
    "        email_str = extract_email_text(os.path.join(DATA_DIR, filename))\n",
    "        X.append(email_str)\n",
    "        y.append(labels[filename])\n",
    "    return X, y"
   ]
  },
  {
   "cell_type": "markdown",
   "metadata": {},
   "source": [
    "- \"Read\" the emails"
   ]
  },
  {
   "cell_type": "code",
   "execution_count": 44,
   "metadata": {},
   "outputs": [],
   "source": [
    "X, y = read_email_files()"
   ]
  },
  {
   "cell_type": "markdown",
   "metadata": {},
   "source": [
    "- split in train set and test set"
   ]
  },
  {
   "cell_type": "code",
   "execution_count": 45,
   "metadata": {},
   "outputs": [
    {
     "name": "stderr",
     "output_type": "stream",
     "text": [
      "/home/luca/anaconda3/lib/python3.7/site-packages/sklearn/model_selection/_split.py:2179: FutureWarning: From version 0.21, test_size will always complement train_size unless both are specified.\n",
      "  FutureWarning)\n"
     ]
    }
   ],
   "source": [
    "from sklearn.model_selection import train_test_split \n",
    "\n",
    "X_train, X_test, y_train, y_test, idx_train, idx_test = train_test_split(\n",
    "    X, y, range(len(y)), train_size=TRAINING_SET_RATIO, random_state=2\n",
    ")"
   ]
  },
  {
   "cell_type": "markdown",
   "metadata": {},
   "source": [
    "#### Q: How does the input data (i.e. X) look like? (types, content, ...)"
   ]
  },
  {
   "cell_type": "code",
   "execution_count": 46,
   "metadata": {},
   "outputs": [
    {
     "data": {
      "text/plain": [
       "generator"
      ]
     },
     "execution_count": 46,
     "metadata": {},
     "output_type": "execute_result"
    }
   ],
   "source": [
    "type(x for x in X_train)"
   ]
  },
  {
   "cell_type": "markdown",
   "metadata": {},
   "source": [
    "<div class=\"alert alert-block alert-success\">\n",
    "A generator can be thought of as a list that can iterated on (e.g. with a for loop) only once.\n",
    "</div>"
   ]
  },
  {
   "cell_type": "code",
   "execution_count": 47,
   "metadata": {},
   "outputs": [
    {
     "data": {
      "text/plain": [
       "'The Best for Your Health! '"
      ]
     },
     "execution_count": 47,
     "metadata": {},
     "output_type": "execute_result"
    }
   ],
   "source": [
    "X_train[3]"
   ]
  },
  {
   "cell_type": "markdown",
   "metadata": {},
   "source": [
    "#### Q: and the target label?"
   ]
  },
  {
   "cell_type": "code",
   "execution_count": 48,
   "metadata": {},
   "outputs": [
    {
     "data": {
      "text/plain": [
       "1"
      ]
     },
     "execution_count": 48,
     "metadata": {},
     "output_type": "execute_result"
    }
   ],
   "source": [
    "y_test[0]"
   ]
  },
  {
   "cell_type": "code",
   "execution_count": 49,
   "metadata": {},
   "outputs": [
    {
     "data": {
      "text/plain": [
       "{0, 1}"
      ]
     },
     "execution_count": 49,
     "metadata": {},
     "output_type": "execute_result"
    }
   ],
   "source": [
    "set(y_test)"
   ]
  },
  {
   "cell_type": "markdown",
   "metadata": {},
   "source": [
    "- As input, we have strings (emails). We **have** to convert them into numbers."
   ]
  },
  {
   "cell_type": "markdown",
   "metadata": {},
   "source": [
    "#### Q: Any ideas on how to convert strings into numbers? (hint: think about the stemmer we have seen...)"
   ]
  },
  {
   "cell_type": "markdown",
   "metadata": {},
   "source": [
    "- Tons of approaches are possible, here we use `CountVectorizer`"
   ]
  },
  {
   "cell_type": "markdown",
   "metadata": {},
   "source": [
    "<div class=\"alert alert-block alert-success\">\n",
    "CountVectorizer converts each element of the original generator in a new array.\n",
    "In the originar X_train we had one entry for each email of the training set, after CountVerctorizer we still have one element for each email of the training set, but they are arrays instead of strings.\n",
    "the length of each array is equal to the number of words in the input corpus (i.e. the training emails) and each cell represents the number of occurrences of the corresponding word in the corresponding email.\n",
    "</div>"
   ]
  },
  {
   "cell_type": "code",
   "execution_count": 50,
   "metadata": {},
   "outputs": [],
   "source": [
    "from sklearn.feature_extraction.text import CountVectorizer\n",
    "\n",
    "vectorizer = CountVectorizer()\n",
    "X_train_vector = vectorizer.fit_transform(X_train)\n",
    "X_test_vector = vectorizer.transform(X_test)"
   ]
  },
  {
   "cell_type": "markdown",
   "metadata": {},
   "source": [
    "#### Q: Let's look at the input data now. How is it different from before?"
   ]
  },
  {
   "cell_type": "code",
   "execution_count": 51,
   "metadata": {},
   "outputs": [
    {
     "data": {
      "text/plain": [
       "generator"
      ]
     },
     "execution_count": 51,
     "metadata": {},
     "output_type": "execute_result"
    }
   ],
   "source": [
    "type(x for x in X_train_vector)"
   ]
  },
  {
   "cell_type": "code",
   "execution_count": 52,
   "metadata": {},
   "outputs": [
    {
     "data": {
      "text/plain": [
       "<1x238197 sparse matrix of type '<class 'numpy.int64'>'\n",
       "\twith 5 stored elements in Compressed Sparse Row format>"
      ]
     },
     "execution_count": 52,
     "metadata": {},
     "output_type": "execute_result"
    }
   ],
   "source": [
    "X_train_vector[3]"
   ]
  },
  {
   "cell_type": "markdown",
   "metadata": {},
   "source": [
    "- let's define and train the model!"
   ]
  },
  {
   "cell_type": "code",
   "execution_count": 53,
   "metadata": {},
   "outputs": [
    {
     "name": "stderr",
     "output_type": "stream",
     "text": [
      "/home/luca/anaconda3/lib/python3.7/site-packages/sklearn/linear_model/logistic.py:433: FutureWarning: Default solver will be changed to 'lbfgs' in 0.22. Specify a solver to silence this warning.\n",
      "  FutureWarning)\n",
      "/home/luca/anaconda3/lib/python3.7/site-packages/sklearn/svm/base.py:922: ConvergenceWarning: Liblinear failed to converge, increase the number of iterations.\n",
      "  \"the number of iterations.\", ConvergenceWarning)\n"
     ]
    },
    {
     "data": {
      "text/plain": [
       "LogisticRegression(C=1.0, class_weight=None, dual=False, fit_intercept=True,\n",
       "          intercept_scaling=1, max_iter=100, multi_class='warn',\n",
       "          n_jobs=None, penalty='l2', random_state=None, solver='warn',\n",
       "          tol=0.0001, verbose=0, warm_start=False)"
      ]
     },
     "execution_count": 53,
     "metadata": {},
     "output_type": "execute_result"
    }
   ],
   "source": [
    "from sklearn.linear_model import LogisticRegression\n",
    "\n",
    "clf = LogisticRegression()\n",
    "clf.fit(X_train_vector, y_train)"
   ]
  },
  {
   "cell_type": "markdown",
   "metadata": {},
   "source": [
    "- and check its predictions"
   ]
  },
  {
   "cell_type": "code",
   "execution_count": 54,
   "metadata": {},
   "outputs": [
    {
     "name": "stdout",
     "output_type": "stream",
     "text": [
      "Accuracy:  0.97291\n",
      "Precision: 0.99294\n",
      "Recall:    0.92583\n"
     ]
    }
   ],
   "source": [
    "from sklearn.metrics import (\n",
    "    accuracy_score,\n",
    "    precision_score,\n",
    "    recall_score\n",
    ")\n",
    "\n",
    "y_pred = clf.predict(X_test_vector)\n",
    "\n",
    "print(\"Accuracy:  %.5f\" % accuracy_score(y_test, y_pred))\n",
    "print(\"Precision: %.5f\" % precision_score(y_test, y_pred))\n",
    "print(\"Recall:    %.5f\" % recall_score(y_test, y_pred))"
   ]
  },
  {
   "cell_type": "markdown",
   "metadata": {},
   "source": [
    "- You can play with the parameters of the model, looking for the best configuration (there is an approach in order to do this in an \"organized\" way). We will see that in the future."
   ]
  },
  {
   "cell_type": "code",
   "execution_count": 55,
   "metadata": {
    "scrolled": true
   },
   "outputs": [
    {
     "name": "stdout",
     "output_type": "stream",
     "text": [
      "Accuracy:  0.98643\n",
      "Precision: 0.99017\n",
      "Recall:    0.96917\n"
     ]
    },
    {
     "name": "stderr",
     "output_type": "stream",
     "text": [
      "/home/luca/anaconda3/lib/python3.7/site-packages/sklearn/linear_model/logistic.py:758: ConvergenceWarning: lbfgs failed to converge. Increase the number of iterations.\n",
      "  \"of iterations.\", ConvergenceWarning)\n"
     ]
    }
   ],
   "source": [
    "clf = LogisticRegression(random_state=0, solver='lbfgs', multi_class='multinomial', max_iter=250)\n",
    "clf.fit(X_train_vector, y_train)\n",
    "\n",
    "y_pred = clf.predict(X_test_vector)\n",
    "\n",
    "print(\"Accuracy:  %.5f\" % accuracy_score(y_test, y_pred))\n",
    "print(\"Precision: %.5f\" % precision_score(y_test, y_pred))\n",
    "print(\"Recall:    %.5f\" % recall_score(y_test, y_pred))"
   ]
  },
  {
   "cell_type": "markdown",
   "metadata": {},
   "source": [
    "<div class=\"alert alert-block alert-info\">\n",
    "In some cases, it is not trivial to understand which is the best model, while performing a comparison. \n",
    "For instance, how should we behave when we have several performance metrics and they do not agree on the best model?\n",
    "The choice depends on the requirements of the specific task at hand: e.g. if we want to detect all the spam emails even if this causes a farily big number of false positives, we will pick a model with high recall.\n",
    "</div>"
   ]
  },
  {
   "cell_type": "markdown",
   "metadata": {},
   "source": [
    "---"
   ]
  },
  {
   "cell_type": "markdown",
   "metadata": {},
   "source": [
    "## Decision Tree Classifier"
   ]
  },
  {
   "cell_type": "code",
   "execution_count": 56,
   "metadata": {
    "scrolled": true
   },
   "outputs": [
    {
     "data": {
      "text/plain": [
       "DecisionTreeClassifier(class_weight=None, criterion='gini', max_depth=None,\n",
       "            max_features=None, max_leaf_nodes=None,\n",
       "            min_impurity_decrease=0.0, min_impurity_split=None,\n",
       "            min_samples_leaf=1, min_samples_split=2,\n",
       "            min_weight_fraction_leaf=0.0, presort=False, random_state=None,\n",
       "            splitter='best')"
      ]
     },
     "execution_count": 56,
     "metadata": {},
     "output_type": "execute_result"
    }
   ],
   "source": [
    "from sklearn.tree import DecisionTreeClassifier\n",
    "\n",
    "# Define the model\n",
    "clf = DecisionTreeClassifier()\n",
    "\n",
    "# Train the model (this might take quite some time)\n",
    "clf.fit(X_train_vector, y_train)"
   ]
  },
  {
   "cell_type": "code",
   "execution_count": 57,
   "metadata": {},
   "outputs": [
    {
     "name": "stdout",
     "output_type": "stream",
     "text": [
      "Accuracy:  0.98391\n",
      "Precision: 0.98058\n",
      "Recall:    0.97128\n"
     ]
    }
   ],
   "source": [
    "y_pred = clf.predict(X_test_vector)\n",
    "\n",
    "print(\"Accuracy:  %.5f\" % accuracy_score(y_test, y_pred))\n",
    "print(\"Precision: %.5f\" % precision_score(y_test, y_pred))\n",
    "print(\"Recall:    %.5f\" % recall_score(y_test, y_pred))"
   ]
  },
  {
   "cell_type": "markdown",
   "metadata": {},
   "source": [
    "- Let's try different parameters!"
   ]
  },
  {
   "cell_type": "code",
   "execution_count": 58,
   "metadata": {},
   "outputs": [
    {
     "data": {
      "text/plain": [
       "DecisionTreeClassifier(class_weight=None, criterion='gini', max_depth=None,\n",
       "            max_features=None, max_leaf_nodes=2, min_impurity_decrease=0.0,\n",
       "            min_impurity_split=None, min_samples_leaf=1,\n",
       "            min_samples_split=2, min_weight_fraction_leaf=0.0,\n",
       "            presort=False, random_state=None, splitter='best')"
      ]
     },
     "execution_count": 58,
     "metadata": {},
     "output_type": "execute_result"
    }
   ],
   "source": [
    "# Define the model\n",
    "clf = DecisionTreeClassifier(max_leaf_nodes=2)\n",
    "\n",
    "# Train the model (this might take quite some time)\n",
    "clf.fit(X_train_vector, y_train)"
   ]
  },
  {
   "cell_type": "code",
   "execution_count": 59,
   "metadata": {},
   "outputs": [
    {
     "name": "stdout",
     "output_type": "stream",
     "text": [
      "Accuracy:  0.86317\n",
      "Precision: 0.92704\n",
      "Recall:    0.64273\n"
     ]
    }
   ],
   "source": [
    "y_pred = clf.predict(X_test_vector)\n",
    "\n",
    "print(\"Accuracy:  %.5f\" % accuracy_score(y_test, y_pred))\n",
    "print(\"Precision: %.5f\" % precision_score(y_test, y_pred))\n",
    "print(\"Recall:    %.5f\" % recall_score(y_test, y_pred))"
   ]
  },
  {
   "cell_type": "markdown",
   "metadata": {},
   "source": [
    "- that's not very good... let's check how it performed on the training data"
   ]
  },
  {
   "cell_type": "code",
   "execution_count": 60,
   "metadata": {},
   "outputs": [
    {
     "name": "stdout",
     "output_type": "stream",
     "text": [
      "Accuracy:  0.86350\n",
      "Precision: 0.92756\n",
      "Recall:    0.64133\n"
     ]
    }
   ],
   "source": [
    "y_pred = clf.predict(X_train_vector)\n",
    "\n",
    "print(\"Accuracy:  %.5f\" % accuracy_score(y_train, y_pred))\n",
    "print(\"Precision: %.5f\" % precision_score(y_train, y_pred))\n",
    "print(\"Recall:    %.5f\" % recall_score(y_train, y_pred))"
   ]
  },
  {
   "cell_type": "markdown",
   "metadata": {},
   "source": [
    "- if the performance is poor both on the training set and the test set, it is a case of **UNDERFITTING**.\n",
    "- if the performance is poor on the test set but good on the training set, it is a case of **OVERFITTING**. (Basically, the model is not able to generalize)."
   ]
  },
  {
   "cell_type": "markdown",
   "metadata": {},
   "source": [
    "---"
   ]
  },
  {
   "cell_type": "markdown",
   "metadata": {},
   "source": [
    "## Random Forest Classifier\n",
    "\n",
    "#### Q: Now it's your turn! Try to build a Random Forest classifier."
   ]
  },
  {
   "cell_type": "code",
   "execution_count": 61,
   "metadata": {
    "scrolled": true
   },
   "outputs": [
    {
     "name": "stdout",
     "output_type": "stream",
     "text": [
      "Accuracy:  0.98709\n",
      "Precision: 0.99244\n",
      "Recall:    0.96891\n"
     ]
    }
   ],
   "source": [
    "from sklearn.ensemble import RandomForestClassifier\n",
    "\n",
    "clf = RandomForestClassifier(n_estimators=100)\n",
    "\n",
    "clf.fit(X_train_vector, y_train)\n",
    "\n",
    "y_pred = clf.predict(X_test_vector)\n",
    "\n",
    "print(\"Accuracy:  %.5f\" % accuracy_score(y_test, y_pred))\n",
    "print(\"Precision: %.5f\" % precision_score(y_test, y_pred))\n",
    "print(\"Recall:    %.5f\" % recall_score(y_test, y_pred))"
   ]
  },
  {
   "cell_type": "markdown",
   "metadata": {},
   "source": [
    "---"
   ]
  }
 ],
 "metadata": {
  "kernelspec": {
   "display_name": "Python 3",
   "language": "python",
   "name": "python3"
  },
  "language_info": {
   "codemirror_mode": {
    "name": "ipython",
    "version": 3
   },
   "file_extension": ".py",
   "mimetype": "text/x-python",
   "name": "python",
   "nbconvert_exporter": "python",
   "pygments_lexer": "ipython3",
   "version": "3.7.1"
  }
 },
 "nbformat": 4,
 "nbformat_minor": 2
}

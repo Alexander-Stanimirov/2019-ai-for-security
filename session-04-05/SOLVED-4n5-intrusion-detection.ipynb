{
 "cells": [
  {
   "cell_type": "markdown",
   "metadata": {},
   "source": [
    "# 4&5 - Network Intrusion Detection\n",
    "\n",
    "The dataset used in this notebook originally comes from a KDD competition held several years ago.\n",
    "\n",
    "Here you can find the original task description given to the competition participants: [task description](http://kdd.ics.uci.edu/databases/kddcup99/task.html)\n",
    "\n",
    "The competition task was to build a network intrusion detector, a predictive model capable of distinguishing between *bad* connections, called intrusions or attacks, and *good* normal connections. \n",
    "The database contains a standard set of data to be audited, which includes a wide variety of intrusions simulated in a military network environment."
   ]
  },
  {
   "cell_type": "markdown",
   "metadata": {},
   "source": [
    "Download instruction:\n",
    "- download the file kddcup.data.gz from [here](http://kdd.ics.uci.edu/databases/kddcup99/kddcup99.html)\n",
    "- move it in the 'datasets' folder (or in some other folders, as long as you know the path)\n",
    "- extract the archive"
   ]
  },
  {
   "cell_type": "markdown",
   "metadata": {},
   "source": [
    "As usual, go through the notebook and answer the questions (N.B. not all of them require some coding)"
   ]
  },
  {
   "cell_type": "code",
   "execution_count": 1,
   "metadata": {},
   "outputs": [],
   "source": [
    "import pandas as pd\n",
    "import numpy as np"
   ]
  },
  {
   "cell_type": "markdown",
   "metadata": {},
   "source": [
    "## Load the dataset"
   ]
  },
  {
   "cell_type": "code",
   "execution_count": 2,
   "metadata": {},
   "outputs": [],
   "source": [
    "# you might have to change the value of these variables depending on the path you chose\n",
    "DATA_DIR = 'datasets/'\n",
    "FILENAME = 'kddcup.data.corrected'"
   ]
  },
  {
   "cell_type": "code",
   "execution_count": 3,
   "metadata": {},
   "outputs": [],
   "source": [
    "# feature names obtained from: http://kdd.ics.uci.edu/databases/kddcup99/kddcup.names\n",
    "header_names = [\n",
    "    'duration', 'protocol_type', 'service', 'flag', 'src_bytes', 'dst_bytes', 'land', 'wrong_fragment', \n",
    "    'urgent', 'hot', 'num_failed_logins', 'logged_in', 'num_compromised', 'root_shell', 'su_attempted', \n",
    "    'num_root', 'num_file_creations', 'num_shells', 'num_access_files', 'num_outbound_cmds', 'is_host_login', \n",
    "    'is_guest_login', 'count', 'srv_count', 'serror_rate', 'srv_serror_rate', 'rerror_rate', 'srv_rerror_rate', \n",
    "    'same_srv_rate', 'diff_srv_rate', 'srv_diff_host_rate', 'dst_host_count', 'dst_host_srv_count', \n",
    "    'dst_host_same_srv_rate', 'dst_host_diff_srv_rate', 'dst_host_same_src_port_rate', \n",
    "    'dst_host_srv_diff_host_rate', 'dst_host_serror_rate', 'dst_host_srv_serror_rate', 'dst_host_rerror_rate', \n",
    "    'dst_host_srv_rerror_rate', 'attack_type'\n",
    "]"
   ]
  },
  {
   "cell_type": "code",
   "execution_count": 4,
   "metadata": {},
   "outputs": [],
   "source": [
    "df = pd.read_csv(DATA_DIR+FILENAME, header=None, names=header_names, sep=',')"
   ]
  },
  {
   "cell_type": "markdown",
   "metadata": {},
   "source": [
    "<div class=\"alert alert-block alert-danger\">\n",
    "    <b>Q: What is the effect of setting <i>header=None</i>?</b>\n",
    "</div>\n",
    "\n",
    "[hint](https://pandas.pydata.org/pandas-docs/stable/reference/api/pandas.read_csv.html)"
   ]
  },
  {
   "cell_type": "markdown",
   "metadata": {},
   "source": [
    "<div class=\"alert alert-block alert-success\">\n",
    "If you do not insert header=None, the read_csv function will try to infer the name of the columns from the first line of the csv file. In practice, you will a DF with wrong names and you will lose one data entry.\n",
    "</div>"
   ]
  },
  {
   "cell_type": "markdown",
   "metadata": {},
   "source": [
    "<div class=\"alert alert-block alert-danger\">\n",
    "    <b>Q: What is the effect of setting <i>names=header_names</i>?</b>\n",
    "</div>"
   ]
  },
  {
   "cell_type": "markdown",
   "metadata": {},
   "source": [
    "<div class=\"alert alert-block alert-success\">\n",
    "Since read_csv does not infer the column names from the csv file (because we have set header=None), with names=header_names we are telling the function which are the names of the columns of the dataframe.\n",
    "</div>"
   ]
  },
  {
   "cell_type": "markdown",
   "metadata": {},
   "source": [
    "<div class=\"alert alert-block alert-info\">\n",
    "<b>\n",
    "IMPORTANT:\n",
    "    \n",
    "The cell below reduces the size of the dataframe by sampling some of its elements. This is only done to work with a smaller amount of data. You can try to run the notebook without running this cell; if it crashes due to memory errors, come back here and rerun the notebook with less data.\n",
    "    \n",
    "If you still have troubles, there is a smaller version available on the same website.\n",
    "The file name is *kddcup.data_10_percent.gz*.\n",
    "</b>\n",
    "</div>"
   ]
  },
  {
   "cell_type": "code",
   "execution_count": 5,
   "metadata": {},
   "outputs": [],
   "source": [
    "df = df.sample(frac=0.4)"
   ]
  },
  {
   "cell_type": "markdown",
   "metadata": {},
   "source": [
    "## Initial analysis of the data"
   ]
  },
  {
   "cell_type": "markdown",
   "metadata": {},
   "source": [
    "<div class=\"alert alert-block alert-danger\">\n",
    "<b>Q: Display the first 5 rows of the dataframe</b>\n",
    "</div>"
   ]
  },
  {
   "cell_type": "markdown",
   "metadata": {},
   "source": [
    "<div class=\"alert alert-block alert-success\">\n",
    "Several possibilities:\n",
    "</div>"
   ]
  },
  {
   "cell_type": "code",
   "execution_count": 6,
   "metadata": {},
   "outputs": [
    {
     "data": {
      "text/html": [
       "<div>\n",
       "<style scoped>\n",
       "    .dataframe tbody tr th:only-of-type {\n",
       "        vertical-align: middle;\n",
       "    }\n",
       "\n",
       "    .dataframe tbody tr th {\n",
       "        vertical-align: top;\n",
       "    }\n",
       "\n",
       "    .dataframe thead th {\n",
       "        text-align: right;\n",
       "    }\n",
       "</style>\n",
       "<table border=\"1\" class=\"dataframe\">\n",
       "  <thead>\n",
       "    <tr style=\"text-align: right;\">\n",
       "      <th></th>\n",
       "      <th>duration</th>\n",
       "      <th>protocol_type</th>\n",
       "      <th>service</th>\n",
       "      <th>flag</th>\n",
       "      <th>src_bytes</th>\n",
       "      <th>dst_bytes</th>\n",
       "      <th>land</th>\n",
       "      <th>wrong_fragment</th>\n",
       "      <th>urgent</th>\n",
       "      <th>hot</th>\n",
       "      <th>...</th>\n",
       "      <th>dst_host_srv_count</th>\n",
       "      <th>dst_host_same_srv_rate</th>\n",
       "      <th>dst_host_diff_srv_rate</th>\n",
       "      <th>dst_host_same_src_port_rate</th>\n",
       "      <th>dst_host_srv_diff_host_rate</th>\n",
       "      <th>dst_host_serror_rate</th>\n",
       "      <th>dst_host_srv_serror_rate</th>\n",
       "      <th>dst_host_rerror_rate</th>\n",
       "      <th>dst_host_srv_rerror_rate</th>\n",
       "      <th>attack_type</th>\n",
       "    </tr>\n",
       "  </thead>\n",
       "  <tbody>\n",
       "    <tr>\n",
       "      <th>4280694</th>\n",
       "      <td>0</td>\n",
       "      <td>icmp</td>\n",
       "      <td>ecr_i</td>\n",
       "      <td>SF</td>\n",
       "      <td>520</td>\n",
       "      <td>0</td>\n",
       "      <td>0</td>\n",
       "      <td>0</td>\n",
       "      <td>0</td>\n",
       "      <td>0</td>\n",
       "      <td>...</td>\n",
       "      <td>255</td>\n",
       "      <td>1.00</td>\n",
       "      <td>0.00</td>\n",
       "      <td>1.00</td>\n",
       "      <td>0.00</td>\n",
       "      <td>0.0</td>\n",
       "      <td>0.0</td>\n",
       "      <td>0.0</td>\n",
       "      <td>0.0</td>\n",
       "      <td>smurf.</td>\n",
       "    </tr>\n",
       "    <tr>\n",
       "      <th>752742</th>\n",
       "      <td>0</td>\n",
       "      <td>tcp</td>\n",
       "      <td>http</td>\n",
       "      <td>REJ</td>\n",
       "      <td>0</td>\n",
       "      <td>0</td>\n",
       "      <td>0</td>\n",
       "      <td>0</td>\n",
       "      <td>0</td>\n",
       "      <td>0</td>\n",
       "      <td>...</td>\n",
       "      <td>255</td>\n",
       "      <td>1.00</td>\n",
       "      <td>0.00</td>\n",
       "      <td>0.33</td>\n",
       "      <td>0.21</td>\n",
       "      <td>0.0</td>\n",
       "      <td>0.0</td>\n",
       "      <td>1.0</td>\n",
       "      <td>1.0</td>\n",
       "      <td>normal.</td>\n",
       "    </tr>\n",
       "    <tr>\n",
       "      <th>3051348</th>\n",
       "      <td>0</td>\n",
       "      <td>icmp</td>\n",
       "      <td>ecr_i</td>\n",
       "      <td>SF</td>\n",
       "      <td>1032</td>\n",
       "      <td>0</td>\n",
       "      <td>0</td>\n",
       "      <td>0</td>\n",
       "      <td>0</td>\n",
       "      <td>0</td>\n",
       "      <td>...</td>\n",
       "      <td>255</td>\n",
       "      <td>1.00</td>\n",
       "      <td>0.00</td>\n",
       "      <td>1.00</td>\n",
       "      <td>0.00</td>\n",
       "      <td>0.0</td>\n",
       "      <td>0.0</td>\n",
       "      <td>0.0</td>\n",
       "      <td>0.0</td>\n",
       "      <td>smurf.</td>\n",
       "    </tr>\n",
       "    <tr>\n",
       "      <th>3531508</th>\n",
       "      <td>0</td>\n",
       "      <td>tcp</td>\n",
       "      <td>private</td>\n",
       "      <td>S0</td>\n",
       "      <td>0</td>\n",
       "      <td>0</td>\n",
       "      <td>0</td>\n",
       "      <td>0</td>\n",
       "      <td>0</td>\n",
       "      <td>0</td>\n",
       "      <td>...</td>\n",
       "      <td>4</td>\n",
       "      <td>0.02</td>\n",
       "      <td>0.08</td>\n",
       "      <td>0.00</td>\n",
       "      <td>0.00</td>\n",
       "      <td>1.0</td>\n",
       "      <td>1.0</td>\n",
       "      <td>0.0</td>\n",
       "      <td>0.0</td>\n",
       "      <td>neptune.</td>\n",
       "    </tr>\n",
       "    <tr>\n",
       "      <th>1739299</th>\n",
       "      <td>0</td>\n",
       "      <td>icmp</td>\n",
       "      <td>ecr_i</td>\n",
       "      <td>SF</td>\n",
       "      <td>1032</td>\n",
       "      <td>0</td>\n",
       "      <td>0</td>\n",
       "      <td>0</td>\n",
       "      <td>0</td>\n",
       "      <td>0</td>\n",
       "      <td>...</td>\n",
       "      <td>255</td>\n",
       "      <td>1.00</td>\n",
       "      <td>0.00</td>\n",
       "      <td>1.00</td>\n",
       "      <td>0.00</td>\n",
       "      <td>0.0</td>\n",
       "      <td>0.0</td>\n",
       "      <td>0.0</td>\n",
       "      <td>0.0</td>\n",
       "      <td>smurf.</td>\n",
       "    </tr>\n",
       "  </tbody>\n",
       "</table>\n",
       "<p>5 rows × 42 columns</p>\n",
       "</div>"
      ],
      "text/plain": [
       "         duration protocol_type  service flag  src_bytes  dst_bytes  land  \\\n",
       "4280694         0          icmp    ecr_i   SF        520          0     0   \n",
       "752742          0           tcp     http  REJ          0          0     0   \n",
       "3051348         0          icmp    ecr_i   SF       1032          0     0   \n",
       "3531508         0           tcp  private   S0          0          0     0   \n",
       "1739299         0          icmp    ecr_i   SF       1032          0     0   \n",
       "\n",
       "         wrong_fragment  urgent  hot     ...       dst_host_srv_count  \\\n",
       "4280694               0       0    0     ...                      255   \n",
       "752742                0       0    0     ...                      255   \n",
       "3051348               0       0    0     ...                      255   \n",
       "3531508               0       0    0     ...                        4   \n",
       "1739299               0       0    0     ...                      255   \n",
       "\n",
       "         dst_host_same_srv_rate  dst_host_diff_srv_rate  \\\n",
       "4280694                    1.00                    0.00   \n",
       "752742                     1.00                    0.00   \n",
       "3051348                    1.00                    0.00   \n",
       "3531508                    0.02                    0.08   \n",
       "1739299                    1.00                    0.00   \n",
       "\n",
       "         dst_host_same_src_port_rate  dst_host_srv_diff_host_rate  \\\n",
       "4280694                         1.00                         0.00   \n",
       "752742                          0.33                         0.21   \n",
       "3051348                         1.00                         0.00   \n",
       "3531508                         0.00                         0.00   \n",
       "1739299                         1.00                         0.00   \n",
       "\n",
       "         dst_host_serror_rate  dst_host_srv_serror_rate  dst_host_rerror_rate  \\\n",
       "4280694                   0.0                       0.0                   0.0   \n",
       "752742                    0.0                       0.0                   1.0   \n",
       "3051348                   0.0                       0.0                   0.0   \n",
       "3531508                   1.0                       1.0                   0.0   \n",
       "1739299                   0.0                       0.0                   0.0   \n",
       "\n",
       "         dst_host_srv_rerror_rate  attack_type  \n",
       "4280694                       0.0       smurf.  \n",
       "752742                        1.0      normal.  \n",
       "3051348                       0.0       smurf.  \n",
       "3531508                       0.0     neptune.  \n",
       "1739299                       0.0       smurf.  \n",
       "\n",
       "[5 rows x 42 columns]"
      ]
     },
     "execution_count": 6,
     "metadata": {},
     "output_type": "execute_result"
    }
   ],
   "source": [
    "df[:5]"
   ]
  },
  {
   "cell_type": "code",
   "execution_count": 7,
   "metadata": {},
   "outputs": [
    {
     "data": {
      "text/html": [
       "<div>\n",
       "<style scoped>\n",
       "    .dataframe tbody tr th:only-of-type {\n",
       "        vertical-align: middle;\n",
       "    }\n",
       "\n",
       "    .dataframe tbody tr th {\n",
       "        vertical-align: top;\n",
       "    }\n",
       "\n",
       "    .dataframe thead th {\n",
       "        text-align: right;\n",
       "    }\n",
       "</style>\n",
       "<table border=\"1\" class=\"dataframe\">\n",
       "  <thead>\n",
       "    <tr style=\"text-align: right;\">\n",
       "      <th></th>\n",
       "      <th>duration</th>\n",
       "      <th>protocol_type</th>\n",
       "      <th>service</th>\n",
       "      <th>flag</th>\n",
       "      <th>src_bytes</th>\n",
       "      <th>dst_bytes</th>\n",
       "      <th>land</th>\n",
       "      <th>wrong_fragment</th>\n",
       "      <th>urgent</th>\n",
       "      <th>hot</th>\n",
       "      <th>...</th>\n",
       "      <th>dst_host_srv_count</th>\n",
       "      <th>dst_host_same_srv_rate</th>\n",
       "      <th>dst_host_diff_srv_rate</th>\n",
       "      <th>dst_host_same_src_port_rate</th>\n",
       "      <th>dst_host_srv_diff_host_rate</th>\n",
       "      <th>dst_host_serror_rate</th>\n",
       "      <th>dst_host_srv_serror_rate</th>\n",
       "      <th>dst_host_rerror_rate</th>\n",
       "      <th>dst_host_srv_rerror_rate</th>\n",
       "      <th>attack_type</th>\n",
       "    </tr>\n",
       "  </thead>\n",
       "  <tbody>\n",
       "    <tr>\n",
       "      <th>4280694</th>\n",
       "      <td>0</td>\n",
       "      <td>icmp</td>\n",
       "      <td>ecr_i</td>\n",
       "      <td>SF</td>\n",
       "      <td>520</td>\n",
       "      <td>0</td>\n",
       "      <td>0</td>\n",
       "      <td>0</td>\n",
       "      <td>0</td>\n",
       "      <td>0</td>\n",
       "      <td>...</td>\n",
       "      <td>255</td>\n",
       "      <td>1.00</td>\n",
       "      <td>0.00</td>\n",
       "      <td>1.00</td>\n",
       "      <td>0.00</td>\n",
       "      <td>0.0</td>\n",
       "      <td>0.0</td>\n",
       "      <td>0.0</td>\n",
       "      <td>0.0</td>\n",
       "      <td>smurf.</td>\n",
       "    </tr>\n",
       "    <tr>\n",
       "      <th>752742</th>\n",
       "      <td>0</td>\n",
       "      <td>tcp</td>\n",
       "      <td>http</td>\n",
       "      <td>REJ</td>\n",
       "      <td>0</td>\n",
       "      <td>0</td>\n",
       "      <td>0</td>\n",
       "      <td>0</td>\n",
       "      <td>0</td>\n",
       "      <td>0</td>\n",
       "      <td>...</td>\n",
       "      <td>255</td>\n",
       "      <td>1.00</td>\n",
       "      <td>0.00</td>\n",
       "      <td>0.33</td>\n",
       "      <td>0.21</td>\n",
       "      <td>0.0</td>\n",
       "      <td>0.0</td>\n",
       "      <td>1.0</td>\n",
       "      <td>1.0</td>\n",
       "      <td>normal.</td>\n",
       "    </tr>\n",
       "    <tr>\n",
       "      <th>3051348</th>\n",
       "      <td>0</td>\n",
       "      <td>icmp</td>\n",
       "      <td>ecr_i</td>\n",
       "      <td>SF</td>\n",
       "      <td>1032</td>\n",
       "      <td>0</td>\n",
       "      <td>0</td>\n",
       "      <td>0</td>\n",
       "      <td>0</td>\n",
       "      <td>0</td>\n",
       "      <td>...</td>\n",
       "      <td>255</td>\n",
       "      <td>1.00</td>\n",
       "      <td>0.00</td>\n",
       "      <td>1.00</td>\n",
       "      <td>0.00</td>\n",
       "      <td>0.0</td>\n",
       "      <td>0.0</td>\n",
       "      <td>0.0</td>\n",
       "      <td>0.0</td>\n",
       "      <td>smurf.</td>\n",
       "    </tr>\n",
       "    <tr>\n",
       "      <th>3531508</th>\n",
       "      <td>0</td>\n",
       "      <td>tcp</td>\n",
       "      <td>private</td>\n",
       "      <td>S0</td>\n",
       "      <td>0</td>\n",
       "      <td>0</td>\n",
       "      <td>0</td>\n",
       "      <td>0</td>\n",
       "      <td>0</td>\n",
       "      <td>0</td>\n",
       "      <td>...</td>\n",
       "      <td>4</td>\n",
       "      <td>0.02</td>\n",
       "      <td>0.08</td>\n",
       "      <td>0.00</td>\n",
       "      <td>0.00</td>\n",
       "      <td>1.0</td>\n",
       "      <td>1.0</td>\n",
       "      <td>0.0</td>\n",
       "      <td>0.0</td>\n",
       "      <td>neptune.</td>\n",
       "    </tr>\n",
       "    <tr>\n",
       "      <th>1739299</th>\n",
       "      <td>0</td>\n",
       "      <td>icmp</td>\n",
       "      <td>ecr_i</td>\n",
       "      <td>SF</td>\n",
       "      <td>1032</td>\n",
       "      <td>0</td>\n",
       "      <td>0</td>\n",
       "      <td>0</td>\n",
       "      <td>0</td>\n",
       "      <td>0</td>\n",
       "      <td>...</td>\n",
       "      <td>255</td>\n",
       "      <td>1.00</td>\n",
       "      <td>0.00</td>\n",
       "      <td>1.00</td>\n",
       "      <td>0.00</td>\n",
       "      <td>0.0</td>\n",
       "      <td>0.0</td>\n",
       "      <td>0.0</td>\n",
       "      <td>0.0</td>\n",
       "      <td>smurf.</td>\n",
       "    </tr>\n",
       "  </tbody>\n",
       "</table>\n",
       "<p>5 rows × 42 columns</p>\n",
       "</div>"
      ],
      "text/plain": [
       "         duration protocol_type  service flag  src_bytes  dst_bytes  land  \\\n",
       "4280694         0          icmp    ecr_i   SF        520          0     0   \n",
       "752742          0           tcp     http  REJ          0          0     0   \n",
       "3051348         0          icmp    ecr_i   SF       1032          0     0   \n",
       "3531508         0           tcp  private   S0          0          0     0   \n",
       "1739299         0          icmp    ecr_i   SF       1032          0     0   \n",
       "\n",
       "         wrong_fragment  urgent  hot     ...       dst_host_srv_count  \\\n",
       "4280694               0       0    0     ...                      255   \n",
       "752742                0       0    0     ...                      255   \n",
       "3051348               0       0    0     ...                      255   \n",
       "3531508               0       0    0     ...                        4   \n",
       "1739299               0       0    0     ...                      255   \n",
       "\n",
       "         dst_host_same_srv_rate  dst_host_diff_srv_rate  \\\n",
       "4280694                    1.00                    0.00   \n",
       "752742                     1.00                    0.00   \n",
       "3051348                    1.00                    0.00   \n",
       "3531508                    0.02                    0.08   \n",
       "1739299                    1.00                    0.00   \n",
       "\n",
       "         dst_host_same_src_port_rate  dst_host_srv_diff_host_rate  \\\n",
       "4280694                         1.00                         0.00   \n",
       "752742                          0.33                         0.21   \n",
       "3051348                         1.00                         0.00   \n",
       "3531508                         0.00                         0.00   \n",
       "1739299                         1.00                         0.00   \n",
       "\n",
       "         dst_host_serror_rate  dst_host_srv_serror_rate  dst_host_rerror_rate  \\\n",
       "4280694                   0.0                       0.0                   0.0   \n",
       "752742                    0.0                       0.0                   1.0   \n",
       "3051348                   0.0                       0.0                   0.0   \n",
       "3531508                   1.0                       1.0                   0.0   \n",
       "1739299                   0.0                       0.0                   0.0   \n",
       "\n",
       "         dst_host_srv_rerror_rate  attack_type  \n",
       "4280694                       0.0       smurf.  \n",
       "752742                        1.0      normal.  \n",
       "3051348                       0.0       smurf.  \n",
       "3531508                       0.0     neptune.  \n",
       "1739299                       0.0       smurf.  \n",
       "\n",
       "[5 rows x 42 columns]"
      ]
     },
     "execution_count": 7,
     "metadata": {},
     "output_type": "execute_result"
    }
   ],
   "source": [
    "df.head(5)"
   ]
  },
  {
   "cell_type": "markdown",
   "metadata": {},
   "source": [
    "<div class=\"alert alert-block alert-danger\">\n",
    "<b>Q: How many entries are in the dataframe?</b>\n",
    "</div>"
   ]
  },
  {
   "cell_type": "markdown",
   "metadata": {},
   "source": [
    "<div class=\"alert alert-block alert-success\">\n",
    "Several possibilities.\n",
    "</div>"
   ]
  },
  {
   "cell_type": "code",
   "execution_count": 8,
   "metadata": {},
   "outputs": [
    {
     "data": {
      "text/plain": [
       "1959372"
      ]
     },
     "execution_count": 8,
     "metadata": {},
     "output_type": "execute_result"
    }
   ],
   "source": [
    "len(df.index)"
   ]
  },
  {
   "cell_type": "code",
   "execution_count": 9,
   "metadata": {},
   "outputs": [
    {
     "data": {
      "text/plain": [
       "1959372"
      ]
     },
     "execution_count": 9,
     "metadata": {},
     "output_type": "execute_result"
    }
   ],
   "source": [
    "df.shape[0]"
   ]
  },
  {
   "cell_type": "markdown",
   "metadata": {},
   "source": [
    "<div class=\"alert alert-block alert-danger\">\n",
    "<b>Q: How many columns does the original dataframe have?</b>\n",
    "</div>"
   ]
  },
  {
   "cell_type": "code",
   "execution_count": 10,
   "metadata": {},
   "outputs": [
    {
     "data": {
      "text/plain": [
       "42"
      ]
     },
     "execution_count": 10,
     "metadata": {},
     "output_type": "execute_result"
    }
   ],
   "source": [
    "df.shape[1]"
   ]
  },
  {
   "cell_type": "code",
   "execution_count": 11,
   "metadata": {},
   "outputs": [
    {
     "data": {
      "text/plain": [
       "42"
      ]
     },
     "execution_count": 11,
     "metadata": {},
     "output_type": "execute_result"
    }
   ],
   "source": [
    "len(df.columns)"
   ]
  },
  {
   "cell_type": "markdown",
   "metadata": {},
   "source": [
    "<div class=\"alert alert-block alert-danger\">\n",
    "<b>Q: How many FEATURES?</b>\n",
    "</div>"
   ]
  },
  {
   "cell_type": "markdown",
   "metadata": {},
   "source": [
    "<div class=\"alert alert-block alert-success\">\n",
    "41, since the features (aka attributes) are all the columns except attack_type. If you want to get that number with code you can do:\n",
    "</div>"
   ]
  },
  {
   "cell_type": "code",
   "execution_count": 12,
   "metadata": {},
   "outputs": [
    {
     "data": {
      "text/plain": [
       "41"
      ]
     },
     "execution_count": 12,
     "metadata": {},
     "output_type": "execute_result"
    }
   ],
   "source": [
    "len(df.drop('attack_type', axis=1).columns)"
   ]
  },
  {
   "cell_type": "markdown",
   "metadata": {},
   "source": [
    "<div class=\"alert alert-block alert-danger\">\n",
    "<b>Q: Are there any categorical variables?</b>\n",
    "</div>\n",
    "\n",
    "[hint](https://pandas.pydata.org/pandas-docs/stable/reference/api/pandas.DataFrame.info.html)"
   ]
  },
  {
   "cell_type": "code",
   "execution_count": 13,
   "metadata": {
    "scrolled": true
   },
   "outputs": [
    {
     "name": "stdout",
     "output_type": "stream",
     "text": [
      "<class 'pandas.core.frame.DataFrame'>\n",
      "Int64Index: 1959372 entries, 4280694 to 4295474\n",
      "Data columns (total 42 columns):\n",
      "duration                       int64\n",
      "protocol_type                  object\n",
      "service                        object\n",
      "flag                           object\n",
      "src_bytes                      int64\n",
      "dst_bytes                      int64\n",
      "land                           int64\n",
      "wrong_fragment                 int64\n",
      "urgent                         int64\n",
      "hot                            int64\n",
      "num_failed_logins              int64\n",
      "logged_in                      int64\n",
      "num_compromised                int64\n",
      "root_shell                     int64\n",
      "su_attempted                   int64\n",
      "num_root                       int64\n",
      "num_file_creations             int64\n",
      "num_shells                     int64\n",
      "num_access_files               int64\n",
      "num_outbound_cmds              int64\n",
      "is_host_login                  int64\n",
      "is_guest_login                 int64\n",
      "count                          int64\n",
      "srv_count                      int64\n",
      "serror_rate                    float64\n",
      "srv_serror_rate                float64\n",
      "rerror_rate                    float64\n",
      "srv_rerror_rate                float64\n",
      "same_srv_rate                  float64\n",
      "diff_srv_rate                  float64\n",
      "srv_diff_host_rate             float64\n",
      "dst_host_count                 int64\n",
      "dst_host_srv_count             int64\n",
      "dst_host_same_srv_rate         float64\n",
      "dst_host_diff_srv_rate         float64\n",
      "dst_host_same_src_port_rate    float64\n",
      "dst_host_srv_diff_host_rate    float64\n",
      "dst_host_serror_rate           float64\n",
      "dst_host_srv_serror_rate       float64\n",
      "dst_host_rerror_rate           float64\n",
      "dst_host_srv_rerror_rate       float64\n",
      "attack_type                    object\n",
      "dtypes: float64(15), int64(23), object(4)\n",
      "memory usage: 642.8+ MB\n"
     ]
    }
   ],
   "source": [
    "df.info()"
   ]
  },
  {
   "cell_type": "markdown",
   "metadata": {},
   "source": [
    "<div class=\"alert alert-block alert-success\">\n",
    "Yes, 3 of them. All the columns that are *not* int64 or float64\n",
    "</div>"
   ]
  },
  {
   "cell_type": "markdown",
   "metadata": {},
   "source": [
    "<div class=\"alert alert-block alert-info\">\n",
    "If you want to get with code the name of the categorical attributes (in this case it is not needed, but if you have thousands of features you might need it), you cannot do that from df.info() directly.\n",
    "However you can do as follows:\n",
    "</div>"
   ]
  },
  {
   "cell_type": "code",
   "execution_count": 14,
   "metadata": {},
   "outputs": [
    {
     "data": {
      "text/plain": [
       "{'attack_type', 'flag', 'protocol_type', 'service'}"
      ]
     },
     "execution_count": 14,
     "metadata": {},
     "output_type": "execute_result"
    }
   ],
   "source": [
    "set(df.columns) - set(df.describe().columns)"
   ]
  },
  {
   "cell_type": "markdown",
   "metadata": {},
   "source": [
    "<div class=\"alert alert-block alert-info\">\n",
    "df.describe() create a dataframe containing statistics about df. Since the statistics are only about numerical attributes, the other attributes are dropped from the dataframe. Thus, if you keep the columns that were in df but not in df.describe(), you keep all the non-numerical attributes of df.\n",
    "</div>"
   ]
  },
  {
   "cell_type": "markdown",
   "metadata": {},
   "source": [
    "## pre-processing the dataset and continuing the analysis"
   ]
  },
  {
   "cell_type": "code",
   "execution_count": 15,
   "metadata": {},
   "outputs": [],
   "source": [
    "col_names = np.array(header_names)\n",
    "\n",
    "nominal_idx = [1, 2, 3]\n",
    "binary_idx = [6, 11, 13, 14, 20, 21]\n",
    "numeric_idx = list(set(range(41)).difference(nominal_idx).difference(binary_idx))\n",
    "\n",
    "nominal_cols = col_names[nominal_idx].tolist()\n",
    "binary_cols = col_names[binary_idx].tolist()\n",
    "numeric_cols = col_names[numeric_idx].tolist()"
   ]
  },
  {
   "cell_type": "markdown",
   "metadata": {},
   "source": [
    "<div class=\"alert alert-block alert-danger\">\n",
    "    <b>Q: What is the difference between <i>col_names</i> and <i>header_names</i>?</b>\n",
    "</div>\n",
    "\n",
    "[hint](https://docs.python.org/3/library/functions.html#type)"
   ]
  },
  {
   "cell_type": "code",
   "execution_count": 16,
   "metadata": {
    "scrolled": true
   },
   "outputs": [
    {
     "data": {
      "text/plain": [
       "['duration',\n",
       " 'protocol_type',\n",
       " 'service',\n",
       " 'flag',\n",
       " 'src_bytes',\n",
       " 'dst_bytes',\n",
       " 'land',\n",
       " 'wrong_fragment',\n",
       " 'urgent',\n",
       " 'hot',\n",
       " 'num_failed_logins',\n",
       " 'logged_in',\n",
       " 'num_compromised',\n",
       " 'root_shell',\n",
       " 'su_attempted',\n",
       " 'num_root',\n",
       " 'num_file_creations',\n",
       " 'num_shells',\n",
       " 'num_access_files',\n",
       " 'num_outbound_cmds',\n",
       " 'is_host_login',\n",
       " 'is_guest_login',\n",
       " 'count',\n",
       " 'srv_count',\n",
       " 'serror_rate',\n",
       " 'srv_serror_rate',\n",
       " 'rerror_rate',\n",
       " 'srv_rerror_rate',\n",
       " 'same_srv_rate',\n",
       " 'diff_srv_rate',\n",
       " 'srv_diff_host_rate',\n",
       " 'dst_host_count',\n",
       " 'dst_host_srv_count',\n",
       " 'dst_host_same_srv_rate',\n",
       " 'dst_host_diff_srv_rate',\n",
       " 'dst_host_same_src_port_rate',\n",
       " 'dst_host_srv_diff_host_rate',\n",
       " 'dst_host_serror_rate',\n",
       " 'dst_host_srv_serror_rate',\n",
       " 'dst_host_rerror_rate',\n",
       " 'dst_host_srv_rerror_rate',\n",
       " 'attack_type']"
      ]
     },
     "execution_count": 16,
     "metadata": {},
     "output_type": "execute_result"
    }
   ],
   "source": [
    "header_names"
   ]
  },
  {
   "cell_type": "code",
   "execution_count": 17,
   "metadata": {},
   "outputs": [
    {
     "data": {
      "text/plain": [
       "array(['duration', 'protocol_type', 'service', 'flag', 'src_bytes',\n",
       "       'dst_bytes', 'land', 'wrong_fragment', 'urgent', 'hot',\n",
       "       'num_failed_logins', 'logged_in', 'num_compromised', 'root_shell',\n",
       "       'su_attempted', 'num_root', 'num_file_creations', 'num_shells',\n",
       "       'num_access_files', 'num_outbound_cmds', 'is_host_login',\n",
       "       'is_guest_login', 'count', 'srv_count', 'serror_rate',\n",
       "       'srv_serror_rate', 'rerror_rate', 'srv_rerror_rate',\n",
       "       'same_srv_rate', 'diff_srv_rate', 'srv_diff_host_rate',\n",
       "       'dst_host_count', 'dst_host_srv_count', 'dst_host_same_srv_rate',\n",
       "       'dst_host_diff_srv_rate', 'dst_host_same_src_port_rate',\n",
       "       'dst_host_srv_diff_host_rate', 'dst_host_serror_rate',\n",
       "       'dst_host_srv_serror_rate', 'dst_host_rerror_rate',\n",
       "       'dst_host_srv_rerror_rate', 'attack_type'], dtype='<U27')"
      ]
     },
     "execution_count": 17,
     "metadata": {},
     "output_type": "execute_result"
    }
   ],
   "source": [
    "col_names"
   ]
  },
  {
   "cell_type": "code",
   "execution_count": 18,
   "metadata": {},
   "outputs": [
    {
     "data": {
      "text/plain": [
       "numpy.ndarray"
      ]
     },
     "execution_count": 18,
     "metadata": {},
     "output_type": "execute_result"
    }
   ],
   "source": [
    "type(col_names)"
   ]
  },
  {
   "cell_type": "code",
   "execution_count": 19,
   "metadata": {},
   "outputs": [
    {
     "data": {
      "text/plain": [
       "list"
      ]
     },
     "execution_count": 19,
     "metadata": {},
     "output_type": "execute_result"
    }
   ],
   "source": [
    "type(header_names)"
   ]
  },
  {
   "cell_type": "markdown",
   "metadata": {},
   "source": [
    "<div class=\"alert alert-block alert-success\">\n",
    "Different types\n",
    "</div>"
   ]
  },
  {
   "cell_type": "markdown",
   "metadata": {},
   "source": [
    "<div class=\"alert alert-block alert-danger\">\n",
    "<b>Q: How many distinct values exist for the categorical variables?</b>\n",
    "</div>"
   ]
  },
  {
   "cell_type": "code",
   "execution_count": 20,
   "metadata": {},
   "outputs": [
    {
     "name": "stdout",
     "output_type": "stream",
     "text": [
      "protocol_type : 3\n",
      "service : 69\n",
      "flag : 11\n"
     ]
    }
   ],
   "source": [
    "print(nominal_cols[0], \":\", len(df[nominal_cols[0]].unique()))\n",
    "print(nominal_cols[1], \":\", len(df[nominal_cols[1]].unique()))\n",
    "print(nominal_cols[2], \":\", len(df[nominal_cols[2]].unique()))"
   ]
  },
  {
   "cell_type": "markdown",
   "metadata": {},
   "source": [
    "<div class=\"alert alert-block alert-danger\">\n",
    "<b>Q: Do the same as above, but try to use only *two* lines of code.</b>\n",
    "</div>\n",
    "\n",
    "hint: remember the `for` loop"
   ]
  },
  {
   "cell_type": "code",
   "execution_count": 21,
   "metadata": {},
   "outputs": [
    {
     "name": "stdout",
     "output_type": "stream",
     "text": [
      "protocol_type : 3\n",
      "service : 69\n",
      "flag : 11\n"
     ]
    }
   ],
   "source": [
    "for col in nominal_cols:\n",
    "    print(col, \":\", len(df[col].unique()))"
   ]
  },
  {
   "cell_type": "markdown",
   "metadata": {},
   "source": [
    "Another option (but the previous one is better)"
   ]
  },
  {
   "cell_type": "code",
   "execution_count": 22,
   "metadata": {},
   "outputs": [
    {
     "name": "stdout",
     "output_type": "stream",
     "text": [
      "protocol_type : 3\n",
      "service : 69\n",
      "flag : 11\n"
     ]
    }
   ],
   "source": [
    "for idx in range(len(nominal_cols)):\n",
    "    print(nominal_cols[idx], \":\", len(df[nominal_cols[idx]].unique()))"
   ]
  },
  {
   "cell_type": "markdown",
   "metadata": {},
   "source": [
    "<div class=\"alert alert-block alert-danger\">\n",
    "<b>Q: What are the possible values of the categorical variables?</b>\n",
    "</div>\n",
    "\n",
    "Try to use only **two** lines of code to print all the possible values of the categorical variables."
   ]
  },
  {
   "cell_type": "code",
   "execution_count": 23,
   "metadata": {
    "scrolled": true
   },
   "outputs": [
    {
     "name": "stdout",
     "output_type": "stream",
     "text": [
      "protocol_type : ['icmp' 'tcp' 'udp']\n",
      "service : ['ecr_i' 'http' 'private' 'ftp' 'uucp' 'uucp_path' 'domain_u' 'ftp_data'\n",
      " 'systat' 'smtp' 'other' 'urh_i' 'shell' 'rje' 'finger' 'auth' 'eco_i'\n",
      " 'netbios_dgm' 'discard' 'vmnet' 'csnet_ns' 'pop_3' 'urp_i' 'whois'\n",
      " 'netbios_ns' 'klogin' 'telnet' 'nnsp' 'ntp_u' 'supdup' 'ctf' 'ssh'\n",
      " 'netbios_ssn' 'remote_job' 'daytime' 'exec' 'hostnames' 'time' 'efs'\n",
      " 'nntp' 'kshell' 'login' 'sunrpc' 'netstat' 'name' 'pop_2' 'domain' 'link'\n",
      " 'http_443' 'mtp' 'courier' 'bgp' 'iso_tsap' 'sql_net' 'IRC' 'printer'\n",
      " 'imap4' 'echo' 'ldap' 'gopher' 'Z39_50' 'X11' 'tim_i' 'http_8001'\n",
      " 'http_2784' 'tftp_u' 'red_i' 'aol' 'pm_dump']\n",
      "flag : ['SF' 'REJ' 'S0' 'RSTO' 'RSTR' 'S1' 'SH' 'RSTOS0' 'OTH' 'S2' 'S3']\n"
     ]
    }
   ],
   "source": [
    "for col in nominal_cols:\n",
    "    print(col, \":\", df[col].unique())"
   ]
  },
  {
   "cell_type": "markdown",
   "metadata": {},
   "source": [
    "<div class=\"alert alert-block alert-danger\">\n",
    "<b>Q: Which is the maximum duration, minimun duration and average duration of the entries in the dataframe?</b>\n",
    "</div>"
   ]
  },
  {
   "cell_type": "code",
   "execution_count": 24,
   "metadata": {},
   "outputs": [
    {
     "data": {
      "text/plain": [
       "58329"
      ]
     },
     "execution_count": 24,
     "metadata": {},
     "output_type": "execute_result"
    }
   ],
   "source": [
    "df['duration'].max()"
   ]
  },
  {
   "cell_type": "code",
   "execution_count": 25,
   "metadata": {
    "scrolled": true
   },
   "outputs": [
    {
     "data": {
      "text/plain": [
       "0"
      ]
     },
     "execution_count": 25,
     "metadata": {},
     "output_type": "execute_result"
    }
   ],
   "source": [
    "df['duration'].min()"
   ]
  },
  {
   "cell_type": "code",
   "execution_count": 26,
   "metadata": {
    "scrolled": true
   },
   "outputs": [
    {
     "data": {
      "text/plain": [
       "48.815367883178894"
      ]
     },
     "execution_count": 26,
     "metadata": {},
     "output_type": "execute_result"
    }
   ],
   "source": [
    "df['duration'].mean()"
   ]
  },
  {
   "cell_type": "markdown",
   "metadata": {},
   "source": [
    "<div class=\"alert alert-block alert-danger\">\n",
    "<b>Q: How many entries are 'root_shell' and how many aren't?</b>\n",
    "</div>"
   ]
  },
  {
   "cell_type": "code",
   "execution_count": 27,
   "metadata": {},
   "outputs": [
    {
     "data": {
      "text/html": [
       "<div>\n",
       "<style scoped>\n",
       "    .dataframe tbody tr th:only-of-type {\n",
       "        vertical-align: middle;\n",
       "    }\n",
       "\n",
       "    .dataframe tbody tr th {\n",
       "        vertical-align: top;\n",
       "    }\n",
       "\n",
       "    .dataframe thead th {\n",
       "        text-align: right;\n",
       "    }\n",
       "</style>\n",
       "<table border=\"1\" class=\"dataframe\">\n",
       "  <thead>\n",
       "    <tr style=\"text-align: right;\">\n",
       "      <th></th>\n",
       "      <th>root_shell</th>\n",
       "      <th>0</th>\n",
       "    </tr>\n",
       "  </thead>\n",
       "  <tbody>\n",
       "    <tr>\n",
       "      <th>0</th>\n",
       "      <td>0</td>\n",
       "      <td>1959246</td>\n",
       "    </tr>\n",
       "    <tr>\n",
       "      <th>1</th>\n",
       "      <td>1</td>\n",
       "      <td>126</td>\n",
       "    </tr>\n",
       "  </tbody>\n",
       "</table>\n",
       "</div>"
      ],
      "text/plain": [
       "   root_shell        0\n",
       "0           0  1959246\n",
       "1           1      126"
      ]
     },
     "execution_count": 27,
     "metadata": {},
     "output_type": "execute_result"
    }
   ],
   "source": [
    "df.groupby('root_shell').size().reset_index()"
   ]
  },
  {
   "cell_type": "markdown",
   "metadata": {},
   "source": [
    "<div class=\"alert alert-block alert-success\">\n",
    "You can do the same with value_counts as well, but it does *not* return a DataFrame object, differently from the solution with the groupby.\n",
    "</div>"
   ]
  },
  {
   "cell_type": "code",
   "execution_count": 28,
   "metadata": {},
   "outputs": [
    {
     "data": {
      "text/plain": [
       "0    1959246\n",
       "1        126\n",
       "Name: root_shell, dtype: int64"
      ]
     },
     "execution_count": 28,
     "metadata": {},
     "output_type": "execute_result"
    }
   ],
   "source": [
    "df['root_shell'].value_counts()"
   ]
  },
  {
   "cell_type": "markdown",
   "metadata": {},
   "source": [
    "<div class=\"alert alert-block alert-danger\">\n",
    "<b>Q: Count the number of entries for each 'protocol_type'</b>\n",
    "</div>"
   ]
  },
  {
   "cell_type": "code",
   "execution_count": 29,
   "metadata": {},
   "outputs": [
    {
     "data": {
      "text/html": [
       "<div>\n",
       "<style scoped>\n",
       "    .dataframe tbody tr th:only-of-type {\n",
       "        vertical-align: middle;\n",
       "    }\n",
       "\n",
       "    .dataframe tbody tr th {\n",
       "        vertical-align: top;\n",
       "    }\n",
       "\n",
       "    .dataframe thead th {\n",
       "        text-align: right;\n",
       "    }\n",
       "</style>\n",
       "<table border=\"1\" class=\"dataframe\">\n",
       "  <thead>\n",
       "    <tr style=\"text-align: right;\">\n",
       "      <th></th>\n",
       "      <th>protocol_type</th>\n",
       "      <th>0</th>\n",
       "    </tr>\n",
       "  </thead>\n",
       "  <tbody>\n",
       "    <tr>\n",
       "      <th>0</th>\n",
       "      <td>icmp</td>\n",
       "      <td>1133905</td>\n",
       "    </tr>\n",
       "    <tr>\n",
       "      <th>1</th>\n",
       "      <td>tcp</td>\n",
       "      <td>747766</td>\n",
       "    </tr>\n",
       "    <tr>\n",
       "      <th>2</th>\n",
       "      <td>udp</td>\n",
       "      <td>77701</td>\n",
       "    </tr>\n",
       "  </tbody>\n",
       "</table>\n",
       "</div>"
      ],
      "text/plain": [
       "  protocol_type        0\n",
       "0          icmp  1133905\n",
       "1           tcp   747766\n",
       "2           udp    77701"
      ]
     },
     "execution_count": 29,
     "metadata": {},
     "output_type": "execute_result"
    }
   ],
   "source": [
    "df.groupby('protocol_type').size().reset_index()"
   ]
  },
  {
   "cell_type": "markdown",
   "metadata": {},
   "source": [
    "<div class=\"alert alert-block alert-danger\">\n",
    "<b>Q: Which is the most frequent 'service'?</b>\n",
    "</div>\n",
    "\n",
    "- [hint](https://pandas.pydata.org/pandas-docs/stable/reference/api/pandas.DataFrame.groupby.html)\n",
    "- [hint](https://pandas.pydata.org/pandas-docs/stable/reference/api/pandas.DataFrame.sort_values.html)"
   ]
  },
  {
   "cell_type": "code",
   "execution_count": 30,
   "metadata": {},
   "outputs": [
    {
     "data": {
      "text/plain": [
       "'ecr_i'"
      ]
     },
     "execution_count": 30,
     "metadata": {},
     "output_type": "execute_result"
    }
   ],
   "source": [
    "df.groupby('service').size().reset_index().sort_values(0, ascending=False)['service'].values[0]"
   ]
  },
  {
   "cell_type": "markdown",
   "metadata": {},
   "source": [
    "Analyzing a bit the cell above:\n",
    "- `df.groupby('service').size().reset_index()` creates a dataframe that contains the number of occurrences of every service\n",
    "- `.sort_values(0, ascending=False)` sorts such dataframe accordingly to the number of occurrences (descending order)\n",
    "- `['service']` gets the Series representing the service column\n",
    "- `.values` returns the sequence of elements of the Series\n",
    "- `[0]` returns the first element"
   ]
  },
  {
   "cell_type": "markdown",
   "metadata": {},
   "source": [
    "## Mapping each attack type to one category"
   ]
  },
  {
   "cell_type": "markdown",
   "metadata": {},
   "source": [
    "<div class=\"alert alert-block alert-danger\">\n",
    "<b>Q: How many different 'attack_types' are in the dataframe and how common are they?</b>\n",
    "</div>"
   ]
  },
  {
   "cell_type": "code",
   "execution_count": 31,
   "metadata": {},
   "outputs": [
    {
     "data": {
      "text/plain": [
       "21"
      ]
     },
     "execution_count": 31,
     "metadata": {},
     "output_type": "execute_result"
    }
   ],
   "source": [
    "len(df['attack_type'].unique())"
   ]
  },
  {
   "cell_type": "code",
   "execution_count": 32,
   "metadata": {
    "scrolled": true
   },
   "outputs": [
    {
     "data": {
      "text/html": [
       "<div>\n",
       "<style scoped>\n",
       "    .dataframe tbody tr th:only-of-type {\n",
       "        vertical-align: middle;\n",
       "    }\n",
       "\n",
       "    .dataframe tbody tr th {\n",
       "        vertical-align: top;\n",
       "    }\n",
       "\n",
       "    .dataframe thead th {\n",
       "        text-align: right;\n",
       "    }\n",
       "</style>\n",
       "<table border=\"1\" class=\"dataframe\">\n",
       "  <thead>\n",
       "    <tr style=\"text-align: right;\">\n",
       "      <th></th>\n",
       "      <th>attack_type</th>\n",
       "      <th>0</th>\n",
       "    </tr>\n",
       "  </thead>\n",
       "  <tbody>\n",
       "    <tr>\n",
       "      <th>17</th>\n",
       "      <td>smurf.</td>\n",
       "      <td>1123617</td>\n",
       "    </tr>\n",
       "    <tr>\n",
       "      <th>9</th>\n",
       "      <td>neptune.</td>\n",
       "      <td>428252</td>\n",
       "    </tr>\n",
       "    <tr>\n",
       "      <th>11</th>\n",
       "      <td>normal.</td>\n",
       "      <td>389104</td>\n",
       "    </tr>\n",
       "    <tr>\n",
       "      <th>16</th>\n",
       "      <td>satan.</td>\n",
       "      <td>6390</td>\n",
       "    </tr>\n",
       "    <tr>\n",
       "      <th>5</th>\n",
       "      <td>ipsweep.</td>\n",
       "      <td>5001</td>\n",
       "    </tr>\n",
       "    <tr>\n",
       "      <th>14</th>\n",
       "      <td>portsweep.</td>\n",
       "      <td>4200</td>\n",
       "    </tr>\n",
       "    <tr>\n",
       "      <th>10</th>\n",
       "      <td>nmap.</td>\n",
       "      <td>911</td>\n",
       "    </tr>\n",
       "    <tr>\n",
       "      <th>0</th>\n",
       "      <td>back.</td>\n",
       "      <td>867</td>\n",
       "    </tr>\n",
       "    <tr>\n",
       "      <th>19</th>\n",
       "      <td>warezclient.</td>\n",
       "      <td>444</td>\n",
       "    </tr>\n",
       "    <tr>\n",
       "      <th>18</th>\n",
       "      <td>teardrop.</td>\n",
       "      <td>407</td>\n",
       "    </tr>\n",
       "    <tr>\n",
       "      <th>13</th>\n",
       "      <td>pod.</td>\n",
       "      <td>108</td>\n",
       "    </tr>\n",
       "    <tr>\n",
       "      <th>3</th>\n",
       "      <td>guess_passwd.</td>\n",
       "      <td>16</td>\n",
       "    </tr>\n",
       "    <tr>\n",
       "      <th>6</th>\n",
       "      <td>land.</td>\n",
       "      <td>10</td>\n",
       "    </tr>\n",
       "    <tr>\n",
       "      <th>4</th>\n",
       "      <td>imap.</td>\n",
       "      <td>9</td>\n",
       "    </tr>\n",
       "    <tr>\n",
       "      <th>20</th>\n",
       "      <td>warezmaster.</td>\n",
       "      <td>9</td>\n",
       "    </tr>\n",
       "    <tr>\n",
       "      <th>1</th>\n",
       "      <td>buffer_overflow.</td>\n",
       "      <td>8</td>\n",
       "    </tr>\n",
       "    <tr>\n",
       "      <th>15</th>\n",
       "      <td>rootkit.</td>\n",
       "      <td>8</td>\n",
       "    </tr>\n",
       "    <tr>\n",
       "      <th>7</th>\n",
       "      <td>loadmodule.</td>\n",
       "      <td>3</td>\n",
       "    </tr>\n",
       "    <tr>\n",
       "      <th>12</th>\n",
       "      <td>perl.</td>\n",
       "      <td>3</td>\n",
       "    </tr>\n",
       "    <tr>\n",
       "      <th>2</th>\n",
       "      <td>ftp_write.</td>\n",
       "      <td>3</td>\n",
       "    </tr>\n",
       "    <tr>\n",
       "      <th>8</th>\n",
       "      <td>multihop.</td>\n",
       "      <td>2</td>\n",
       "    </tr>\n",
       "  </tbody>\n",
       "</table>\n",
       "</div>"
      ],
      "text/plain": [
       "         attack_type        0\n",
       "17            smurf.  1123617\n",
       "9           neptune.   428252\n",
       "11           normal.   389104\n",
       "16            satan.     6390\n",
       "5           ipsweep.     5001\n",
       "14        portsweep.     4200\n",
       "10             nmap.      911\n",
       "0              back.      867\n",
       "19      warezclient.      444\n",
       "18         teardrop.      407\n",
       "13              pod.      108\n",
       "3      guess_passwd.       16\n",
       "6              land.       10\n",
       "4              imap.        9\n",
       "20      warezmaster.        9\n",
       "1   buffer_overflow.        8\n",
       "15          rootkit.        8\n",
       "7        loadmodule.        3\n",
       "12             perl.        3\n",
       "2         ftp_write.        3\n",
       "8          multihop.        2"
      ]
     },
     "execution_count": 32,
     "metadata": {},
     "output_type": "execute_result"
    }
   ],
   "source": [
    "df.groupby('attack_type').size().reset_index().sort_values(0, ascending=False)"
   ]
  },
  {
   "cell_type": "markdown",
   "metadata": {},
   "source": [
    "<div class=\"alert alert-block alert-danger\">\n",
    "<b>Q: What does the following cell do?</b>\n",
    "</div>\n",
    "\n",
    "- [hint1](https://pandas.pydata.org/pandas-docs/stable/reference/api/pandas.DataFrame.apply.html)\n",
    "- hint2: display the dataframe after performing this operation and look at it"
   ]
  },
  {
   "cell_type": "code",
   "execution_count": 33,
   "metadata": {},
   "outputs": [
    {
     "data": {
      "text/plain": [
       "4280694     smurf.\n",
       "752742     normal.\n",
       "Name: attack_type, dtype: object"
      ]
     },
     "metadata": {},
     "output_type": "display_data"
    }
   ],
   "source": [
    "display(df['attack_type'][:2])"
   ]
  },
  {
   "cell_type": "code",
   "execution_count": 34,
   "metadata": {},
   "outputs": [],
   "source": [
    "df['attack_type'] = df.apply(lambda r: r['attack_type'][:-1], axis=1)"
   ]
  },
  {
   "cell_type": "code",
   "execution_count": 35,
   "metadata": {},
   "outputs": [
    {
     "data": {
      "text/plain": [
       "4280694     smurf\n",
       "752742     normal\n",
       "Name: attack_type, dtype: object"
      ]
     },
     "metadata": {},
     "output_type": "display_data"
    }
   ],
   "source": [
    "display(df['attack_type'][:2])"
   ]
  },
  {
   "cell_type": "markdown",
   "metadata": {},
   "source": [
    "<div class=\"alert alert-block alert-success\">\n",
    "Removes the last character from all the entries in the attack_type column.\n",
    "    \n",
    "Specifically, it overwrites the values in the 'attack_type' column, and removes the latest character from all the elements of that column.\n",
    "</div>"
   ]
  },
  {
   "cell_type": "markdown",
   "metadata": {},
   "source": [
    "Analyzing a bit the cell above:\n",
    "- `df['attack_type'] =`: specifies that the results of the operation on the right end side of the \"=\" will be written in the 'attacl_type' column\n",
    "- `df.apply(lambda r: ..., axis=1)`: tells us that we are going to perform one operation one line at a time. The operation to perform is the one defined in `...` (in this case `r['attack_type'][:-1]` \n",
    "- `r['attack_type'][:-1]`: the operation consits in getting the current value in the 'attack_type' column and remove the last character."
   ]
  },
  {
   "cell_type": "markdown",
   "metadata": {},
   "source": [
    "The file *training_attack_types.txt* maps each of the attacks in the original dataset to 1 category.\n",
    "The file can be found [here](http://kdd.ics.uci.edu/databases/kddcup99/kddcup99.html), or in the github repo."
   ]
  },
  {
   "cell_type": "code",
   "execution_count": 36,
   "metadata": {},
   "outputs": [],
   "source": [
    "from collections import defaultdict"
   ]
  },
  {
   "cell_type": "markdown",
   "metadata": {},
   "source": [
    "You can think of `defaultdict` as a dictionary.\n",
    "If you are interested in the details, you can find the documentation [here](https://docs.python.org/2/library/collections.html#collections.defaultdict)."
   ]
  },
  {
   "cell_type": "code",
   "execution_count": 37,
   "metadata": {},
   "outputs": [],
   "source": [
    "category = defaultdict(list)\n",
    "category['benign'].append('normal')"
   ]
  },
  {
   "cell_type": "code",
   "execution_count": 38,
   "metadata": {},
   "outputs": [],
   "source": [
    "TRAINING_ATTACK_TYPES_FILENAME = 'training_attack_types.txt'"
   ]
  },
  {
   "cell_type": "code",
   "execution_count": 39,
   "metadata": {},
   "outputs": [],
   "source": [
    "with open(DATA_DIR+TRAINING_ATTACK_TYPES_FILENAME, 'r') as f:\n",
    "    for line in f.readlines():\n",
    "        attack, cat = line.strip().split(' ')\n",
    "        category[cat].append(attack)\n",
    "\n",
    "attack_mapping = {v: k for k in category for v in category[k]}"
   ]
  },
  {
   "cell_type": "markdown",
   "metadata": {},
   "source": [
    "<div class=\"alert alert-block alert-danger\">\n",
    "<b>Q: What is 'attack_mapping'?</b>\n",
    "</div>"
   ]
  },
  {
   "cell_type": "code",
   "execution_count": 40,
   "metadata": {
    "scrolled": true
   },
   "outputs": [
    {
     "data": {
      "text/plain": [
       "dict"
      ]
     },
     "execution_count": 40,
     "metadata": {},
     "output_type": "execute_result"
    }
   ],
   "source": [
    "type(attack_mapping)"
   ]
  },
  {
   "cell_type": "code",
   "execution_count": 41,
   "metadata": {},
   "outputs": [
    {
     "data": {
      "text/plain": [
       "{'normal': 'benign',\n",
       " 'back': 'dos',\n",
       " 'land': 'dos',\n",
       " 'neptune': 'dos',\n",
       " 'pod': 'dos',\n",
       " 'smurf': 'dos',\n",
       " 'teardrop': 'dos',\n",
       " 'buffer_overflow': 'u2r',\n",
       " 'loadmodule': 'u2r',\n",
       " 'perl': 'u2r',\n",
       " 'rootkit': 'u2r',\n",
       " 'ftp_write': 'r2l',\n",
       " 'guess_passwd': 'r2l',\n",
       " 'imap': 'r2l',\n",
       " 'multihop': 'r2l',\n",
       " 'phf': 'r2l',\n",
       " 'spy': 'r2l',\n",
       " 'warezclient': 'r2l',\n",
       " 'warezmaster': 'r2l',\n",
       " 'ipsweep': 'probe',\n",
       " 'nmap': 'probe',\n",
       " 'portsweep': 'probe',\n",
       " 'satan': 'probe'}"
      ]
     },
     "execution_count": 41,
     "metadata": {},
     "output_type": "execute_result"
    }
   ],
   "source": [
    "attack_mapping"
   ]
  },
  {
   "cell_type": "markdown",
   "metadata": {},
   "source": [
    "<div class=\"alert alert-block alert-success\">\n",
    "It is a dictionary, it maps each attack_type to one category\n",
    "</div>"
   ]
  },
  {
   "cell_type": "markdown",
   "metadata": {},
   "source": [
    "<div class=\"alert alert-block alert-danger\">\n",
    "<b>Q: How many categories of attacks are there? What are their names?</b>\n",
    "</div>"
   ]
  },
  {
   "cell_type": "code",
   "execution_count": 42,
   "metadata": {
    "scrolled": true
   },
   "outputs": [
    {
     "data": {
      "text/plain": [
       "5"
      ]
     },
     "execution_count": 42,
     "metadata": {},
     "output_type": "execute_result"
    }
   ],
   "source": [
    "len(set(attack_mapping.values()))"
   ]
  },
  {
   "cell_type": "code",
   "execution_count": 43,
   "metadata": {
    "scrolled": true
   },
   "outputs": [
    {
     "data": {
      "text/plain": [
       "{'benign', 'dos', 'probe', 'r2l', 'u2r'}"
      ]
     },
     "execution_count": 43,
     "metadata": {},
     "output_type": "execute_result"
    }
   ],
   "source": [
    "set(attack_mapping.values())"
   ]
  },
  {
   "cell_type": "markdown",
   "metadata": {},
   "source": [
    "### Perform the actual mapping"
   ]
  },
  {
   "cell_type": "code",
   "execution_count": 44,
   "metadata": {},
   "outputs": [],
   "source": [
    "df['attack_category'] = df.apply(lambda r: attack_mapping[r['attack_type']], axis=1)"
   ]
  },
  {
   "cell_type": "markdown",
   "metadata": {},
   "source": [
    "<div class=\"alert alert-block alert-info\">\n",
    "This is similar to what was done above. The difference is that here a new column is created (named \"attack_category\"), which contains, for each row, the category of the attack type (<code>r['attack_type']</code> is used as a key to access the dictionary <code>attack_mapping</code>) \n",
    "</div>"
   ]
  },
  {
   "cell_type": "markdown",
   "metadata": {},
   "source": [
    "<div class=\"alert alert-block alert-danger\">\n",
    "<b>Q: Count the number of occurrences of each category</b>\n",
    "</div>"
   ]
  },
  {
   "cell_type": "code",
   "execution_count": 45,
   "metadata": {
    "scrolled": true
   },
   "outputs": [
    {
     "data": {
      "text/html": [
       "<div>\n",
       "<style scoped>\n",
       "    .dataframe tbody tr th:only-of-type {\n",
       "        vertical-align: middle;\n",
       "    }\n",
       "\n",
       "    .dataframe tbody tr th {\n",
       "        vertical-align: top;\n",
       "    }\n",
       "\n",
       "    .dataframe thead th {\n",
       "        text-align: right;\n",
       "    }\n",
       "</style>\n",
       "<table border=\"1\" class=\"dataframe\">\n",
       "  <thead>\n",
       "    <tr style=\"text-align: right;\">\n",
       "      <th></th>\n",
       "      <th>attack_category</th>\n",
       "      <th>0</th>\n",
       "    </tr>\n",
       "  </thead>\n",
       "  <tbody>\n",
       "    <tr>\n",
       "      <th>1</th>\n",
       "      <td>dos</td>\n",
       "      <td>1553261</td>\n",
       "    </tr>\n",
       "    <tr>\n",
       "      <th>0</th>\n",
       "      <td>benign</td>\n",
       "      <td>389104</td>\n",
       "    </tr>\n",
       "    <tr>\n",
       "      <th>2</th>\n",
       "      <td>probe</td>\n",
       "      <td>16502</td>\n",
       "    </tr>\n",
       "    <tr>\n",
       "      <th>3</th>\n",
       "      <td>r2l</td>\n",
       "      <td>483</td>\n",
       "    </tr>\n",
       "    <tr>\n",
       "      <th>4</th>\n",
       "      <td>u2r</td>\n",
       "      <td>22</td>\n",
       "    </tr>\n",
       "  </tbody>\n",
       "</table>\n",
       "</div>"
      ],
      "text/plain": [
       "  attack_category        0\n",
       "1             dos  1553261\n",
       "0          benign   389104\n",
       "2           probe    16502\n",
       "3             r2l      483\n",
       "4             u2r       22"
      ]
     },
     "execution_count": 45,
     "metadata": {},
     "output_type": "execute_result"
    }
   ],
   "source": [
    "df.groupby('attack_category').size().reset_index().sort_values(0, ascending=False)"
   ]
  },
  {
   "cell_type": "markdown",
   "metadata": {},
   "source": [
    "## Data preparation: dummy variables\n",
    "\n",
    "We have some categorical variables. Thus, we have to converte them to one-hot encoded variables."
   ]
  },
  {
   "cell_type": "markdown",
   "metadata": {},
   "source": [
    "<div class=\"alert alert-block alert-danger\">\n",
    "<b>Q: Create a new DataFrame encoding the categorical attributes with one hot encoding.</b>\n",
    "</div>"
   ]
  },
  {
   "cell_type": "code",
   "execution_count": 46,
   "metadata": {},
   "outputs": [],
   "source": [
    "# Convert categorical feature into dummy variables with one-hot encoding\n",
    "df_one_hot = pd.get_dummies(df, columns=nominal_cols)"
   ]
  },
  {
   "cell_type": "markdown",
   "metadata": {},
   "source": [
    "## Data preparation: Train-test split"
   ]
  },
  {
   "cell_type": "code",
   "execution_count": 47,
   "metadata": {},
   "outputs": [],
   "source": [
    "from sklearn.model_selection import train_test_split\n",
    "\n",
    "# Split dataset up into train and test sets\n",
    "X_train, X_test, y_train, y_test = train_test_split(\n",
    "    df_one_hot.drop(['attack_category', 'attack_type'], axis=1), \n",
    "    df_one_hot['attack_category'], \n",
    "    test_size=0.3\n",
    ")"
   ]
  },
  {
   "cell_type": "markdown",
   "metadata": {},
   "source": [
    "## Data preparation: scaling"
   ]
  },
  {
   "cell_type": "code",
   "execution_count": 48,
   "metadata": {},
   "outputs": [],
   "source": [
    "from sklearn.preprocessing import StandardScaler"
   ]
  },
  {
   "cell_type": "code",
   "execution_count": 49,
   "metadata": {},
   "outputs": [
    {
     "name": "stderr",
     "output_type": "stream",
     "text": [
      "/home/luca/anaconda3/lib/python3.7/site-packages/sklearn/preprocessing/data.py:625: DataConversionWarning: Data with input dtype int64, float64 were all converted to float64 by StandardScaler.\n",
      "  return self.partial_fit(X, y)\n",
      "/home/luca/anaconda3/lib/python3.7/site-packages/ipykernel_launcher.py:6: DataConversionWarning: Data with input dtype int64, float64 were all converted to float64 by StandardScaler.\n",
      "  \n",
      "/home/luca/anaconda3/lib/python3.7/site-packages/ipykernel_launcher.py:7: DataConversionWarning: Data with input dtype int64, float64 were all converted to float64 by StandardScaler.\n",
      "  import sys\n"
     ]
    }
   ],
   "source": [
    "# This cell might take a while to run\n",
    "# also, if it crashes it might mean that you do not have enough memory available, try rerunning the notebook \n",
    "#     closing some other windows\n",
    "standard_scaler = StandardScaler().fit(X_train[numeric_cols])\n",
    "\n",
    "X_train[numeric_cols] = standard_scaler.transform(X_train[numeric_cols])\n",
    "X_test[numeric_cols] = standard_scaler.transform(X_test[numeric_cols])"
   ]
  },
  {
   "cell_type": "markdown",
   "metadata": {},
   "source": [
    "## Data preparation: converting label to integers"
   ]
  },
  {
   "cell_type": "markdown",
   "metadata": {},
   "source": [
    "<div class=\"alert alert-block alert-danger\">\n",
    "<b>Q: What does the following cell do?</b>\n",
    "</div>"
   ]
  },
  {
   "cell_type": "code",
   "execution_count": 50,
   "metadata": {},
   "outputs": [],
   "source": [
    "y_train_bin = y_train.apply(lambda x: 0 if x is 'benign' else 1)\n",
    "y_test_bin = y_test.apply(lambda x: 0 if x is 'benign' else 1)"
   ]
  },
  {
   "cell_type": "markdown",
   "metadata": {},
   "source": [
    "<div class=\"alert alert-block alert-success\">\n",
    "Converts the values in y_train and y_test in order to have only two classes (i.e. banign, malicious) instead of 5.\n",
    "</div>\n",
    "\n",
    "REMEMBER: `.apply` applies the `lambda` function within the `()` to each element of the sequence (in this case a Series)."
   ]
  },
  {
   "cell_type": "markdown",
   "metadata": {},
   "source": [
    "## Training the models: 2 classes"
   ]
  },
  {
   "cell_type": "markdown",
   "metadata": {},
   "source": [
    "As a first step, find the best model in detecting whether an entry is malicious or not (i.e. use the binary label)."
   ]
  },
  {
   "cell_type": "markdown",
   "metadata": {},
   "source": [
    "Try to train Decision Trees, Random Forests, kNN models, SVMs and Naive Bayes to find the best performing model.\n",
    "\n",
    "Feel free to modify the parameters of each model in order to find the best configuration; you can find the link to the documentation of each model in the cheatsheet.\n",
    "\n",
    "Looking for the best configuration in this way might seem as looking for a needle in a haystack and you might think that there must be some smarter ways to do this.\n",
    "Indeed, there are, but we'll see them in a later session."
   ]
  },
  {
   "cell_type": "code",
   "execution_count": 51,
   "metadata": {},
   "outputs": [],
   "source": [
    "from sklearn.naive_bayes import GaussianNB\n",
    "from sklearn.tree import DecisionTreeClassifier\n",
    "from sklearn.ensemble import RandomForestClassifier\n",
    "from sklearn.svm import SVC\n",
    "from sklearn.linear_model import LogisticRegression"
   ]
  },
  {
   "cell_type": "markdown",
   "metadata": {},
   "source": [
    "#### You can use the usual metrics, but be careful: you have to consider all the classes, when evaluating the model, the accuracy is not enough!"
   ]
  },
  {
   "cell_type": "code",
   "execution_count": 52,
   "metadata": {},
   "outputs": [],
   "source": [
    "from sklearn.metrics import accuracy_score, recall_score, precision_score, confusion_matrix"
   ]
  },
  {
   "cell_type": "code",
   "execution_count": 53,
   "metadata": {},
   "outputs": [],
   "source": [
    "import time"
   ]
  },
  {
   "cell_type": "markdown",
   "metadata": {},
   "source": [
    "<div class=\"alert alert-block alert-danger\">\n",
    "<b>Q: Logistic Regression: define, train and test the model computing the evaluation metrics. Also, measure how long the training takes.</b>\n",
    "</div>\n",
    "\n",
    "- [hint](https://docs.python.org/2/library/time.html#time.time) for measuring elapsed time"
   ]
  },
  {
   "cell_type": "code",
   "execution_count": 54,
   "metadata": {},
   "outputs": [
    {
     "name": "stdout",
     "output_type": "stream",
     "text": [
      "Elapsed time: 6.103515625e-05 s\n"
     ]
    }
   ],
   "source": [
    "# toy Example: how to measure time\n",
    "a = 5\n",
    "my_var = [1,2,3,4,5,6,7,8,9,0]\n",
    "\n",
    "t0 = time.time()\n",
    "for value in my_var:\n",
    "    a *= value\n",
    "print(\"Elapsed time:\", time.time() - t0, \"s\")"
   ]
  },
  {
   "cell_type": "code",
   "execution_count": 55,
   "metadata": {},
   "outputs": [
    {
     "name": "stderr",
     "output_type": "stream",
     "text": [
      "/home/luca/anaconda3/lib/python3.7/site-packages/sklearn/linear_model/logistic.py:758: ConvergenceWarning: lbfgs failed to converge. Increase the number of iterations.\n",
      "  \"of iterations.\", ConvergenceWarning)\n"
     ]
    },
    {
     "name": "stdout",
     "output_type": "stream",
     "text": [
      "elapsed time = 274.05\n"
     ]
    }
   ],
   "source": [
    "# define the classifier\n",
    "clf_lr = LogisticRegression(solver='lbfgs', max_iter=400)\n",
    "\n",
    "# train the classifier\n",
    "t0 = time.time()\n",
    "clf_lr.fit(X_train, y_train_bin)\n",
    "print(\"elapsed time = %.2f\" % (time.time()-t0))\n",
    "\n",
    "# perform the prediction\n",
    "y_pred_lr = clf_lr.predict(X_test)"
   ]
  },
  {
   "cell_type": "code",
   "execution_count": 56,
   "metadata": {},
   "outputs": [
    {
     "name": "stdout",
     "output_type": "stream",
     "text": [
      "ACCURACY:  0.9987478989881119\n",
      "PRECISION: 0.9987857843366179\n",
      "RECALL:    0.999651566463697\n",
      "[[116562    164]\n",
      " [   572 470514]]\n"
     ]
    }
   ],
   "source": [
    "print(\"ACCURACY: \", accuracy_score(y_pred_lr, y_test_bin))\n",
    "print(\"PRECISION:\", precision_score(y_pred_lr, y_test_bin))\n",
    "print(\"RECALL:   \", recall_score(y_pred_lr, y_test_bin))\n",
    "print(confusion_matrix(y_test_bin, y_pred_lr))"
   ]
  },
  {
   "cell_type": "markdown",
   "metadata": {},
   "source": [
    "<div class=\"alert alert-block alert-danger\">\n",
    "<b>Q: Do the same thing as above but with L1 regularization.</b>\n",
    "</div>"
   ]
  },
  {
   "cell_type": "code",
   "execution_count": 57,
   "metadata": {},
   "outputs": [
    {
     "name": "stderr",
     "output_type": "stream",
     "text": [
      "/home/luca/anaconda3/lib/python3.7/site-packages/sklearn/linear_model/logistic.py:433: FutureWarning: Default solver will be changed to 'lbfgs' in 0.22. Specify a solver to silence this warning.\n",
      "  FutureWarning)\n",
      "/home/luca/anaconda3/lib/python3.7/site-packages/sklearn/svm/base.py:922: ConvergenceWarning: Liblinear failed to converge, increase the number of iterations.\n",
      "  \"the number of iterations.\", ConvergenceWarning)\n"
     ]
    },
    {
     "name": "stdout",
     "output_type": "stream",
     "text": [
      "elapsed time = 1457.79\n"
     ]
    }
   ],
   "source": [
    "# define the classifier\n",
    "clf_lr = LogisticRegression(penalty='l1', max_iter=300)\n",
    "\n",
    "# train the classifier\n",
    "t0 = time.time()\n",
    "clf_lr.fit(X_train, y_train_bin)\n",
    "print(\"elapsed time = %.2f\" % (time.time()-t0))\n",
    "\n",
    "# perform the prediction\n",
    "y_pred_lr = clf_lr.predict(X_test)"
   ]
  },
  {
   "cell_type": "code",
   "execution_count": 58,
   "metadata": {},
   "outputs": [
    {
     "name": "stdout",
     "output_type": "stream",
     "text": [
      "ACCURACY:  0.9985624655502099\n",
      "PRECISION: 0.9985989819268668\n",
      "RECALL:    0.9996068940165019\n",
      "[[116541    185]\n",
      " [   660 470426]]\n"
     ]
    }
   ],
   "source": [
    "print(\"ACCURACY: \", accuracy_score(y_pred_lr, y_test_bin))\n",
    "print(\"PRECISION:\", precision_score(y_pred_lr, y_test_bin))\n",
    "print(\"RECALL:   \", recall_score(y_pred_lr, y_test_bin))\n",
    "print(confusion_matrix(y_test_bin, y_pred_lr))"
   ]
  },
  {
   "cell_type": "markdown",
   "metadata": {},
   "source": [
    "<div class=\"alert alert-block alert-danger\">\n",
    "<b>Q: Naive Bayes: define, train and test the model computing the evaluation metrics. Also, measure how long the training takes.</b>\n",
    "</div>"
   ]
  },
  {
   "cell_type": "code",
   "execution_count": 59,
   "metadata": {},
   "outputs": [
    {
     "name": "stdout",
     "output_type": "stream",
     "text": [
      "elapsed time = 7.04\n"
     ]
    }
   ],
   "source": [
    "# define the classifier\n",
    "clf_nb = GaussianNB()\n",
    "\n",
    "# train the classifier\n",
    "t0 = time.time()\n",
    "clf_nb.fit(X_train, y_train_bin)\n",
    "print(\"elapsed time = %.2f\" % (time.time()-t0))\n",
    "\n",
    "# perform the prediction\n",
    "y_pred_nb = clf_nb.predict(X_test)"
   ]
  },
  {
   "cell_type": "code",
   "execution_count": 60,
   "metadata": {},
   "outputs": [
    {
     "name": "stdout",
     "output_type": "stream",
     "text": [
      "ACCURACY:  0.9552424924976013\n",
      "PRECISION: 0.9442713220091449\n",
      "RECALL:    0.999874125905563\n",
      "[[116670     56]\n",
      " [ 26253 444833]]\n"
     ]
    }
   ],
   "source": [
    "print(\"ACCURACY: \", accuracy_score(y_pred_nb, y_test_bin))\n",
    "print(\"PRECISION:\", precision_score(y_pred_nb, y_test_bin))\n",
    "print(\"RECALL:   \", recall_score(y_pred_nb, y_test_bin))\n",
    "print(confusion_matrix(y_test_bin, y_pred_nb))"
   ]
  },
  {
   "cell_type": "markdown",
   "metadata": {},
   "source": [
    "<div class=\"alert alert-block alert-danger\">\n",
    "<b>Q: Decision Tree: define, train and test the model computing the evaluation metrics. Also, measure how long the training takes.</b>\n",
    "</div>"
   ]
  },
  {
   "cell_type": "code",
   "execution_count": 61,
   "metadata": {},
   "outputs": [
    {
     "name": "stdout",
     "output_type": "stream",
     "text": [
      "elapsed time = 34.57\n"
     ]
    }
   ],
   "source": [
    "# define the classifier\n",
    "clf_dt = DecisionTreeClassifier()\n",
    "\n",
    "# train the classifier\n",
    "t0 = time.time()\n",
    "clf_dt.fit(X_train, y_train_bin)\n",
    "print(\"elapsed time = %.2f\" % (time.time()-t0))\n",
    "\n",
    "# perform the prediction\n",
    "y_pred_dt = clf_dt.predict(X_test)"
   ]
  },
  {
   "cell_type": "code",
   "execution_count": 62,
   "metadata": {},
   "outputs": [
    {
     "name": "stdout",
     "output_type": "stream",
     "text": [
      "ACCURACY:  0.9999149387899533\n",
      "PRECISION: 0.9999448083789372\n",
      "RECALL:    0.9999490536719566\n",
      "[[116702     24]\n",
      " [    26 471060]]\n"
     ]
    }
   ],
   "source": [
    "print(\"ACCURACY: \", accuracy_score(y_pred_dt, y_test_bin))\n",
    "print(\"PRECISION:\", precision_score(y_pred_dt, y_test_bin))\n",
    "print(\"RECALL:   \", recall_score(y_pred_dt, y_test_bin))\n",
    "print(confusion_matrix(y_test_bin, y_pred_dt))"
   ]
  },
  {
   "cell_type": "markdown",
   "metadata": {},
   "source": [
    "<div class=\"alert alert-block alert-danger\">\n",
    "<b>Q: Random Forest: define, train and test the model computing the evaluation metrics. Also, measure how long the training takes.</b>\n",
    "</div>"
   ]
  },
  {
   "cell_type": "code",
   "execution_count": 63,
   "metadata": {},
   "outputs": [
    {
     "name": "stderr",
     "output_type": "stream",
     "text": [
      "/home/luca/anaconda3/lib/python3.7/site-packages/sklearn/ensemble/forest.py:246: FutureWarning: The default value of n_estimators will change from 10 in version 0.20 to 100 in 0.22.\n",
      "  \"10 in version 0.20 to 100 in 0.22.\", FutureWarning)\n"
     ]
    },
    {
     "name": "stdout",
     "output_type": "stream",
     "text": [
      "elapsed time = 25.99\n"
     ]
    }
   ],
   "source": [
    "# define the classifier\n",
    "clf_rf = RandomForestClassifier()\n",
    "\n",
    "# train the classifier\n",
    "t0 = time.time()\n",
    "clf_rf.fit(X_train, y_train_bin)\n",
    "print(\"elapsed time = %.2f\" % (time.time()-t0))\n",
    "\n",
    "# perform the prediction\n",
    "y_pred_rf = clf_rf.predict(X_test)"
   ]
  },
  {
   "cell_type": "code",
   "execution_count": 64,
   "metadata": {},
   "outputs": [
    {
     "name": "stdout",
     "output_type": "stream",
     "text": [
      "ACCURACY:  0.9999251461351588\n",
      "PRECISION: 0.9999172125684058\n",
      "RECALL:    0.9999893854606285\n",
      "[[116721      5]\n",
      " [    39 471047]]\n"
     ]
    }
   ],
   "source": [
    "print(\"ACCURACY: \", accuracy_score(y_pred_rf, y_test_bin))\n",
    "print(\"PRECISION:\", precision_score(y_pred_rf, y_test_bin))\n",
    "print(\"RECALL:   \", recall_score(y_pred_rf, y_test_bin))\n",
    "print(confusion_matrix(y_test_bin, y_pred_rf))"
   ]
  },
  {
   "cell_type": "markdown",
   "metadata": {},
   "source": [
    "<div class=\"alert alert-block alert-danger\">\n",
    "<b>Q: SVM: define, train and test the model computing the evaluation metrics. Also, measure how long the training takes.</b>\n",
    "</div>"
   ]
  },
  {
   "cell_type": "code",
   "execution_count": 65,
   "metadata": {},
   "outputs": [
    {
     "name": "stdout",
     "output_type": "stream",
     "text": [
      "elapsed time = 15019.32\n"
     ]
    }
   ],
   "source": [
    "# define the classifier\n",
    "clf_svc = SVC(kernel='linear')\n",
    "\n",
    "# train the classifier\n",
    "t0 = time.time()\n",
    "clf_svc.fit(X_train, y_train_bin)\n",
    "print(\"elapsed time = %.2f\" % (time.time()-t0))\n",
    "\n",
    "# perform the prediction\n",
    "y_pred_svc = clf_svc.predict(X_test)"
   ]
  },
  {
   "cell_type": "code",
   "execution_count": 66,
   "metadata": {},
   "outputs": [
    {
     "name": "stdout",
     "output_type": "stream",
     "text": [
      "ACCURACY:  0.9990966499493035\n",
      "PRECISION: 0.999150898137495\n",
      "RECALL:    0.9997217602592939\n",
      "[[116595    131]\n",
      " [   400 470686]]\n"
     ]
    }
   ],
   "source": [
    "print(\"ACCURACY: \", accuracy_score(y_pred_svc, y_test_bin))\n",
    "print(\"PRECISION:\", precision_score(y_pred_svc, y_test_bin))\n",
    "print(\"RECALL:   \", recall_score(y_pred_svc, y_test_bin))\n",
    "print(confusion_matrix(y_test_bin, y_pred_svc))"
   ]
  },
  {
   "cell_type": "markdown",
   "metadata": {},
   "source": [
    "<div class=\"alert alert-block alert-danger\">\n",
    "<b>Q: Which model do you think works best? Why do you say so?</b>\n",
    "</div>"
   ]
  },
  {
   "cell_type": "markdown",
   "metadata": {},
   "source": [
    "**ANS**:\n",
    "\n",
    "For choosing the model, you have to take in consideration different aspects:\n",
    "- evaluation metrics (i.e. accuracy, precision and recall)\n",
    "- the importance of each metric also depends on the specific scenario (e.g. I cannot afford to miss any attacks vs. I don't want to raise false positive because I don't want to warn the user)\n",
    "- training time\n",
    "- inference time (i.e. how long does it take to run on the test data?)\n",
    "\n",
    "It is rare the case when you can find \"the optimum\" model. Usually, you have a model that works better than another considering what you are interested in. "
   ]
  },
  {
   "cell_type": "markdown",
   "metadata": {},
   "source": [
    "## Training the models: 5 classes"
   ]
  },
  {
   "cell_type": "markdown",
   "metadata": {},
   "source": [
    "Now try to focus on the specific attack category.\n",
    "\n",
    "#### Be careful with the evaluation metrics. "
   ]
  },
  {
   "cell_type": "markdown",
   "metadata": {},
   "source": [
    "<div class=\"alert alert-block alert-danger\">\n",
    "<b>Q: Naive Bayes: define, train and test the model computing the evaluation metrics. Also, measure how long the training takes.</b>\n",
    "</div>"
   ]
  },
  {
   "cell_type": "code",
   "execution_count": 67,
   "metadata": {},
   "outputs": [
    {
     "name": "stdout",
     "output_type": "stream",
     "text": [
      "elapsed time = 6.52\n"
     ]
    }
   ],
   "source": [
    "# define the classifier\n",
    "clf_nb = GaussianNB()\n",
    "\n",
    "# train the classifier\n",
    "t0 = time.time()\n",
    "clf_nb.fit(X_train, y_train)\n",
    "print(\"elapsed time = %.2f\" % (time.time()-t0))\n",
    "\n",
    "# perform the prediction\n",
    "y_pred_nb = clf_nb.predict(X_test)"
   ]
  },
  {
   "cell_type": "code",
   "execution_count": 68,
   "metadata": {},
   "outputs": [
    {
     "name": "stdout",
     "output_type": "stream",
     "text": [
      "ACCURACY: 0.9704089062489367\n"
     ]
    }
   ],
   "source": [
    "# Compare test set predictions with ground truth labels\n",
    "print(\"ACCURACY:\", accuracy_score(y_pred_nb, y_test))"
   ]
  },
  {
   "cell_type": "markdown",
   "metadata": {},
   "source": [
    "<div class=\"alert alert-block alert-danger\">\n",
    "<b>Q: Decision Tree: define, train and test the model computing the evaluation metrics. Also, measure how long the training takes.</b>\n",
    "</div>"
   ]
  },
  {
   "cell_type": "code",
   "execution_count": 69,
   "metadata": {},
   "outputs": [
    {
     "name": "stdout",
     "output_type": "stream",
     "text": [
      "elapsed time = 27.40\n"
     ]
    }
   ],
   "source": [
    "# define the classifier\n",
    "clf_dt = DecisionTreeClassifier()\n",
    "\n",
    "# train the classifier\n",
    "t0 = time.time()\n",
    "clf_dt.fit(X_train, y_train)\n",
    "print(\"elapsed time = %.2f\" % (time.time()-t0))\n",
    "\n",
    "# perform the prediction\n",
    "y_pred_dt = clf_dt.predict(X_test)"
   ]
  },
  {
   "cell_type": "code",
   "execution_count": 70,
   "metadata": {
    "scrolled": true
   },
   "outputs": [
    {
     "name": "stdout",
     "output_type": "stream",
     "text": [
      "ACCURACY: 0.9999115363415514\n"
     ]
    }
   ],
   "source": [
    "# Compare test set predictions with ground truth labels\n",
    "print(\"ACCURACY:\", accuracy_score(y_pred_dt, y_test))"
   ]
  },
  {
   "cell_type": "markdown",
   "metadata": {},
   "source": [
    "<div class=\"alert alert-block alert-danger\">\n",
    "<b>Q: Random Forest: define, train and test the model computing the evaluation metrics. Also, measure how long the training takes.</b>\n",
    "</div>"
   ]
  },
  {
   "cell_type": "code",
   "execution_count": 71,
   "metadata": {
    "scrolled": true
   },
   "outputs": [
    {
     "name": "stderr",
     "output_type": "stream",
     "text": [
      "/home/luca/anaconda3/lib/python3.7/site-packages/sklearn/ensemble/forest.py:246: FutureWarning: The default value of n_estimators will change from 10 in version 0.20 to 100 in 0.22.\n",
      "  \"10 in version 0.20 to 100 in 0.22.\", FutureWarning)\n"
     ]
    },
    {
     "name": "stdout",
     "output_type": "stream",
     "text": [
      "elapsed time = 22.02\n"
     ]
    }
   ],
   "source": [
    "# define the classifier\n",
    "clf_rf = RandomForestClassifier()\n",
    "\n",
    "# train the classifier\n",
    "t0 = time.time()\n",
    "clf_rf.fit(X_train, y_train)\n",
    "print(\"elapsed time = %.2f\" % (time.time()-t0))\n",
    "\n",
    "# perform the prediction\n",
    "y_pred_rf = clf_rf.predict(X_test)"
   ]
  },
  {
   "cell_type": "code",
   "execution_count": 72,
   "metadata": {
    "scrolled": true
   },
   "outputs": [
    {
     "name": "stdout",
     "output_type": "stream",
     "text": [
      "ACCURACY: 0.9998911216511401\n"
     ]
    }
   ],
   "source": [
    "# Compare test set predictions with ground truth labels\n",
    "print(\"ACCURACY:\", accuracy_score(y_pred_rf, y_test))"
   ]
  },
  {
   "cell_type": "markdown",
   "metadata": {},
   "source": [
    "<div class=\"alert alert-block alert-danger\">\n",
    "<b>Q: SVM: define, train and test the model computing the evaluation metrics. Also, measure how long the training takes.</b>\n",
    "</div>"
   ]
  },
  {
   "cell_type": "code",
   "execution_count": 73,
   "metadata": {},
   "outputs": [
    {
     "name": "stdout",
     "output_type": "stream",
     "text": [
      "elapsed time = 2148.87\n"
     ]
    }
   ],
   "source": [
    "# define the classifier\n",
    "clf_svc = SVC(gamma='auto')\n",
    "\n",
    "# train the classifier\n",
    "t0 = time.time()\n",
    "clf_svc.fit(X_train, y_train)\n",
    "print(\"elapsed time = %.2f\" % (time.time()-t0))\n",
    "\n",
    "# perform the prediction\n",
    "y_pred_svc = clf_svc.predict(X_test)"
   ]
  },
  {
   "cell_type": "code",
   "execution_count": 74,
   "metadata": {},
   "outputs": [
    {
     "name": "stdout",
     "output_type": "stream",
     "text": [
      "ACCURACY: 0.9996920784196308\n"
     ]
    }
   ],
   "source": [
    "# Compare test set predictions with ground truth labels\n",
    "print(\"ACCURACY:\", accuracy_score(y_pred_svc, y_test))"
   ]
  },
  {
   "cell_type": "markdown",
   "metadata": {},
   "source": [
    "<div class=\"alert alert-block alert-danger\">\n",
    "<b>Q: Run your first neural net</b>\n",
    "</div>"
   ]
  },
  {
   "cell_type": "code",
   "execution_count": 75,
   "metadata": {},
   "outputs": [],
   "source": [
    "from sklearn.neural_network import MLPClassifier"
   ]
  },
  {
   "cell_type": "code",
   "execution_count": 76,
   "metadata": {},
   "outputs": [
    {
     "name": "stdout",
     "output_type": "stream",
     "text": [
      "elapsed time = 949.75\n"
     ]
    }
   ],
   "source": [
    "# define the classifier\n",
    "clf_nn = MLPClassifier(hidden_layer_sizes=(200, ), activation='relu')\n",
    "\n",
    "# train the classifier\n",
    "t0 = time.time()\n",
    "clf_nn.fit(X_train, y_train)\n",
    "print(\"elapsed time = %.2f\" % (time.time()-t0))\n",
    "\n",
    "# perform the prediction\n",
    "y_pred_nn = clf_nn.predict(X_test)"
   ]
  },
  {
   "cell_type": "code",
   "execution_count": 77,
   "metadata": {},
   "outputs": [
    {
     "name": "stdout",
     "output_type": "stream",
     "text": [
      "ACCURACY: 0.9998281763557055\n"
     ]
    }
   ],
   "source": [
    "# Compare test set predictions with ground truth labels\n",
    "print(\"ACCURACY:\", accuracy_score(y_pred_nn, y_test))"
   ]
  },
  {
   "cell_type": "markdown",
   "metadata": {},
   "source": [
    "<div class=\"alert alert-block alert-danger\">\n",
    "<b>Q: Which model do you think works best? How can you say so</b>\n",
    "</div>"
   ]
  },
  {
   "cell_type": "markdown",
   "metadata": {},
   "source": [
    "**ANS**:\n",
    "\n",
    "All the things said above about model selection are still valid.\n",
    "The main difference, considering that this is a multi-class problem, consists in the fact that now you have much more variance: while in the previous case the models could only make 2 types of mistakes (attack instead of non-attack and vice-versa), now they can miss the correct prediction in several ways (e.g. it detected an attack, but categorized it wrongly)."
   ]
  },
  {
   "cell_type": "markdown",
   "metadata": {},
   "source": [
    "## Analyse feature importance"
   ]
  },
  {
   "cell_type": "markdown",
   "metadata": {},
   "source": [
    "<div class=\"alert alert-block alert-danger\">\n",
    "<b>Q: How many features does our model get as input?</b>\n",
    "</div>"
   ]
  },
  {
   "cell_type": "code",
   "execution_count": 78,
   "metadata": {},
   "outputs": [
    {
     "data": {
      "text/plain": [
       "121"
      ]
     },
     "execution_count": 78,
     "metadata": {},
     "output_type": "execute_result"
    }
   ],
   "source": [
    "len(X_train.columns)"
   ]
  },
  {
   "cell_type": "markdown",
   "metadata": {},
   "source": [
    "We cannot assume that every feature is as important as the others.\n",
    "\n",
    "Some features might be very useful, some other features might even worsen the prediction!"
   ]
  },
  {
   "cell_type": "markdown",
   "metadata": {},
   "source": [
    "<div class=\"alert alert-block alert-danger\">\n",
    "<b>Q: Which is the importance of the features accordingly to the RF trained above? Which are the most important features? Which are the least important features? And how big is the difference between their importance?</b>\n",
    "</div>\n",
    "\n",
    "#### IMPORTANT:\n",
    "The RandomForest has a `feature_importances_` attribute, that returns the importance of each feature. You can find the documentation [here](https://scikit-learn.org/stable/modules/generated/sklearn.ensemble.RandomForestClassifier.html#sklearn.ensemble.RandomForestClassifier.feature_importances_).\n",
    "**However, it is important not to trust blindly the values returned by such attribute**, as it only represents \"the (normalized) total reduction of the criterion brought by that feature\"."
   ]
  },
  {
   "cell_type": "code",
   "execution_count": 79,
   "metadata": {
    "scrolled": true
   },
   "outputs": [
    {
     "data": {
      "text/plain": [
       "array([2.49783694e-02, 7.86719970e-02, 2.79961035e-02, 3.99985809e-06,\n",
       "       4.88471965e-04, 8.69840082e-07, 3.66001677e-04, 1.36824757e-05,\n",
       "       1.27292465e-01, 9.57389423e-04, 5.09547961e-06, 2.43338641e-09,\n",
       "       1.06535525e-05, 1.13752588e-05, 1.96620735e-06, 2.49730293e-06,\n",
       "       0.00000000e+00, 0.00000000e+00, 1.62888466e-05, 1.95555789e-01,\n",
       "       1.10363332e-01, 4.85717378e-03, 2.10793354e-03, 1.82960546e-03,\n",
       "       1.85301331e-03, 7.65582871e-02, 9.16699276e-03, 1.37252872e-03,\n",
       "       2.95075575e-02, 3.36137293e-03, 7.04669582e-03, 9.53503586e-02,\n",
       "       2.26836179e-03, 5.05127778e-03, 8.35487666e-03, 3.37864036e-03,\n",
       "       5.03475947e-04, 9.38956746e-03, 3.31387796e-02, 2.95219022e-04,\n",
       "       5.17461577e-03, 9.14061070e-07, 1.31125491e-06, 0.00000000e+00,\n",
       "       0.00000000e+00, 3.22106185e-06, 0.00000000e+00, 0.00000000e+00,\n",
       "       0.00000000e+00, 1.97082097e-08, 1.44270229e-06, 0.00000000e+00,\n",
       "       7.05533397e-06, 1.11885237e-03, 3.51465114e-07, 4.51760859e-03,\n",
       "       3.33167434e-02, 0.00000000e+00, 9.90193692e-09, 2.24543686e-05,\n",
       "       3.91935163e-05, 2.75304193e-03, 1.84628436e-06, 3.59073348e-07,\n",
       "       5.91869478e-02, 0.00000000e+00, 8.78575074e-07, 0.00000000e+00,\n",
       "       3.05711773e-06, 1.15522597e-09, 0.00000000e+00, 7.81703452e-13,\n",
       "       0.00000000e+00, 3.50729058e-06, 0.00000000e+00, 4.09312068e-06,\n",
       "       2.35627891e-07, 3.44847338e-09, 3.26770668e-07, 9.54047780e-10,\n",
       "       2.37544438e-07, 6.93366890e-09, 1.30250600e-06, 1.10673987e-08,\n",
       "       7.53051282e-03, 1.73642531e-06, 4.13291225e-07, 4.08428271e-06,\n",
       "       0.00000000e+00, 3.23287032e-04, 0.00000000e+00, 2.63139042e-06,\n",
       "       5.61794757e-06, 3.57498190e-07, 1.50586923e-02, 2.36147499e-06,\n",
       "       1.38969008e-06, 1.85959091e-06, 1.03088349e-07, 1.76671904e-13,\n",
       "       7.81362956e-06, 5.60190886e-09, 3.10613110e-06, 2.21453776e-06,\n",
       "       5.33309873e-07, 1.38521024e-05, 4.27583640e-09, 2.58543825e-07,\n",
       "       0.00000000e+00, 3.04363537e-07, 7.80952094e-06, 1.29307867e-04,\n",
       "       6.55845452e-06, 1.70134812e-06, 1.21431451e-03, 6.53206247e-03,\n",
       "       3.92839299e-05, 8.57187160e-07, 4.35958853e-07, 7.25884471e-04,\n",
       "       9.29259304e-05])"
      ]
     },
     "execution_count": 79,
     "metadata": {},
     "output_type": "execute_result"
    }
   ],
   "source": [
    "clf_rf.feature_importances_"
   ]
  },
  {
   "cell_type": "markdown",
   "metadata": {},
   "source": [
    "Given an array, it is possible to find the index of the maximum with `argmax`, provided by numpy."
   ]
  },
  {
   "cell_type": "code",
   "execution_count": 80,
   "metadata": {},
   "outputs": [],
   "source": [
    "importances = clf_rf.feature_importances_\n",
    "max_idx = np.argmax(importances)"
   ]
  },
  {
   "cell_type": "code",
   "execution_count": 81,
   "metadata": {},
   "outputs": [
    {
     "data": {
      "text/plain": [
       "'count'"
      ]
     },
     "execution_count": 81,
     "metadata": {},
     "output_type": "execute_result"
    }
   ],
   "source": [
    "X_train.columns[max_idx]"
   ]
  },
  {
   "cell_type": "markdown",
   "metadata": {},
   "source": [
    "<div class=\"alert alert-block alert-danger\">\n",
    "<b>Q: Focus on the least important features: look at their distribution, their max values, etc. Is there anything strange with them?</b>\n",
    "</div>\n",
    "\n",
    "You can use `np.argmin` to find the index of the least important feature."
   ]
  },
  {
   "cell_type": "code",
   "execution_count": 82,
   "metadata": {},
   "outputs": [],
   "source": [
    "importances = clf_rf.feature_importances_\n",
    "min_idx = np.argmin(importances)"
   ]
  },
  {
   "cell_type": "code",
   "execution_count": 83,
   "metadata": {},
   "outputs": [
    {
     "data": {
      "text/plain": [
       "'num_outbound_cmds'"
      ]
     },
     "execution_count": 83,
     "metadata": {},
     "output_type": "execute_result"
    }
   ],
   "source": [
    "X_train.columns[min_idx]"
   ]
  },
  {
   "cell_type": "markdown",
   "metadata": {},
   "source": [
    "<div class=\"alert alert-block alert-danger\">\n",
    "<b>Q: Try to remove the least important features (you can try removing different numbers of features) and see how the performance changes. Try also removing the most important features. Observe how the features' importance changes in each situation. Lastly, do not limit this analysis to the Random Forest, but try to do the same with the other models as well.</b>\n",
    "</div>"
   ]
  },
  {
   "cell_type": "markdown",
   "metadata": {},
   "source": [
    "Here I create I dictionary that associates to each feature his importance as obtained from the RandomForest."
   ]
  },
  {
   "cell_type": "code",
   "execution_count": 84,
   "metadata": {},
   "outputs": [],
   "source": [
    "feature_importances_dict = dict()\n",
    "for idx in range(len(X_train.columns)):\n",
    "    feature_importances_dict[X_train.columns[idx]] = importances[idx]"
   ]
  },
  {
   "cell_type": "code",
   "execution_count": 85,
   "metadata": {},
   "outputs": [
    {
     "data": {
      "text/plain": [
       "{'duration': 0.02497836939867357,\n",
       " 'src_bytes': 0.07867199696743044,\n",
       " 'dst_bytes': 0.027996103472112698,\n",
       " 'land': 3.999858093965659e-06,\n",
       " 'wrong_fragment': 0.0004884719652679889,\n",
       " 'urgent': 8.698400822888515e-07,\n",
       " 'hot': 0.0003660016765998213,\n",
       " 'num_failed_logins': 1.3682475711805469e-05,\n",
       " 'logged_in': 0.12729246506051473,\n",
       " 'num_compromised': 0.0009573894234668866,\n",
       " 'root_shell': 5.095479611377647e-06,\n",
       " 'su_attempted': 2.4333864087901366e-09,\n",
       " 'num_root': 1.0653552495647344e-05,\n",
       " 'num_file_creations': 1.1375258847366232e-05,\n",
       " 'num_shells': 1.966207350195493e-06,\n",
       " 'num_access_files': 2.4973029265387215e-06,\n",
       " 'num_outbound_cmds': 0.0,\n",
       " 'is_host_login': 0.0,\n",
       " 'is_guest_login': 1.6288846604956262e-05,\n",
       " 'count': 0.19555578906870275,\n",
       " 'srv_count': 0.11036333195098395,\n",
       " 'serror_rate': 0.004857173775372635,\n",
       " 'srv_serror_rate': 0.0021079335406117856,\n",
       " 'rerror_rate': 0.001829605461191011,\n",
       " 'srv_rerror_rate': 0.001853013314799317,\n",
       " 'same_srv_rate': 0.07655828705942423,\n",
       " 'diff_srv_rate': 0.009166992761633262,\n",
       " 'srv_diff_host_rate': 0.0013725287240880539,\n",
       " 'dst_host_count': 0.02950755745947395,\n",
       " 'dst_host_srv_count': 0.003361372927238046,\n",
       " 'dst_host_same_srv_rate': 0.007046695815355021,\n",
       " 'dst_host_diff_srv_rate': 0.0953503586261555,\n",
       " 'dst_host_same_src_port_rate': 0.002268361790586723,\n",
       " 'dst_host_srv_diff_host_rate': 0.005051277784436747,\n",
       " 'dst_host_serror_rate': 0.008354876655839168,\n",
       " 'dst_host_srv_serror_rate': 0.0033786403648515444,\n",
       " 'dst_host_rerror_rate': 0.0005034759466459463,\n",
       " 'dst_host_srv_rerror_rate': 0.009389567462176226,\n",
       " 'protocol_type_icmp': 0.03313877961046756,\n",
       " 'protocol_type_tcp': 0.00029521902213083633,\n",
       " 'protocol_type_udp': 0.005174615768393094,\n",
       " 'service_IRC': 9.14061069978293e-07,\n",
       " 'service_X11': 1.3112549140635908e-06,\n",
       " 'service_Z39_50': 0.0,\n",
       " 'service_aol': 0.0,\n",
       " 'service_auth': 3.221061845229783e-06,\n",
       " 'service_bgp': 0.0,\n",
       " 'service_courier': 0.0,\n",
       " 'service_csnet_ns': 0.0,\n",
       " 'service_ctf': 1.9708209670702437e-08,\n",
       " 'service_daytime': 1.442702289310632e-06,\n",
       " 'service_discard': 0.0,\n",
       " 'service_domain': 7.0553339705694495e-06,\n",
       " 'service_domain_u': 0.001118852370803614,\n",
       " 'service_echo': 3.514651144913159e-07,\n",
       " 'service_eco_i': 0.004517608586840619,\n",
       " 'service_ecr_i': 0.033316743422906955,\n",
       " 'service_efs': 0.0,\n",
       " 'service_exec': 9.901936916483319e-09,\n",
       " 'service_finger': 2.245436863264651e-05,\n",
       " 'service_ftp': 3.919351630309818e-05,\n",
       " 'service_ftp_data': 0.002753041928555058,\n",
       " 'service_gopher': 1.846284363223681e-06,\n",
       " 'service_hostnames': 3.5907334846326526e-07,\n",
       " 'service_http': 0.05918694777789563,\n",
       " 'service_http_2784': 0.0,\n",
       " 'service_http_443': 8.785750737967548e-07,\n",
       " 'service_http_8001': 0.0,\n",
       " 'service_imap4': 3.0571177280819007e-06,\n",
       " 'service_iso_tsap': 1.1552259735894086e-09,\n",
       " 'service_klogin': 0.0,\n",
       " 'service_kshell': 7.817034522676195e-13,\n",
       " 'service_ldap': 0.0,\n",
       " 'service_link': 3.5072905823281984e-06,\n",
       " 'service_login': 0.0,\n",
       " 'service_mtp': 4.093120675992841e-06,\n",
       " 'service_name': 2.356278911029051e-07,\n",
       " 'service_netbios_dgm': 3.4484733752726594e-09,\n",
       " 'service_netbios_ns': 3.267706680305418e-07,\n",
       " 'service_netbios_ssn': 9.540477800352938e-10,\n",
       " 'service_netstat': 2.3754443758253738e-07,\n",
       " 'service_nnsp': 6.933668898717783e-09,\n",
       " 'service_nntp': 1.302505999899772e-06,\n",
       " 'service_ntp_u': 1.1067398663559412e-08,\n",
       " 'service_other': 0.007530512819973814,\n",
       " 'service_pm_dump': 1.7364253098631827e-06,\n",
       " 'service_pop_2': 4.13291224949157e-07,\n",
       " 'service_pop_3': 4.084282710538478e-06,\n",
       " 'service_printer': 0.0,\n",
       " 'service_private': 0.0003232870317869618,\n",
       " 'service_red_i': 0.0,\n",
       " 'service_remote_job': 2.631390418825181e-06,\n",
       " 'service_rje': 5.617947574238154e-06,\n",
       " 'service_shell': 3.574981901887719e-07,\n",
       " 'service_smtp': 0.01505869228667478,\n",
       " 'service_sql_net': 2.3614749878496293e-06,\n",
       " 'service_ssh': 1.3896900818092937e-06,\n",
       " 'service_sunrpc': 1.8595909108257045e-06,\n",
       " 'service_supdup': 1.03088348660277e-07,\n",
       " 'service_systat': 1.766719037337787e-13,\n",
       " 'service_telnet': 7.813629562806183e-06,\n",
       " 'service_tftp_u': 5.601908858007349e-09,\n",
       " 'service_tim_i': 3.106131096375715e-06,\n",
       " 'service_time': 2.214537756900134e-06,\n",
       " 'service_urh_i': 5.333098731975902e-07,\n",
       " 'service_urp_i': 1.3852102419438275e-05,\n",
       " 'service_uucp': 4.2758363957544886e-09,\n",
       " 'service_uucp_path': 2.585438252549276e-07,\n",
       " 'service_vmnet': 0.0,\n",
       " 'service_whois': 3.043635365084428e-07,\n",
       " 'flag_OTH': 7.809520941096917e-06,\n",
       " 'flag_REJ': 0.00012930786677514425,\n",
       " 'flag_RSTO': 6.558454515262055e-06,\n",
       " 'flag_RSTOS0': 1.7013481231776678e-06,\n",
       " 'flag_RSTR': 0.0012143145078750725,\n",
       " 'flag_S0': 0.006532062469260568,\n",
       " 'flag_S1': 3.928392992052632e-05,\n",
       " 'flag_S2': 8.571871600767838e-07,\n",
       " 'flag_S3': 4.35958853436054e-07,\n",
       " 'flag_SF': 0.0007258844706529445,\n",
       " 'flag_SH': 9.292593035028723e-05}"
      ]
     },
     "execution_count": 85,
     "metadata": {},
     "output_type": "execute_result"
    }
   ],
   "source": [
    "feature_importances_dict"
   ]
  },
  {
   "cell_type": "code",
   "execution_count": 86,
   "metadata": {},
   "outputs": [
    {
     "name": "stderr",
     "output_type": "stream",
     "text": [
      "/home/luca/anaconda3/lib/python3.7/site-packages/sklearn/ensemble/forest.py:246: FutureWarning: The default value of n_estimators will change from 10 in version 0.20 to 100 in 0.22.\n",
      "  \"10 in version 0.20 to 100 in 0.22.\", FutureWarning)\n"
     ]
    },
    {
     "name": "stdout",
     "output_type": "stream",
     "text": [
      "elapsed time = 980.79\n",
      "0.999921743686757\n"
     ]
    }
   ],
   "source": [
    "# this is the \"original\" one\n",
    "clf_rf = RandomForestClassifier()\n",
    "clf_rf.fit(X_train, y_train)\n",
    "print(\"elapsed time = %.2f\" % (time.time()-t0))\n",
    "print(accuracy_score(clf_rf.predict(X_test), y_test))"
   ]
  },
  {
   "cell_type": "code",
   "execution_count": 87,
   "metadata": {},
   "outputs": [
    {
     "name": "stdout",
     "output_type": "stream",
     "text": [
      "elapsed time = 18.70\n",
      "0.9999268473593598\n"
     ]
    }
   ],
   "source": [
    "# Dropping the \"most important\" \n",
    "t0 = time.time()\n",
    "new_X_train = X_train.drop(X_train.columns[max_idx], axis=1)\n",
    "new_X_test = X_test.drop(X_train.columns[max_idx], axis=1)\n",
    "clf_rf.fit(new_X_train, y_train)\n",
    "print(\"elapsed time = %.2f\" % (time.time()-t0))\n",
    "print(accuracy_score(clf_rf.predict(new_X_test), y_test))"
   ]
  },
  {
   "cell_type": "code",
   "execution_count": 88,
   "metadata": {},
   "outputs": [
    {
     "name": "stdout",
     "output_type": "stream",
     "text": [
      "elapsed time = 18.99\n",
      "0.9837941382618932\n"
     ]
    }
   ],
   "source": [
    "# keeping only the \"most important\" \n",
    "t0 = time.time()\n",
    "new_X_train = X_train[[X_train.columns[max_idx]]]\n",
    "new_X_test = X_test[[X_train.columns[max_idx]]]\n",
    "clf_rf.fit(new_X_train, y_train)\n",
    "print(\"elapsed time = %.2f\" % (time.time()-t0))\n",
    "print(accuracy_score(clf_rf.predict(new_X_test), y_test))"
   ]
  },
  {
   "cell_type": "code",
   "execution_count": 89,
   "metadata": {
    "scrolled": true
   },
   "outputs": [
    {
     "name": "stdout",
     "output_type": "stream",
     "text": [
      "elapsed time = 21.27\n",
      "0.9999013289963458\n"
     ]
    }
   ],
   "source": [
    "# dropping the least important\n",
    "t0 = time.time()\n",
    "new_X_train = X_train.drop(X_train.columns[min_idx], axis=1)\n",
    "new_X_test = X_test.drop(X_train.columns[min_idx], axis=1)\n",
    "clf_rf.fit(new_X_train, y_train)\n",
    "print(\"elapsed time = %.2f\" % (time.time()-t0))\n",
    "print(accuracy_score(clf_rf.predict(new_X_test), y_test))"
   ]
  },
  {
   "cell_type": "code",
   "execution_count": 90,
   "metadata": {},
   "outputs": [
    {
     "name": "stdout",
     "output_type": "stream",
     "text": [
      "elapsed time = 3.76\n",
      "0.7926173674576225\n"
     ]
    }
   ],
   "source": [
    "# keeping only the \"least important\" \n",
    "t0 = time.time()\n",
    "new_X_train = X_train[[X_train.columns[min_idx]]]\n",
    "new_X_test = X_test[[X_train.columns[min_idx]]]\n",
    "clf_rf.fit(new_X_train, y_train)\n",
    "print(\"elapsed time = %.2f\" % (time.time()-t0))\n",
    "print(accuracy_score(clf_rf.predict(new_X_test), y_test))"
   ]
  },
  {
   "cell_type": "markdown",
   "metadata": {},
   "source": [
    "<div class=\"alert alert-block alert-info\">\n",
    "As you can see from this resutls, it is not easy to understand the importance of each feature.\n",
    "You have to tinker with the features (by dropping them, combining them, using only some of them, etc.) in order to really understand their effect.\n",
    "    \n",
    "This, indeed, is one of the most time consuming phases when creating a model for addressing a real problem.\n",
    "</div>"
   ]
  },
  {
   "cell_type": "markdown",
   "metadata": {},
   "source": [
    "---"
   ]
  }
 ],
 "metadata": {
  "kernelspec": {
   "display_name": "Python 3",
   "language": "python",
   "name": "python3"
  },
  "language_info": {
   "codemirror_mode": {
    "name": "ipython",
    "version": 3
   },
   "file_extension": ".py",
   "mimetype": "text/x-python",
   "name": "python",
   "nbconvert_exporter": "python",
   "pygments_lexer": "ipython3",
   "version": "3.7.1"
  }
 },
 "nbformat": 4,
 "nbformat_minor": 2
}

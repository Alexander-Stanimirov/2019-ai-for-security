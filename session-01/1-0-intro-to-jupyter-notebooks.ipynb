{
 "cells": [
  {
   "cell_type": "markdown",
   "metadata": {},
   "source": [
    "# 1.0 - A (very short) introduction to `Jupyter` notebooks\n",
    "\n",
    "---\n",
    "\n",
    "You can find many detailed introductions online (e.g. https://realpython.com/jupyter-notebook-introduction/)\n",
    "\n",
    "## Installation\n",
    "\n",
    "- `pip install jupyter`\n",
    "- comes preinstalled with the Anaconda python distribution\n",
    "\n",
    "## Launching the jupyter server\n",
    "\n",
    "Depends on how you installed it:\n",
    "\n",
    "- From command line:\n",
    "  - open terminal\n",
    "  - `jupyter notebook`\n",
    "\n",
    "\n",
    "- From Anaconda Navigator:\n",
    "  - open Anaconda Navigator\n",
    "  - Launch jupyter\n",
    "\n",
    "\n",
    "- you will see an interface like this: <img src=\"images/jupyter-initial-screenshot.png\" style=\"width: 800px;\">\n",
    "\n",
    "## Creating a notebook\n",
    "\n",
    "- go to `New`\n",
    "- choose the version of Python to use (you should go for Python3)\n",
    "- ... and then you're done!\n",
    "\n",
    "---"
   ]
  },
  {
   "cell_type": "markdown",
   "metadata": {},
   "source": [
    "## Cell types\n",
    "\n",
    "There are two types of cells.\n",
    "- **Markdown**\n",
    "- **Code**"
   ]
  },
  {
   "cell_type": "markdown",
   "metadata": {},
   "source": [
    "### Markdown cells\n",
    "\n",
    "Jupyter notebook supports `Markdown`, which is a markup language that is a superset of HTML.\n",
    "\n",
    "Below are some examples of commands to style your notebook:"
   ]
  },
  {
   "cell_type": "markdown",
   "metadata": {},
   "source": [
    "---\n",
    "\n",
    "# Headers\n",
    "## Header2\n",
    "### Header3\n",
    "#### Header4\n",
    "\n",
    "---\n",
    "\n",
    "Lists:\n",
    "- item 1\n",
    "- item 2\n",
    "- item 3\n",
    "    - item 3.1\n",
    "        - item 3.1.1\n",
    "        - item 3.1.2\n",
    "    - item 3.1\n",
    "    \n",
    "---\n",
    "\n",
    "Code examples:\n",
    "\n",
    "```python\n",
    "print(\"Hello world\")\n",
    "```\n",
    "\n",
    "---"
   ]
  },
  {
   "cell_type": "markdown",
   "metadata": {},
   "source": [
    "### Code cells"
   ]
  },
  {
   "cell_type": "code",
   "execution_count": null,
   "metadata": {
    "scrolled": true
   },
   "outputs": [],
   "source": [
    "print(\"Hello world\")"
   ]
  },
  {
   "cell_type": "code",
   "execution_count": null,
   "metadata": {},
   "outputs": [],
   "source": [
    "print(\"Hello Jupyter\")"
   ]
  },
  {
   "cell_type": "markdown",
   "metadata": {},
   "source": [
    "The variables defined in one cell can be used in others!"
   ]
  },
  {
   "cell_type": "code",
   "execution_count": null,
   "metadata": {},
   "outputs": [],
   "source": [
    "print(a)"
   ]
  },
  {
   "cell_type": "code",
   "execution_count": null,
   "metadata": {},
   "outputs": [],
   "source": [
    "a = 1"
   ]
  },
  {
   "cell_type": "code",
   "execution_count": null,
   "metadata": {},
   "outputs": [],
   "source": [
    "print(a)"
   ]
  }
 ],
 "metadata": {
  "kernelspec": {
   "display_name": "Python 3",
   "language": "python",
   "name": "python3"
  },
  "language_info": {
   "codemirror_mode": {
    "name": "ipython",
    "version": 3
   },
   "file_extension": ".py",
   "mimetype": "text/x-python",
   "name": "python",
   "nbconvert_exporter": "python",
   "pygments_lexer": "ipython3",
   "version": "3.7.1"
  }
 },
 "nbformat": 4,
 "nbformat_minor": 2
}

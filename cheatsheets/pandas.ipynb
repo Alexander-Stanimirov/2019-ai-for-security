{
 "cells": [
  {
   "cell_type": "markdown",
   "metadata": {},
   "source": [
    "# Pandas\n",
    "\n",
    "Useful links:\n",
    "- [DOCUMENTATION HOME PAGE](https://pandas.pydata.org/pandas-docs/stable/)\n",
    "- [API REFERENCE](https://pandas.pydata.org/pandas-docs/stable/reference/index.html)\n",
    "\n",
    "IMPORTANT: this is **not** a comprehensive list."
   ]
  },
  {
   "cell_type": "markdown",
   "metadata": {},
   "source": [
    "## Functions\n",
    "\n",
    "- **get_dummies** [doc](https://pandas.pydata.org/pandas-docs/stable/reference/api/pandas.get_dummies.html): Convert categorical variable into dummy/indicator variables\n",
    "- **read_csv**: import a DataFrame from a .csv file"
   ]
  },
  {
   "cell_type": "markdown",
   "metadata": {},
   "source": [
    "## `DataFrame` class\n",
    "[DOCUMENTATION](https://pandas.pydata.org/pandas-docs/stable/reference/api/pandas.DataFrame.html)\n",
    "\n",
    "### Some useful methods\n",
    "- **append**: Append rows to the end of the dataframe returning a new object.\n",
    "- **apply**: Apply a function along an axis of the DataFrame.\n",
    "- **copy**: Make a copy of this object’s indices and data.\n",
    "- **count**: Count non-NA cells for each column or row.\n",
    "- **describe**: Generate descriptive statistics about the dataframe, excluding NaN values.\n",
    "- **drop**: Drop specified labels from rows or columns.\n",
    "- **drop_duplicates**: Return DataFrame with duplicate rows removed, optionally only considering certain columns.\n",
    "- **groupby**: Group DataFrame or Series using a mapper or by a Series of columns.\n",
    "- **head**: Return the first n rows.\n",
    "- **info**: Print a concise summary of a DataFrame.\n",
    "- **max**: Return the maximum of the values for the requested axis.\n",
    "- **mean**: Return the mean of the values for the requested axis.\n",
    "- **median**: Return the median of the values for the requested axis.\n",
    "- **merge**: Merge DataFrame or named Series objects with a database-style join.\n",
    "- **min**: Return the minimum of the values for the requested axis.\n",
    "- **rename**: Alter axes labels.\n",
    "- **reset_index**: Reset the index, or a level of it.\n",
    "- **sample**: Return a random sample of items from an axis of object.\n",
    "- **sort_values**: Sort by the values along either axis.\n",
    "- **tail**: Return the last n rows.\n",
    "- **to_csv**: Write object to a comma-separated values (csv) file.\n",
    "\n",
    "\n",
    "### Some useful attributes\n",
    "- **columns**: The column labels of the DataFrame.\n",
    "- **index**: The index (row labels) of the DataFrame.\n",
    "- **shape**: Return a tuple representing the dimensionality of the DataFrame.\n",
    "- **size**: Return an int representing the number of elements in this object.\n",
    "- **values**: Return a Numpy representation of the DataFrame.\n",
    "\n",
    "### Others...\n",
    "- **selecting one or more columns**: can be done with square brackets and the name of the columns withing the brackets. In case several columns are accessed, double square brackets are needed."
   ]
  },
  {
   "cell_type": "markdown",
   "metadata": {},
   "source": [
    "## `Series` class\n",
    "[DOCUMENTATION](https://pandas.pydata.org/pandas-docs/stable/reference/api/pandas.Series.html#pandas.Series)\n",
    "\n",
    "Series objects are \"One-dimensional ndarray with axis labels\" and, most of the times, you will be dealing with them as output of some operations performed on a DataFrame.\n",
    "For instance, when you do `my_df['column_name']` the created object is a Series.\n",
    "\n",
    "If you are wondering what's the difference between a one column DF and a Series object, you can find a good answer [here](https://stackoverflow.com/questions/26047209/what-is-the-difference-between-a-pandas-series-and-a-single-column-dataframe/): \"*the Series is the data structure for a single column of a DataFrame*\"\n",
    "\n",
    "### Some useful methods\n",
    "- **max**: Return the maximum of the values for the requested axis.\n",
    "- **mean**: Return the mean of the values for the requested axis.\n",
    "- **median**: Return the median of the values for the requested axis.\n",
    "- **memory_usage**: Return the memory usage of the Series.\n",
    "- **min**: Return the minimum of the values for the requested axis.\n",
    "- **unique**: Return unique values of Series object."
   ]
  }
 ],
 "metadata": {
  "kernelspec": {
   "display_name": "Python 3",
   "language": "python",
   "name": "python3"
  },
  "language_info": {
   "codemirror_mode": {
    "name": "ipython",
    "version": 3
   },
   "file_extension": ".py",
   "mimetype": "text/x-python",
   "name": "python",
   "nbconvert_exporter": "python",
   "pygments_lexer": "ipython3",
   "version": "3.7.1"
  }
 },
 "nbformat": 4,
 "nbformat_minor": 2
}
